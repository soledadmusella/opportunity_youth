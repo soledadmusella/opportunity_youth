{
 "cells": [
  {
   "cell_type": "code",
   "execution_count": 123,
   "metadata": {
    "ExecuteTime": {
     "end_time": "2020-03-03T14:17:03.094964Z",
     "start_time": "2020-03-03T14:17:03.088752Z"
    }
   },
   "outputs": [],
   "source": [
    "%matplotlib inline"
   ]
  },
  {
   "cell_type": "code",
   "execution_count": 124,
   "metadata": {
    "ExecuteTime": {
     "end_time": "2020-03-03T14:17:03.108128Z",
     "start_time": "2020-03-03T14:17:03.099266Z"
    }
   },
   "outputs": [],
   "source": [
    "import pandas as pd\n"
   ]
  },
  {
   "cell_type": "code",
   "execution_count": 152,
   "metadata": {
    "ExecuteTime": {
     "end_time": "2020-03-03T15:06:55.478499Z",
     "start_time": "2020-03-03T15:06:55.317125Z"
    }
   },
   "outputs": [
    {
     "name": "stdout",
     "output_type": "stream",
     "text": [
      "/Users/soledadmusella/Desktop/mod_1_project/opportunity_youth/notebooks\r\n"
     ]
    }
   ],
   "source": [
    "!pwd"
   ]
  },
  {
   "cell_type": "code",
   "execution_count": 125,
   "metadata": {
    "ExecuteTime": {
     "end_time": "2020-03-03T14:17:03.304960Z",
     "start_time": "2020-03-03T14:17:03.113926Z"
    }
   },
   "outputs": [],
   "source": [
    "df = pd.read_csv(\"kingcounty.csv\")"
   ]
  },
  {
   "cell_type": "code",
   "execution_count": 126,
   "metadata": {
    "ExecuteTime": {
     "end_time": "2020-03-03T14:17:03.313061Z",
     "start_time": "2020-03-03T14:17:03.307314Z"
    }
   },
   "outputs": [
    {
     "data": {
      "text/plain": [
       "(8915, 43)"
      ]
     },
     "execution_count": 126,
     "metadata": {},
     "output_type": "execute_result"
    }
   ],
   "source": [
    "df.shape"
   ]
  },
  {
   "cell_type": "code",
   "execution_count": 127,
   "metadata": {
    "ExecuteTime": {
     "end_time": "2020-03-03T14:17:03.358043Z",
     "start_time": "2020-03-03T14:17:03.319033Z"
    }
   },
   "outputs": [
    {
     "data": {
      "text/html": [
       "<div>\n",
       "<style scoped>\n",
       "    .dataframe tbody tr th:only-of-type {\n",
       "        vertical-align: middle;\n",
       "    }\n",
       "\n",
       "    .dataframe tbody tr th {\n",
       "        vertical-align: top;\n",
       "    }\n",
       "\n",
       "    .dataframe thead th {\n",
       "        text-align: right;\n",
       "    }\n",
       "</style>\n",
       "<table border=\"1\" class=\"dataframe\">\n",
       "  <thead>\n",
       "    <tr style=\"text-align: right;\">\n",
       "      <th></th>\n",
       "      <th>tabblk2010</th>\n",
       "      <th>st</th>\n",
       "      <th>stusps</th>\n",
       "      <th>stname</th>\n",
       "      <th>cty</th>\n",
       "      <th>ctyname</th>\n",
       "      <th>trct</th>\n",
       "      <th>trctname</th>\n",
       "      <th>bgrp</th>\n",
       "      <th>bgrpname</th>\n",
       "      <th>...</th>\n",
       "      <th>stanrcname</th>\n",
       "      <th>necta</th>\n",
       "      <th>nectname</th>\n",
       "      <th>mil</th>\n",
       "      <th>milname</th>\n",
       "      <th>stwib</th>\n",
       "      <th>stwibname</th>\n",
       "      <th>blklatdd</th>\n",
       "      <th>blklondd</th>\n",
       "      <th>createdate</th>\n",
       "    </tr>\n",
       "  </thead>\n",
       "  <tbody>\n",
       "    <tr>\n",
       "      <th>0</th>\n",
       "      <td>530330311004021</td>\n",
       "      <td>53</td>\n",
       "      <td>WA</td>\n",
       "      <td>Washington                                    ...</td>\n",
       "      <td>53033</td>\n",
       "      <td>King County, WA                               ...</td>\n",
       "      <td>53033031100</td>\n",
       "      <td>311 (King, WA)                                ...</td>\n",
       "      <td>530330311004</td>\n",
       "      <td>4 (Tract 311, King, WA)                       ...</td>\n",
       "      <td>...</td>\n",
       "      <td>NaN</td>\n",
       "      <td>99999</td>\n",
       "      <td>NaN</td>\n",
       "      <td>NaN</td>\n",
       "      <td>NaN</td>\n",
       "      <td>53000005</td>\n",
       "      <td>05 Seattle/King County WIB                    ...</td>\n",
       "      <td>47.293068</td>\n",
       "      <td>-122.209781</td>\n",
       "      <td>2019-08-26</td>\n",
       "    </tr>\n",
       "    <tr>\n",
       "      <th>1</th>\n",
       "      <td>530330311004020</td>\n",
       "      <td>53</td>\n",
       "      <td>WA</td>\n",
       "      <td>Washington                                    ...</td>\n",
       "      <td>53033</td>\n",
       "      <td>King County, WA                               ...</td>\n",
       "      <td>53033031100</td>\n",
       "      <td>311 (King, WA)                                ...</td>\n",
       "      <td>530330311004</td>\n",
       "      <td>4 (Tract 311, King, WA)                       ...</td>\n",
       "      <td>...</td>\n",
       "      <td>NaN</td>\n",
       "      <td>99999</td>\n",
       "      <td>NaN</td>\n",
       "      <td>NaN</td>\n",
       "      <td>NaN</td>\n",
       "      <td>53000005</td>\n",
       "      <td>05 Seattle/King County WIB                    ...</td>\n",
       "      <td>47.292507</td>\n",
       "      <td>-122.210964</td>\n",
       "      <td>2019-08-26</td>\n",
       "    </tr>\n",
       "    <tr>\n",
       "      <th>2</th>\n",
       "      <td>530330306002025</td>\n",
       "      <td>53</td>\n",
       "      <td>WA</td>\n",
       "      <td>Washington                                    ...</td>\n",
       "      <td>53033</td>\n",
       "      <td>King County, WA                               ...</td>\n",
       "      <td>53033030600</td>\n",
       "      <td>306 (King, WA)                                ...</td>\n",
       "      <td>530330306002</td>\n",
       "      <td>2 (Tract 306, King, WA)                       ...</td>\n",
       "      <td>...</td>\n",
       "      <td>NaN</td>\n",
       "      <td>99999</td>\n",
       "      <td>NaN</td>\n",
       "      <td>NaN</td>\n",
       "      <td>NaN</td>\n",
       "      <td>53000005</td>\n",
       "      <td>05 Seattle/King County WIB                    ...</td>\n",
       "      <td>47.301755</td>\n",
       "      <td>-122.196667</td>\n",
       "      <td>2019-08-26</td>\n",
       "    </tr>\n",
       "    <tr>\n",
       "      <th>3</th>\n",
       "      <td>530330305012016</td>\n",
       "      <td>53</td>\n",
       "      <td>WA</td>\n",
       "      <td>Washington                                    ...</td>\n",
       "      <td>53033</td>\n",
       "      <td>King County, WA                               ...</td>\n",
       "      <td>53033030501</td>\n",
       "      <td>305.01 (King, WA)                             ...</td>\n",
       "      <td>530330305012</td>\n",
       "      <td>2 (Tract 305.01, King, WA)                    ...</td>\n",
       "      <td>...</td>\n",
       "      <td>NaN</td>\n",
       "      <td>99999</td>\n",
       "      <td>NaN</td>\n",
       "      <td>NaN</td>\n",
       "      <td>NaN</td>\n",
       "      <td>53000005</td>\n",
       "      <td>05 Seattle/King County WIB                    ...</td>\n",
       "      <td>47.311107</td>\n",
       "      <td>-122.227230</td>\n",
       "      <td>2019-08-26</td>\n",
       "    </tr>\n",
       "    <tr>\n",
       "      <th>4</th>\n",
       "      <td>530330305012019</td>\n",
       "      <td>53</td>\n",
       "      <td>WA</td>\n",
       "      <td>Washington                                    ...</td>\n",
       "      <td>53033</td>\n",
       "      <td>King County, WA                               ...</td>\n",
       "      <td>53033030501</td>\n",
       "      <td>305.01 (King, WA)                             ...</td>\n",
       "      <td>530330305012</td>\n",
       "      <td>2 (Tract 305.01, King, WA)                    ...</td>\n",
       "      <td>...</td>\n",
       "      <td>NaN</td>\n",
       "      <td>99999</td>\n",
       "      <td>NaN</td>\n",
       "      <td>NaN</td>\n",
       "      <td>NaN</td>\n",
       "      <td>53000005</td>\n",
       "      <td>05 Seattle/King County WIB                    ...</td>\n",
       "      <td>47.310999</td>\n",
       "      <td>-122.229889</td>\n",
       "      <td>2019-08-26</td>\n",
       "    </tr>\n",
       "  </tbody>\n",
       "</table>\n",
       "<p>5 rows × 43 columns</p>\n",
       "</div>"
      ],
      "text/plain": [
       "        tabblk2010  st stusps  \\\n",
       "0  530330311004021  53     WA   \n",
       "1  530330311004020  53     WA   \n",
       "2  530330306002025  53     WA   \n",
       "3  530330305012016  53     WA   \n",
       "4  530330305012019  53     WA   \n",
       "\n",
       "                                              stname    cty  \\\n",
       "0  Washington                                    ...  53033   \n",
       "1  Washington                                    ...  53033   \n",
       "2  Washington                                    ...  53033   \n",
       "3  Washington                                    ...  53033   \n",
       "4  Washington                                    ...  53033   \n",
       "\n",
       "                                             ctyname         trct  \\\n",
       "0  King County, WA                               ...  53033031100   \n",
       "1  King County, WA                               ...  53033031100   \n",
       "2  King County, WA                               ...  53033030600   \n",
       "3  King County, WA                               ...  53033030501   \n",
       "4  King County, WA                               ...  53033030501   \n",
       "\n",
       "                                            trctname          bgrp  \\\n",
       "0  311 (King, WA)                                ...  530330311004   \n",
       "1  311 (King, WA)                                ...  530330311004   \n",
       "2  306 (King, WA)                                ...  530330306002   \n",
       "3  305.01 (King, WA)                             ...  530330305012   \n",
       "4  305.01 (King, WA)                             ...  530330305012   \n",
       "\n",
       "                                            bgrpname     ...      stanrcname  \\\n",
       "0  4 (Tract 311, King, WA)                       ...     ...             NaN   \n",
       "1  4 (Tract 311, King, WA)                       ...     ...             NaN   \n",
       "2  2 (Tract 306, King, WA)                       ...     ...             NaN   \n",
       "3  2 (Tract 305.01, King, WA)                    ...     ...             NaN   \n",
       "4  2 (Tract 305.01, King, WA)                    ...     ...             NaN   \n",
       "\n",
       "   necta  nectname  mil  milname     stwib  \\\n",
       "0  99999       NaN  NaN      NaN  53000005   \n",
       "1  99999       NaN  NaN      NaN  53000005   \n",
       "2  99999       NaN  NaN      NaN  53000005   \n",
       "3  99999       NaN  NaN      NaN  53000005   \n",
       "4  99999       NaN  NaN      NaN  53000005   \n",
       "\n",
       "                                           stwibname   blklatdd    blklondd  \\\n",
       "0  05 Seattle/King County WIB                    ...  47.293068 -122.209781   \n",
       "1  05 Seattle/King County WIB                    ...  47.292507 -122.210964   \n",
       "2  05 Seattle/King County WIB                    ...  47.301755 -122.196667   \n",
       "3  05 Seattle/King County WIB                    ...  47.311107 -122.227230   \n",
       "4  05 Seattle/King County WIB                    ...  47.310999 -122.229889   \n",
       "\n",
       "   createdate  \n",
       "0  2019-08-26  \n",
       "1  2019-08-26  \n",
       "2  2019-08-26  \n",
       "3  2019-08-26  \n",
       "4  2019-08-26  \n",
       "\n",
       "[5 rows x 43 columns]"
      ]
     },
     "execution_count": 127,
     "metadata": {},
     "output_type": "execute_result"
    }
   ],
   "source": [
    "df.head()"
   ]
  },
  {
   "cell_type": "code",
   "execution_count": 128,
   "metadata": {
    "ExecuteTime": {
     "end_time": "2020-03-03T14:17:03.374173Z",
     "start_time": "2020-03-03T14:17:03.362425Z"
    }
   },
   "outputs": [],
   "source": [
    "import folium "
   ]
  },
  {
   "cell_type": "code",
   "execution_count": 129,
   "metadata": {
    "ExecuteTime": {
     "end_time": "2020-03-03T14:17:03.398069Z",
     "start_time": "2020-03-03T14:17:03.377802Z"
    }
   },
   "outputs": [
    {
     "data": {
      "text/html": [
       "<div style=\"width:100%;\"><div style=\"position:relative;width:100%;height:0;padding-bottom:60%;\"><iframe src=\"data:text/html;charset=utf-8;base64,PCFET0NUWVBFIGh0bWw+CjxoZWFkPiAgICAKICAgIDxtZXRhIGh0dHAtZXF1aXY9ImNvbnRlbnQtdHlwZSIgY29udGVudD0idGV4dC9odG1sOyBjaGFyc2V0PVVURi04IiAvPgogICAgCiAgICAgICAgPHNjcmlwdD4KICAgICAgICAgICAgTF9OT19UT1VDSCA9IGZhbHNlOwogICAgICAgICAgICBMX0RJU0FCTEVfM0QgPSBmYWxzZTsKICAgICAgICA8L3NjcmlwdD4KICAgIAogICAgPHNjcmlwdCBzcmM9Imh0dHBzOi8vY2RuLmpzZGVsaXZyLm5ldC9ucG0vbGVhZmxldEAxLjUuMS9kaXN0L2xlYWZsZXQuanMiPjwvc2NyaXB0PgogICAgPHNjcmlwdCBzcmM9Imh0dHBzOi8vY29kZS5qcXVlcnkuY29tL2pxdWVyeS0xLjEyLjQubWluLmpzIj48L3NjcmlwdD4KICAgIDxzY3JpcHQgc3JjPSJodHRwczovL21heGNkbi5ib290c3RyYXBjZG4uY29tL2Jvb3RzdHJhcC8zLjIuMC9qcy9ib290c3RyYXAubWluLmpzIj48L3NjcmlwdD4KICAgIDxzY3JpcHQgc3JjPSJodHRwczovL2NkbmpzLmNsb3VkZmxhcmUuY29tL2FqYXgvbGlicy9MZWFmbGV0LmF3ZXNvbWUtbWFya2Vycy8yLjAuMi9sZWFmbGV0LmF3ZXNvbWUtbWFya2Vycy5qcyI+PC9zY3JpcHQ+CiAgICA8bGluayByZWw9InN0eWxlc2hlZXQiIGhyZWY9Imh0dHBzOi8vY2RuLmpzZGVsaXZyLm5ldC9ucG0vbGVhZmxldEAxLjUuMS9kaXN0L2xlYWZsZXQuY3NzIi8+CiAgICA8bGluayByZWw9InN0eWxlc2hlZXQiIGhyZWY9Imh0dHBzOi8vbWF4Y2RuLmJvb3RzdHJhcGNkbi5jb20vYm9vdHN0cmFwLzMuMi4wL2Nzcy9ib290c3RyYXAubWluLmNzcyIvPgogICAgPGxpbmsgcmVsPSJzdHlsZXNoZWV0IiBocmVmPSJodHRwczovL21heGNkbi5ib290c3RyYXBjZG4uY29tL2Jvb3RzdHJhcC8zLjIuMC9jc3MvYm9vdHN0cmFwLXRoZW1lLm1pbi5jc3MiLz4KICAgIDxsaW5rIHJlbD0ic3R5bGVzaGVldCIgaHJlZj0iaHR0cHM6Ly9tYXhjZG4uYm9vdHN0cmFwY2RuLmNvbS9mb250LWF3ZXNvbWUvNC42LjMvY3NzL2ZvbnQtYXdlc29tZS5taW4uY3NzIi8+CiAgICA8bGluayByZWw9InN0eWxlc2hlZXQiIGhyZWY9Imh0dHBzOi8vY2RuanMuY2xvdWRmbGFyZS5jb20vYWpheC9saWJzL0xlYWZsZXQuYXdlc29tZS1tYXJrZXJzLzIuMC4yL2xlYWZsZXQuYXdlc29tZS1tYXJrZXJzLmNzcyIvPgogICAgPGxpbmsgcmVsPSJzdHlsZXNoZWV0IiBocmVmPSJodHRwczovL3Jhd2Nkbi5naXRoYWNrLmNvbS9weXRob24tdmlzdWFsaXphdGlvbi9mb2xpdW0vbWFzdGVyL2ZvbGl1bS90ZW1wbGF0ZXMvbGVhZmxldC5hd2Vzb21lLnJvdGF0ZS5jc3MiLz4KICAgIDxzdHlsZT5odG1sLCBib2R5IHt3aWR0aDogMTAwJTtoZWlnaHQ6IDEwMCU7bWFyZ2luOiAwO3BhZGRpbmc6IDA7fTwvc3R5bGU+CiAgICA8c3R5bGU+I21hcCB7cG9zaXRpb246YWJzb2x1dGU7dG9wOjA7Ym90dG9tOjA7cmlnaHQ6MDtsZWZ0OjA7fTwvc3R5bGU+CiAgICAKICAgICAgICAgICAgPG1ldGEgbmFtZT0idmlld3BvcnQiIGNvbnRlbnQ9IndpZHRoPWRldmljZS13aWR0aCwKICAgICAgICAgICAgICAgIGluaXRpYWwtc2NhbGU9MS4wLCBtYXhpbXVtLXNjYWxlPTEuMCwgdXNlci1zY2FsYWJsZT1ubyIgLz4KICAgICAgICAgICAgPHN0eWxlPgogICAgICAgICAgICAgICAgI21hcF8wM2E0OTVlMzExMzk0M2ZmYjhjZjU3MGRkZjI1ZWMzNSB7CiAgICAgICAgICAgICAgICAgICAgcG9zaXRpb246IHJlbGF0aXZlOwogICAgICAgICAgICAgICAgICAgIHdpZHRoOiAxMDAuMCU7CiAgICAgICAgICAgICAgICAgICAgaGVpZ2h0OiAxMDAuMCU7CiAgICAgICAgICAgICAgICAgICAgbGVmdDogMC4wJTsKICAgICAgICAgICAgICAgICAgICB0b3A6IDAuMCU7CiAgICAgICAgICAgICAgICB9CiAgICAgICAgICAgIDwvc3R5bGU+CiAgICAgICAgCjwvaGVhZD4KPGJvZHk+ICAgIAogICAgCiAgICAgICAgICAgIDxkaXYgY2xhc3M9ImZvbGl1bS1tYXAiIGlkPSJtYXBfMDNhNDk1ZTMxMTM5NDNmZmI4Y2Y1NzBkZGYyNWVjMzUiID48L2Rpdj4KICAgICAgICAKPC9ib2R5Pgo8c2NyaXB0PiAgICAKICAgIAogICAgICAgICAgICB2YXIgbWFwXzAzYTQ5NWUzMTEzOTQzZmZiOGNmNTcwZGRmMjVlYzM1ID0gTC5tYXAoCiAgICAgICAgICAgICAgICAibWFwXzAzYTQ5NWUzMTEzOTQzZmZiOGNmNTcwZGRmMjVlYzM1IiwKICAgICAgICAgICAgICAgIHsKICAgICAgICAgICAgICAgICAgICBjZW50ZXI6IFs0Ny4yODE1MDUsIC0xMjIuMTUyMjc4XSwKICAgICAgICAgICAgICAgICAgICBjcnM6IEwuQ1JTLkVQU0czODU3LAogICAgICAgICAgICAgICAgICAgIHpvb206IDExLAogICAgICAgICAgICAgICAgICAgIHpvb21Db250cm9sOiB0cnVlLAogICAgICAgICAgICAgICAgICAgIHByZWZlckNhbnZhczogZmFsc2UsCiAgICAgICAgICAgICAgICB9CiAgICAgICAgICAgICk7CgogICAgICAgICAgICAKCiAgICAgICAgCiAgICAKICAgICAgICAgICAgdmFyIHRpbGVfbGF5ZXJfMDIzODBjY2UzYTE2NGNkMDkxNjc0Y2I3NGNlMmIxMTIgPSBMLnRpbGVMYXllcigKICAgICAgICAgICAgICAgICJodHRwczovL3tzfS50aWxlLm9wZW5zdHJlZXRtYXAub3JnL3t6fS97eH0ve3l9LnBuZyIsCiAgICAgICAgICAgICAgICB7ImF0dHJpYnV0aW9uIjogIkRhdGEgYnkgXHUwMDI2Y29weTsgXHUwMDNjYSBocmVmPVwiaHR0cDovL29wZW5zdHJlZXRtYXAub3JnXCJcdTAwM2VPcGVuU3RyZWV0TWFwXHUwMDNjL2FcdTAwM2UsIHVuZGVyIFx1MDAzY2EgaHJlZj1cImh0dHA6Ly93d3cub3BlbnN0cmVldG1hcC5vcmcvY29weXJpZ2h0XCJcdTAwM2VPRGJMXHUwMDNjL2FcdTAwM2UuIiwgImRldGVjdFJldGluYSI6IGZhbHNlLCAibWF4TmF0aXZlWm9vbSI6IDE4LCAibWF4Wm9vbSI6IDE4LCAibWluWm9vbSI6IDAsICJub1dyYXAiOiBmYWxzZSwgIm9wYWNpdHkiOiAxLCAic3ViZG9tYWlucyI6ICJhYmMiLCAidG1zIjogZmFsc2V9CiAgICAgICAgICAgICkuYWRkVG8obWFwXzAzYTQ5NWUzMTEzOTQzZmZiOGNmNTcwZGRmMjVlYzM1KTsKICAgICAgICAKPC9zY3JpcHQ+\" style=\"position:absolute;width:100%;height:100%;left:0;top:0;border:none !important;\" allowfullscreen webkitallowfullscreen mozallowfullscreen></iframe></div></div>"
      ],
      "text/plain": [
       "<folium.folium.Map at 0x122f600f0>"
      ]
     },
     "execution_count": 129,
     "metadata": {},
     "output_type": "execute_result"
    }
   ],
   "source": [
    "map_osm = folium.Map(location=[47.281505, -122.152278], zoom_start=11)\n",
    "# df.apply(lambda row:folium.CircleMarker(location=[row[\"blklatdd\"], row[\"blklondd\"]])\n",
    "#                                             .add_to(map_osm), axis=1)\n",
    "map_osm"
   ]
  },
  {
   "cell_type": "code",
   "execution_count": 130,
   "metadata": {
    "ExecuteTime": {
     "end_time": "2020-03-03T14:17:03.673977Z",
     "start_time": "2020-03-03T14:17:03.415532Z"
    }
   },
   "outputs": [],
   "source": [
    "df2= pd.read_csv(\"QueryResults.csv\")"
   ]
  },
  {
   "cell_type": "code",
   "execution_count": 131,
   "metadata": {
    "ExecuteTime": {
     "end_time": "2020-03-03T14:17:03.685110Z",
     "start_time": "2020-03-03T14:17:03.676097Z"
    }
   },
   "outputs": [
    {
     "data": {
      "text/plain": [
       "(34145, 7)"
      ]
     },
     "execution_count": 131,
     "metadata": {},
     "output_type": "execute_result"
    }
   ],
   "source": [
    "df2.shape"
   ]
  },
  {
   "cell_type": "code",
   "execution_count": 132,
   "metadata": {
    "ExecuteTime": {
     "end_time": "2020-03-03T14:17:03.714500Z",
     "start_time": "2020-03-03T14:17:03.689776Z"
    }
   },
   "outputs": [
    {
     "data": {
      "text/html": [
       "<div>\n",
       "<style scoped>\n",
       "    .dataframe tbody tr th:only-of-type {\n",
       "        vertical-align: middle;\n",
       "    }\n",
       "\n",
       "    .dataframe tbody tr th {\n",
       "        vertical-align: top;\n",
       "    }\n",
       "\n",
       "    .dataframe thead th {\n",
       "        text-align: right;\n",
       "    }\n",
       "</style>\n",
       "<table border=\"1\" class=\"dataframe\">\n",
       "  <thead>\n",
       "    <tr style=\"text-align: right;\">\n",
       "      <th></th>\n",
       "      <th>esr</th>\n",
       "      <th>agep</th>\n",
       "      <th>sch</th>\n",
       "      <th>schg</th>\n",
       "      <th>schl</th>\n",
       "      <th>puma_name</th>\n",
       "      <th>state_name</th>\n",
       "    </tr>\n",
       "  </thead>\n",
       "  <tbody>\n",
       "    <tr>\n",
       "      <th>0</th>\n",
       "      <td>6.0</td>\n",
       "      <td>43</td>\n",
       "      <td>1.0</td>\n",
       "      <td>NaN</td>\n",
       "      <td>19.0</td>\n",
       "      <td>King County (West Central)--Burien, SeaTac, Tu...</td>\n",
       "      <td>Washington                                    ...</td>\n",
       "    </tr>\n",
       "    <tr>\n",
       "      <th>1</th>\n",
       "      <td>6.0</td>\n",
       "      <td>65</td>\n",
       "      <td>1.0</td>\n",
       "      <td>NaN</td>\n",
       "      <td>16.0</td>\n",
       "      <td>King County (West Central)--Burien, SeaTac, Tu...</td>\n",
       "      <td>Washington                                    ...</td>\n",
       "    </tr>\n",
       "    <tr>\n",
       "      <th>2</th>\n",
       "      <td>6.0</td>\n",
       "      <td>73</td>\n",
       "      <td>1.0</td>\n",
       "      <td>NaN</td>\n",
       "      <td>20.0</td>\n",
       "      <td>King County (Central)--Renton City, Fairwood, ...</td>\n",
       "      <td>Washington                                    ...</td>\n",
       "    </tr>\n",
       "    <tr>\n",
       "      <th>3</th>\n",
       "      <td>6.0</td>\n",
       "      <td>71</td>\n",
       "      <td>1.0</td>\n",
       "      <td>NaN</td>\n",
       "      <td>20.0</td>\n",
       "      <td>King County (Central)--Renton City, Fairwood, ...</td>\n",
       "      <td>Washington                                    ...</td>\n",
       "    </tr>\n",
       "    <tr>\n",
       "      <th>4</th>\n",
       "      <td>1.0</td>\n",
       "      <td>30</td>\n",
       "      <td>1.0</td>\n",
       "      <td>NaN</td>\n",
       "      <td>22.0</td>\n",
       "      <td>King County (West Central)--Burien, SeaTac, Tu...</td>\n",
       "      <td>Washington                                    ...</td>\n",
       "    </tr>\n",
       "    <tr>\n",
       "      <th>5</th>\n",
       "      <td>1.0</td>\n",
       "      <td>24</td>\n",
       "      <td>1.0</td>\n",
       "      <td>NaN</td>\n",
       "      <td>21.0</td>\n",
       "      <td>King County (Central)--Renton City, Fairwood, ...</td>\n",
       "      <td>Washington                                    ...</td>\n",
       "    </tr>\n",
       "    <tr>\n",
       "      <th>6</th>\n",
       "      <td>1.0</td>\n",
       "      <td>24</td>\n",
       "      <td>1.0</td>\n",
       "      <td>NaN</td>\n",
       "      <td>21.0</td>\n",
       "      <td>King County (Central)--Renton City, Fairwood, ...</td>\n",
       "      <td>Washington                                    ...</td>\n",
       "    </tr>\n",
       "    <tr>\n",
       "      <th>7</th>\n",
       "      <td>1.0</td>\n",
       "      <td>47</td>\n",
       "      <td>1.0</td>\n",
       "      <td>NaN</td>\n",
       "      <td>16.0</td>\n",
       "      <td>King County (West Central)--Burien, SeaTac, Tu...</td>\n",
       "      <td>Washington                                    ...</td>\n",
       "    </tr>\n",
       "    <tr>\n",
       "      <th>8</th>\n",
       "      <td>1.0</td>\n",
       "      <td>43</td>\n",
       "      <td>1.0</td>\n",
       "      <td>NaN</td>\n",
       "      <td>16.0</td>\n",
       "      <td>King County (Southeast)--Maple Valley, Covingt...</td>\n",
       "      <td>Washington                                    ...</td>\n",
       "    </tr>\n",
       "    <tr>\n",
       "      <th>9</th>\n",
       "      <td>1.0</td>\n",
       "      <td>40</td>\n",
       "      <td>1.0</td>\n",
       "      <td>NaN</td>\n",
       "      <td>18.0</td>\n",
       "      <td>King County (Southeast)--Maple Valley, Covingt...</td>\n",
       "      <td>Washington                                    ...</td>\n",
       "    </tr>\n",
       "  </tbody>\n",
       "</table>\n",
       "</div>"
      ],
      "text/plain": [
       "   esr  agep  sch  schg  schl  \\\n",
       "0  6.0    43  1.0   NaN  19.0   \n",
       "1  6.0    65  1.0   NaN  16.0   \n",
       "2  6.0    73  1.0   NaN  20.0   \n",
       "3  6.0    71  1.0   NaN  20.0   \n",
       "4  1.0    30  1.0   NaN  22.0   \n",
       "5  1.0    24  1.0   NaN  21.0   \n",
       "6  1.0    24  1.0   NaN  21.0   \n",
       "7  1.0    47  1.0   NaN  16.0   \n",
       "8  1.0    43  1.0   NaN  16.0   \n",
       "9  1.0    40  1.0   NaN  18.0   \n",
       "\n",
       "                                           puma_name  \\\n",
       "0  King County (West Central)--Burien, SeaTac, Tu...   \n",
       "1  King County (West Central)--Burien, SeaTac, Tu...   \n",
       "2  King County (Central)--Renton City, Fairwood, ...   \n",
       "3  King County (Central)--Renton City, Fairwood, ...   \n",
       "4  King County (West Central)--Burien, SeaTac, Tu...   \n",
       "5  King County (Central)--Renton City, Fairwood, ...   \n",
       "6  King County (Central)--Renton City, Fairwood, ...   \n",
       "7  King County (West Central)--Burien, SeaTac, Tu...   \n",
       "8  King County (Southeast)--Maple Valley, Covingt...   \n",
       "9  King County (Southeast)--Maple Valley, Covingt...   \n",
       "\n",
       "                                          state_name  \n",
       "0  Washington                                    ...  \n",
       "1  Washington                                    ...  \n",
       "2  Washington                                    ...  \n",
       "3  Washington                                    ...  \n",
       "4  Washington                                    ...  \n",
       "5  Washington                                    ...  \n",
       "6  Washington                                    ...  \n",
       "7  Washington                                    ...  \n",
       "8  Washington                                    ...  \n",
       "9  Washington                                    ...  "
      ]
     },
     "execution_count": 132,
     "metadata": {},
     "output_type": "execute_result"
    }
   ],
   "source": [
    "df2.head(10)"
   ]
  },
  {
   "cell_type": "code",
   "execution_count": 133,
   "metadata": {
    "ExecuteTime": {
     "end_time": "2020-03-03T14:17:03.735097Z",
     "start_time": "2020-03-03T14:17:03.724661Z"
    }
   },
   "outputs": [],
   "source": [
    "df_age = df2[(df2[\"agep\"]>=16)&(df2[\"agep\"]<=24)]\n"
   ]
  },
  {
   "cell_type": "code",
   "execution_count": 134,
   "metadata": {
    "ExecuteTime": {
     "end_time": "2020-03-03T14:17:03.773002Z",
     "start_time": "2020-03-03T14:17:03.742897Z"
    }
   },
   "outputs": [
    {
     "data": {
      "text/html": [
       "<div>\n",
       "<style scoped>\n",
       "    .dataframe tbody tr th:only-of-type {\n",
       "        vertical-align: middle;\n",
       "    }\n",
       "\n",
       "    .dataframe tbody tr th {\n",
       "        vertical-align: top;\n",
       "    }\n",
       "\n",
       "    .dataframe thead th {\n",
       "        text-align: right;\n",
       "    }\n",
       "</style>\n",
       "<table border=\"1\" class=\"dataframe\">\n",
       "  <thead>\n",
       "    <tr style=\"text-align: right;\">\n",
       "      <th></th>\n",
       "      <th>esr</th>\n",
       "      <th>agep</th>\n",
       "      <th>sch</th>\n",
       "      <th>schg</th>\n",
       "      <th>schl</th>\n",
       "      <th>puma_name</th>\n",
       "      <th>state_name</th>\n",
       "    </tr>\n",
       "  </thead>\n",
       "  <tbody>\n",
       "    <tr>\n",
       "      <th>5</th>\n",
       "      <td>1.0</td>\n",
       "      <td>24</td>\n",
       "      <td>1.0</td>\n",
       "      <td>NaN</td>\n",
       "      <td>21.0</td>\n",
       "      <td>King County (Central)--Renton City, Fairwood, ...</td>\n",
       "      <td>Washington                                    ...</td>\n",
       "    </tr>\n",
       "    <tr>\n",
       "      <th>6</th>\n",
       "      <td>1.0</td>\n",
       "      <td>24</td>\n",
       "      <td>1.0</td>\n",
       "      <td>NaN</td>\n",
       "      <td>21.0</td>\n",
       "      <td>King County (Central)--Renton City, Fairwood, ...</td>\n",
       "      <td>Washington                                    ...</td>\n",
       "    </tr>\n",
       "    <tr>\n",
       "      <th>18</th>\n",
       "      <td>6.0</td>\n",
       "      <td>19</td>\n",
       "      <td>2.0</td>\n",
       "      <td>15.0</td>\n",
       "      <td>18.0</td>\n",
       "      <td>King County (Far Southwest)--Federal Way, Des ...</td>\n",
       "      <td>Washington                                    ...</td>\n",
       "    </tr>\n",
       "    <tr>\n",
       "      <th>20</th>\n",
       "      <td>6.0</td>\n",
       "      <td>17</td>\n",
       "      <td>2.0</td>\n",
       "      <td>13.0</td>\n",
       "      <td>13.0</td>\n",
       "      <td>King County (Southwest Central)--Kent City    ...</td>\n",
       "      <td>Washington                                    ...</td>\n",
       "    </tr>\n",
       "    <tr>\n",
       "      <th>24</th>\n",
       "      <td>6.0</td>\n",
       "      <td>18</td>\n",
       "      <td>2.0</td>\n",
       "      <td>15.0</td>\n",
       "      <td>18.0</td>\n",
       "      <td>King County (Central)--Renton City, Fairwood, ...</td>\n",
       "      <td>Washington                                    ...</td>\n",
       "    </tr>\n",
       "  </tbody>\n",
       "</table>\n",
       "</div>"
      ],
      "text/plain": [
       "    esr  agep  sch  schg  schl  \\\n",
       "5   1.0    24  1.0   NaN  21.0   \n",
       "6   1.0    24  1.0   NaN  21.0   \n",
       "18  6.0    19  2.0  15.0  18.0   \n",
       "20  6.0    17  2.0  13.0  13.0   \n",
       "24  6.0    18  2.0  15.0  18.0   \n",
       "\n",
       "                                            puma_name  \\\n",
       "5   King County (Central)--Renton City, Fairwood, ...   \n",
       "6   King County (Central)--Renton City, Fairwood, ...   \n",
       "18  King County (Far Southwest)--Federal Way, Des ...   \n",
       "20  King County (Southwest Central)--Kent City    ...   \n",
       "24  King County (Central)--Renton City, Fairwood, ...   \n",
       "\n",
       "                                           state_name  \n",
       "5   Washington                                    ...  \n",
       "6   Washington                                    ...  \n",
       "18  Washington                                    ...  \n",
       "20  Washington                                    ...  \n",
       "24  Washington                                    ...  "
      ]
     },
     "execution_count": 134,
     "metadata": {},
     "output_type": "execute_result"
    }
   ],
   "source": [
    "df_age.head()"
   ]
  },
  {
   "cell_type": "code",
   "execution_count": 135,
   "metadata": {
    "ExecuteTime": {
     "end_time": "2020-03-03T14:17:03.788395Z",
     "start_time": "2020-03-03T14:17:03.775716Z"
    }
   },
   "outputs": [],
   "source": [
    "df_age_unique = df_age[(df_age[\"esr\"]==3) | (df_age[\"esr\"]==6)]"
   ]
  },
  {
   "cell_type": "code",
   "execution_count": 136,
   "metadata": {
    "ExecuteTime": {
     "end_time": "2020-03-03T14:17:03.825830Z",
     "start_time": "2020-03-03T14:17:03.792346Z"
    }
   },
   "outputs": [
    {
     "data": {
      "text/html": [
       "<div>\n",
       "<style scoped>\n",
       "    .dataframe tbody tr th:only-of-type {\n",
       "        vertical-align: middle;\n",
       "    }\n",
       "\n",
       "    .dataframe tbody tr th {\n",
       "        vertical-align: top;\n",
       "    }\n",
       "\n",
       "    .dataframe thead th {\n",
       "        text-align: right;\n",
       "    }\n",
       "</style>\n",
       "<table border=\"1\" class=\"dataframe\">\n",
       "  <thead>\n",
       "    <tr style=\"text-align: right;\">\n",
       "      <th></th>\n",
       "      <th>esr</th>\n",
       "      <th>agep</th>\n",
       "      <th>sch</th>\n",
       "      <th>schg</th>\n",
       "      <th>schl</th>\n",
       "      <th>puma_name</th>\n",
       "      <th>state_name</th>\n",
       "    </tr>\n",
       "  </thead>\n",
       "  <tbody>\n",
       "    <tr>\n",
       "      <th>18</th>\n",
       "      <td>6.0</td>\n",
       "      <td>19</td>\n",
       "      <td>2.0</td>\n",
       "      <td>15.0</td>\n",
       "      <td>18.0</td>\n",
       "      <td>King County (Far Southwest)--Federal Way, Des ...</td>\n",
       "      <td>Washington                                    ...</td>\n",
       "    </tr>\n",
       "    <tr>\n",
       "      <th>20</th>\n",
       "      <td>6.0</td>\n",
       "      <td>17</td>\n",
       "      <td>2.0</td>\n",
       "      <td>13.0</td>\n",
       "      <td>13.0</td>\n",
       "      <td>King County (Southwest Central)--Kent City    ...</td>\n",
       "      <td>Washington                                    ...</td>\n",
       "    </tr>\n",
       "    <tr>\n",
       "      <th>24</th>\n",
       "      <td>6.0</td>\n",
       "      <td>18</td>\n",
       "      <td>2.0</td>\n",
       "      <td>15.0</td>\n",
       "      <td>18.0</td>\n",
       "      <td>King County (Central)--Renton City, Fairwood, ...</td>\n",
       "      <td>Washington                                    ...</td>\n",
       "    </tr>\n",
       "    <tr>\n",
       "      <th>25</th>\n",
       "      <td>6.0</td>\n",
       "      <td>16</td>\n",
       "      <td>2.0</td>\n",
       "      <td>12.0</td>\n",
       "      <td>13.0</td>\n",
       "      <td>King County (Central)--Renton City, Fairwood, ...</td>\n",
       "      <td>Washington                                    ...</td>\n",
       "    </tr>\n",
       "    <tr>\n",
       "      <th>33</th>\n",
       "      <td>6.0</td>\n",
       "      <td>17</td>\n",
       "      <td>2.0</td>\n",
       "      <td>11.0</td>\n",
       "      <td>12.0</td>\n",
       "      <td>King County (Southwest)--Auburn City &amp; Lakelan...</td>\n",
       "      <td>Washington                                    ...</td>\n",
       "    </tr>\n",
       "  </tbody>\n",
       "</table>\n",
       "</div>"
      ],
      "text/plain": [
       "    esr  agep  sch  schg  schl  \\\n",
       "18  6.0    19  2.0  15.0  18.0   \n",
       "20  6.0    17  2.0  13.0  13.0   \n",
       "24  6.0    18  2.0  15.0  18.0   \n",
       "25  6.0    16  2.0  12.0  13.0   \n",
       "33  6.0    17  2.0  11.0  12.0   \n",
       "\n",
       "                                            puma_name  \\\n",
       "18  King County (Far Southwest)--Federal Way, Des ...   \n",
       "20  King County (Southwest Central)--Kent City    ...   \n",
       "24  King County (Central)--Renton City, Fairwood, ...   \n",
       "25  King County (Central)--Renton City, Fairwood, ...   \n",
       "33  King County (Southwest)--Auburn City & Lakelan...   \n",
       "\n",
       "                                           state_name  \n",
       "18  Washington                                    ...  \n",
       "20  Washington                                    ...  \n",
       "24  Washington                                    ...  \n",
       "25  Washington                                    ...  \n",
       "33  Washington                                    ...  "
      ]
     },
     "execution_count": 136,
     "metadata": {},
     "output_type": "execute_result"
    }
   ],
   "source": [
    "df_age_unique.head()"
   ]
  },
  {
   "cell_type": "code",
   "execution_count": 137,
   "metadata": {
    "ExecuteTime": {
     "end_time": "2020-03-03T14:17:03.837837Z",
     "start_time": "2020-03-03T14:17:03.828201Z"
    }
   },
   "outputs": [
    {
     "data": {
      "text/plain": [
       "(1735, 7)"
      ]
     },
     "execution_count": 137,
     "metadata": {},
     "output_type": "execute_result"
    }
   ],
   "source": [
    "df_age_unique.shape"
   ]
  },
  {
   "cell_type": "code",
   "execution_count": 140,
   "metadata": {
    "ExecuteTime": {
     "end_time": "2020-03-03T14:50:50.995719Z",
     "start_time": "2020-03-03T14:50:50.977389Z"
    }
   },
   "outputs": [],
   "source": [
    "df_was=pd.read_csv(\"naweedquery.csv\")"
   ]
  },
  {
   "cell_type": "code",
   "execution_count": 141,
   "metadata": {
    "ExecuteTime": {
     "end_time": "2020-03-03T14:51:12.027950Z",
     "start_time": "2020-03-03T14:51:12.006192Z"
    }
   },
   "outputs": [
    {
     "data": {
      "text/html": [
       "<div>\n",
       "<style scoped>\n",
       "    .dataframe tbody tr th:only-of-type {\n",
       "        vertical-align: middle;\n",
       "    }\n",
       "\n",
       "    .dataframe tbody tr th {\n",
       "        vertical-align: top;\n",
       "    }\n",
       "\n",
       "    .dataframe thead th {\n",
       "        text-align: right;\n",
       "    }\n",
       "</style>\n",
       "<table border=\"1\" class=\"dataframe\">\n",
       "  <thead>\n",
       "    <tr style=\"text-align: right;\">\n",
       "      <th></th>\n",
       "      <th>state_fips</th>\n",
       "      <th>state_name</th>\n",
       "      <th>cpuma0010</th>\n",
       "      <th>puma</th>\n",
       "      <th>geoid</th>\n",
       "      <th>gisjoin</th>\n",
       "      <th>puma_name</th>\n",
       "    </tr>\n",
       "  </thead>\n",
       "  <tbody>\n",
       "    <tr>\n",
       "      <th>0</th>\n",
       "      <td>1</td>\n",
       "      <td>Alabama                                       ...</td>\n",
       "      <td>14</td>\n",
       "      <td>1900</td>\n",
       "      <td>101900</td>\n",
       "      <td>G01001900</td>\n",
       "      <td>Lee County--Auburn City                       ...</td>\n",
       "    </tr>\n",
       "    <tr>\n",
       "      <th>1</th>\n",
       "      <td>1</td>\n",
       "      <td>Alabama                                       ...</td>\n",
       "      <td>16</td>\n",
       "      <td>2300</td>\n",
       "      <td>102300</td>\n",
       "      <td>G01002300</td>\n",
       "      <td>Coffee, Covington, Butler &amp; Crenshaw Counties ...</td>\n",
       "    </tr>\n",
       "    <tr>\n",
       "      <th>2</th>\n",
       "      <td>6</td>\n",
       "      <td>California                                    ...</td>\n",
       "      <td>108</td>\n",
       "      <td>6103</td>\n",
       "      <td>606103</td>\n",
       "      <td>G06006103</td>\n",
       "      <td>Placer County (East/High Country Region)--Aubu...</td>\n",
       "    </tr>\n",
       "    <tr>\n",
       "      <th>3</th>\n",
       "      <td>10</td>\n",
       "      <td>Delaware                                      ...</td>\n",
       "      <td>198</td>\n",
       "      <td>200</td>\n",
       "      <td>1000200</td>\n",
       "      <td>G10000200</td>\n",
       "      <td>Kent County--Dover City                       ...</td>\n",
       "    </tr>\n",
       "    <tr>\n",
       "      <th>4</th>\n",
       "      <td>17</td>\n",
       "      <td>Illinois                                      ...</td>\n",
       "      <td>337</td>\n",
       "      <td>3531</td>\n",
       "      <td>1703531</td>\n",
       "      <td>G17003531</td>\n",
       "      <td>Chicago City (South)--Auburn Gresham, Roseland...</td>\n",
       "    </tr>\n",
       "  </tbody>\n",
       "</table>\n",
       "</div>"
      ],
      "text/plain": [
       "   state_fips                                         state_name  cpuma0010  \\\n",
       "0           1  Alabama                                       ...         14   \n",
       "1           1  Alabama                                       ...         16   \n",
       "2           6  California                                    ...        108   \n",
       "3          10  Delaware                                      ...        198   \n",
       "4          17  Illinois                                      ...        337   \n",
       "\n",
       "   puma    geoid    gisjoin                                          puma_name  \n",
       "0  1900   101900  G01001900  Lee County--Auburn City                       ...  \n",
       "1  2300   102300  G01002300  Coffee, Covington, Butler & Crenshaw Counties ...  \n",
       "2  6103   606103  G06006103  Placer County (East/High Country Region)--Aubu...  \n",
       "3   200  1000200  G10000200  Kent County--Dover City                       ...  \n",
       "4  3531  1703531  G17003531  Chicago City (South)--Auburn Gresham, Roseland...  "
      ]
     },
     "execution_count": 141,
     "metadata": {},
     "output_type": "execute_result"
    }
   ],
   "source": [
    "df_was.head()"
   ]
  },
  {
   "cell_type": "code",
   "execution_count": 146,
   "metadata": {
    "ExecuteTime": {
     "end_time": "2020-03-03T14:52:40.937384Z",
     "start_time": "2020-03-03T14:52:40.926983Z"
    }
   },
   "outputs": [
    {
     "data": {
      "text/plain": [
       "array([11610, 11613, 11614, 11615, 11611, 11612])"
      ]
     },
     "execution_count": 146,
     "metadata": {},
     "output_type": "execute_result"
    }
   ],
   "source": [
    "df_was[df_was[\"state_fips\"]==53][\"puma\"].unique()\n"
   ]
  },
  {
   "cell_type": "code",
   "execution_count": 151,
   "metadata": {
    "ExecuteTime": {
     "end_time": "2020-03-03T14:58:10.084162Z",
     "start_time": "2020-03-03T14:58:10.053943Z"
    }
   },
   "outputs": [
    {
     "ename": "FileNotFoundError",
     "evalue": "File b'naweed2.csv' does not exist",
     "output_type": "error",
     "traceback": [
      "\u001b[0;31m---------------------------------------------------------------------------\u001b[0m",
      "\u001b[0;31mFileNotFoundError\u001b[0m                         Traceback (most recent call last)",
      "\u001b[0;32m<ipython-input-151-2e061d73be8c>\u001b[0m in \u001b[0;36m<module>\u001b[0;34m()\u001b[0m\n\u001b[0;32m----> 1\u001b[0;31m \u001b[0mdf_was2\u001b[0m\u001b[0;34m=\u001b[0m\u001b[0mpd\u001b[0m\u001b[0;34m.\u001b[0m\u001b[0mread_csv\u001b[0m\u001b[0;34m(\u001b[0m\u001b[0;34m\"naweed2.csv\"\u001b[0m\u001b[0;34m)\u001b[0m\u001b[0;34m\u001b[0m\u001b[0m\n\u001b[0m",
      "\u001b[0;32m/opt/anaconda3/envs/learn-env/lib/python3.6/site-packages/pandas/io/parsers.py\u001b[0m in \u001b[0;36mparser_f\u001b[0;34m(filepath_or_buffer, sep, delimiter, header, names, index_col, usecols, squeeze, prefix, mangle_dupe_cols, dtype, engine, converters, true_values, false_values, skipinitialspace, skiprows, nrows, na_values, keep_default_na, na_filter, verbose, skip_blank_lines, parse_dates, infer_datetime_format, keep_date_col, date_parser, dayfirst, iterator, chunksize, compression, thousands, decimal, lineterminator, quotechar, quoting, escapechar, comment, encoding, dialect, tupleize_cols, error_bad_lines, warn_bad_lines, skipfooter, doublequote, delim_whitespace, low_memory, memory_map, float_precision)\u001b[0m\n\u001b[1;32m    676\u001b[0m                     skip_blank_lines=skip_blank_lines)\n\u001b[1;32m    677\u001b[0m \u001b[0;34m\u001b[0m\u001b[0m\n\u001b[0;32m--> 678\u001b[0;31m         \u001b[0;32mreturn\u001b[0m \u001b[0m_read\u001b[0m\u001b[0;34m(\u001b[0m\u001b[0mfilepath_or_buffer\u001b[0m\u001b[0;34m,\u001b[0m \u001b[0mkwds\u001b[0m\u001b[0;34m)\u001b[0m\u001b[0;34m\u001b[0m\u001b[0m\n\u001b[0m\u001b[1;32m    679\u001b[0m \u001b[0;34m\u001b[0m\u001b[0m\n\u001b[1;32m    680\u001b[0m     \u001b[0mparser_f\u001b[0m\u001b[0;34m.\u001b[0m\u001b[0m__name__\u001b[0m \u001b[0;34m=\u001b[0m \u001b[0mname\u001b[0m\u001b[0;34m\u001b[0m\u001b[0m\n",
      "\u001b[0;32m/opt/anaconda3/envs/learn-env/lib/python3.6/site-packages/pandas/io/parsers.py\u001b[0m in \u001b[0;36m_read\u001b[0;34m(filepath_or_buffer, kwds)\u001b[0m\n\u001b[1;32m    438\u001b[0m \u001b[0;34m\u001b[0m\u001b[0m\n\u001b[1;32m    439\u001b[0m     \u001b[0;31m# Create the parser.\u001b[0m\u001b[0;34m\u001b[0m\u001b[0;34m\u001b[0m\u001b[0m\n\u001b[0;32m--> 440\u001b[0;31m     \u001b[0mparser\u001b[0m \u001b[0;34m=\u001b[0m \u001b[0mTextFileReader\u001b[0m\u001b[0;34m(\u001b[0m\u001b[0mfilepath_or_buffer\u001b[0m\u001b[0;34m,\u001b[0m \u001b[0;34m**\u001b[0m\u001b[0mkwds\u001b[0m\u001b[0;34m)\u001b[0m\u001b[0;34m\u001b[0m\u001b[0m\n\u001b[0m\u001b[1;32m    441\u001b[0m \u001b[0;34m\u001b[0m\u001b[0m\n\u001b[1;32m    442\u001b[0m     \u001b[0;32mif\u001b[0m \u001b[0mchunksize\u001b[0m \u001b[0;32mor\u001b[0m \u001b[0miterator\u001b[0m\u001b[0;34m:\u001b[0m\u001b[0;34m\u001b[0m\u001b[0m\n",
      "\u001b[0;32m/opt/anaconda3/envs/learn-env/lib/python3.6/site-packages/pandas/io/parsers.py\u001b[0m in \u001b[0;36m__init__\u001b[0;34m(self, f, engine, **kwds)\u001b[0m\n\u001b[1;32m    785\u001b[0m             \u001b[0mself\u001b[0m\u001b[0;34m.\u001b[0m\u001b[0moptions\u001b[0m\u001b[0;34m[\u001b[0m\u001b[0;34m'has_index_names'\u001b[0m\u001b[0;34m]\u001b[0m \u001b[0;34m=\u001b[0m \u001b[0mkwds\u001b[0m\u001b[0;34m[\u001b[0m\u001b[0;34m'has_index_names'\u001b[0m\u001b[0;34m]\u001b[0m\u001b[0;34m\u001b[0m\u001b[0m\n\u001b[1;32m    786\u001b[0m \u001b[0;34m\u001b[0m\u001b[0m\n\u001b[0;32m--> 787\u001b[0;31m         \u001b[0mself\u001b[0m\u001b[0;34m.\u001b[0m\u001b[0m_make_engine\u001b[0m\u001b[0;34m(\u001b[0m\u001b[0mself\u001b[0m\u001b[0;34m.\u001b[0m\u001b[0mengine\u001b[0m\u001b[0;34m)\u001b[0m\u001b[0;34m\u001b[0m\u001b[0m\n\u001b[0m\u001b[1;32m    788\u001b[0m \u001b[0;34m\u001b[0m\u001b[0m\n\u001b[1;32m    789\u001b[0m     \u001b[0;32mdef\u001b[0m \u001b[0mclose\u001b[0m\u001b[0;34m(\u001b[0m\u001b[0mself\u001b[0m\u001b[0;34m)\u001b[0m\u001b[0;34m:\u001b[0m\u001b[0;34m\u001b[0m\u001b[0m\n",
      "\u001b[0;32m/opt/anaconda3/envs/learn-env/lib/python3.6/site-packages/pandas/io/parsers.py\u001b[0m in \u001b[0;36m_make_engine\u001b[0;34m(self, engine)\u001b[0m\n\u001b[1;32m   1012\u001b[0m     \u001b[0;32mdef\u001b[0m \u001b[0m_make_engine\u001b[0m\u001b[0;34m(\u001b[0m\u001b[0mself\u001b[0m\u001b[0;34m,\u001b[0m \u001b[0mengine\u001b[0m\u001b[0;34m=\u001b[0m\u001b[0;34m'c'\u001b[0m\u001b[0;34m)\u001b[0m\u001b[0;34m:\u001b[0m\u001b[0;34m\u001b[0m\u001b[0m\n\u001b[1;32m   1013\u001b[0m         \u001b[0;32mif\u001b[0m \u001b[0mengine\u001b[0m \u001b[0;34m==\u001b[0m \u001b[0;34m'c'\u001b[0m\u001b[0;34m:\u001b[0m\u001b[0;34m\u001b[0m\u001b[0m\n\u001b[0;32m-> 1014\u001b[0;31m             \u001b[0mself\u001b[0m\u001b[0;34m.\u001b[0m\u001b[0m_engine\u001b[0m \u001b[0;34m=\u001b[0m \u001b[0mCParserWrapper\u001b[0m\u001b[0;34m(\u001b[0m\u001b[0mself\u001b[0m\u001b[0;34m.\u001b[0m\u001b[0mf\u001b[0m\u001b[0;34m,\u001b[0m \u001b[0;34m**\u001b[0m\u001b[0mself\u001b[0m\u001b[0;34m.\u001b[0m\u001b[0moptions\u001b[0m\u001b[0;34m)\u001b[0m\u001b[0;34m\u001b[0m\u001b[0m\n\u001b[0m\u001b[1;32m   1015\u001b[0m         \u001b[0;32melse\u001b[0m\u001b[0;34m:\u001b[0m\u001b[0;34m\u001b[0m\u001b[0m\n\u001b[1;32m   1016\u001b[0m             \u001b[0;32mif\u001b[0m \u001b[0mengine\u001b[0m \u001b[0;34m==\u001b[0m \u001b[0;34m'python'\u001b[0m\u001b[0;34m:\u001b[0m\u001b[0;34m\u001b[0m\u001b[0m\n",
      "\u001b[0;32m/opt/anaconda3/envs/learn-env/lib/python3.6/site-packages/pandas/io/parsers.py\u001b[0m in \u001b[0;36m__init__\u001b[0;34m(self, src, **kwds)\u001b[0m\n\u001b[1;32m   1706\u001b[0m         \u001b[0mkwds\u001b[0m\u001b[0;34m[\u001b[0m\u001b[0;34m'usecols'\u001b[0m\u001b[0;34m]\u001b[0m \u001b[0;34m=\u001b[0m \u001b[0mself\u001b[0m\u001b[0;34m.\u001b[0m\u001b[0musecols\u001b[0m\u001b[0;34m\u001b[0m\u001b[0m\n\u001b[1;32m   1707\u001b[0m \u001b[0;34m\u001b[0m\u001b[0m\n\u001b[0;32m-> 1708\u001b[0;31m         \u001b[0mself\u001b[0m\u001b[0;34m.\u001b[0m\u001b[0m_reader\u001b[0m \u001b[0;34m=\u001b[0m \u001b[0mparsers\u001b[0m\u001b[0;34m.\u001b[0m\u001b[0mTextReader\u001b[0m\u001b[0;34m(\u001b[0m\u001b[0msrc\u001b[0m\u001b[0;34m,\u001b[0m \u001b[0;34m**\u001b[0m\u001b[0mkwds\u001b[0m\u001b[0;34m)\u001b[0m\u001b[0;34m\u001b[0m\u001b[0m\n\u001b[0m\u001b[1;32m   1709\u001b[0m \u001b[0;34m\u001b[0m\u001b[0m\n\u001b[1;32m   1710\u001b[0m         \u001b[0mpassed_names\u001b[0m \u001b[0;34m=\u001b[0m \u001b[0mself\u001b[0m\u001b[0;34m.\u001b[0m\u001b[0mnames\u001b[0m \u001b[0;32mis\u001b[0m \u001b[0;32mNone\u001b[0m\u001b[0;34m\u001b[0m\u001b[0m\n",
      "\u001b[0;32mpandas/_libs/parsers.pyx\u001b[0m in \u001b[0;36mpandas._libs.parsers.TextReader.__cinit__\u001b[0;34m()\u001b[0m\n",
      "\u001b[0;32mpandas/_libs/parsers.pyx\u001b[0m in \u001b[0;36mpandas._libs.parsers.TextReader._setup_parser_source\u001b[0;34m()\u001b[0m\n",
      "\u001b[0;31mFileNotFoundError\u001b[0m: File b'naweed2.csv' does not exist"
     ]
    }
   ],
   "source": [
    "df_was2=pd.read_csv(\"naweed2.csv\")"
   ]
  },
  {
   "cell_type": "code",
   "execution_count": null,
   "metadata": {},
   "outputs": [],
   "source": []
  },
  {
   "cell_type": "code",
   "execution_count": null,
   "metadata": {},
   "outputs": [],
   "source": []
  }
 ],
 "metadata": {
  "kernelspec": {
   "display_name": "Python 3",
   "language": "python",
   "name": "python3"
  },
  "language_info": {
   "codemirror_mode": {
    "name": "ipython",
    "version": 3
   },
   "file_extension": ".py",
   "mimetype": "text/x-python",
   "name": "python",
   "nbconvert_exporter": "python",
   "pygments_lexer": "ipython3",
   "version": "3.6.6"
  }
 },
 "nbformat": 4,
 "nbformat_minor": 2
}
