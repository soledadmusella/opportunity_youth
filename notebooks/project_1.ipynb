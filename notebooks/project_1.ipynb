{
 "cells": [
  {
   "cell_type": "code",
   "execution_count": 21,
   "metadata": {
    "ExecuteTime": {
     "end_time": "2020-03-03T17:58:12.861607Z",
     "start_time": "2020-03-03T17:58:12.224134Z"
    }
   },
   "outputs": [],
   "source": [
    "%matplotlib inline"
   ]
  },
  {
   "cell_type": "code",
   "execution_count": 22,
   "metadata": {
    "ExecuteTime": {
     "end_time": "2020-03-03T17:58:13.286688Z",
     "start_time": "2020-03-03T17:58:12.864627Z"
    }
   },
   "outputs": [],
   "source": [
    "import pandas as pd\n"
   ]
  },
  {
   "cell_type": "code",
   "execution_count": 23,
   "metadata": {
    "ExecuteTime": {
     "end_time": "2020-03-03T17:58:13.414034Z",
     "start_time": "2020-03-03T17:58:13.289507Z"
    }
   },
   "outputs": [
    {
     "name": "stdout",
     "output_type": "stream",
     "text": [
      "/Users/soledadmusella/iCloud Drive (Archive)/Desktop/mod_1_project/opportunity_youth/notebooks\r\n"
     ]
    }
   ],
   "source": [
    "!pwd"
   ]
  },
  {
   "cell_type": "code",
   "execution_count": 24,
   "metadata": {
    "ExecuteTime": {
     "end_time": "2020-03-03T17:58:13.598428Z",
     "start_time": "2020-03-03T17:58:13.417451Z"
    }
   },
   "outputs": [],
   "source": [
    "df = pd.read_csv(\"kingcounty.csv\")"
   ]
  },
  {
   "cell_type": "code",
   "execution_count": 25,
   "metadata": {
    "ExecuteTime": {
     "end_time": "2020-03-03T17:58:13.608904Z",
     "start_time": "2020-03-03T17:58:13.600904Z"
    }
   },
   "outputs": [
    {
     "data": {
      "text/plain": [
       "(8915, 43)"
      ]
     },
     "execution_count": 25,
     "metadata": {},
     "output_type": "execute_result"
    }
   ],
   "source": [
    "df.shape"
   ]
  },
  {
   "cell_type": "code",
   "execution_count": 26,
   "metadata": {
    "ExecuteTime": {
     "end_time": "2020-03-03T17:58:13.667763Z",
     "start_time": "2020-03-03T17:58:13.610959Z"
    }
   },
   "outputs": [
    {
     "data": {
      "text/html": [
       "<div>\n",
       "<style scoped>\n",
       "    .dataframe tbody tr th:only-of-type {\n",
       "        vertical-align: middle;\n",
       "    }\n",
       "\n",
       "    .dataframe tbody tr th {\n",
       "        vertical-align: top;\n",
       "    }\n",
       "\n",
       "    .dataframe thead th {\n",
       "        text-align: right;\n",
       "    }\n",
       "</style>\n",
       "<table border=\"1\" class=\"dataframe\">\n",
       "  <thead>\n",
       "    <tr style=\"text-align: right;\">\n",
       "      <th></th>\n",
       "      <th>tabblk2010</th>\n",
       "      <th>st</th>\n",
       "      <th>stusps</th>\n",
       "      <th>stname</th>\n",
       "      <th>cty</th>\n",
       "      <th>ctyname</th>\n",
       "      <th>trct</th>\n",
       "      <th>trctname</th>\n",
       "      <th>bgrp</th>\n",
       "      <th>bgrpname</th>\n",
       "      <th>...</th>\n",
       "      <th>stanrcname</th>\n",
       "      <th>necta</th>\n",
       "      <th>nectname</th>\n",
       "      <th>mil</th>\n",
       "      <th>milname</th>\n",
       "      <th>stwib</th>\n",
       "      <th>stwibname</th>\n",
       "      <th>blklatdd</th>\n",
       "      <th>blklondd</th>\n",
       "      <th>createdate</th>\n",
       "    </tr>\n",
       "  </thead>\n",
       "  <tbody>\n",
       "    <tr>\n",
       "      <td>0</td>\n",
       "      <td>530330311004021</td>\n",
       "      <td>53</td>\n",
       "      <td>WA</td>\n",
       "      <td>Washington                                    ...</td>\n",
       "      <td>53033</td>\n",
       "      <td>King County, WA                               ...</td>\n",
       "      <td>53033031100</td>\n",
       "      <td>311 (King, WA)                                ...</td>\n",
       "      <td>530330311004</td>\n",
       "      <td>4 (Tract 311, King, WA)                       ...</td>\n",
       "      <td>...</td>\n",
       "      <td>NaN</td>\n",
       "      <td>99999</td>\n",
       "      <td>NaN</td>\n",
       "      <td>NaN</td>\n",
       "      <td>NaN</td>\n",
       "      <td>53000005</td>\n",
       "      <td>05 Seattle/King County WIB                    ...</td>\n",
       "      <td>47.293068</td>\n",
       "      <td>-122.209781</td>\n",
       "      <td>2019-08-26</td>\n",
       "    </tr>\n",
       "    <tr>\n",
       "      <td>1</td>\n",
       "      <td>530330311004020</td>\n",
       "      <td>53</td>\n",
       "      <td>WA</td>\n",
       "      <td>Washington                                    ...</td>\n",
       "      <td>53033</td>\n",
       "      <td>King County, WA                               ...</td>\n",
       "      <td>53033031100</td>\n",
       "      <td>311 (King, WA)                                ...</td>\n",
       "      <td>530330311004</td>\n",
       "      <td>4 (Tract 311, King, WA)                       ...</td>\n",
       "      <td>...</td>\n",
       "      <td>NaN</td>\n",
       "      <td>99999</td>\n",
       "      <td>NaN</td>\n",
       "      <td>NaN</td>\n",
       "      <td>NaN</td>\n",
       "      <td>53000005</td>\n",
       "      <td>05 Seattle/King County WIB                    ...</td>\n",
       "      <td>47.292507</td>\n",
       "      <td>-122.210964</td>\n",
       "      <td>2019-08-26</td>\n",
       "    </tr>\n",
       "    <tr>\n",
       "      <td>2</td>\n",
       "      <td>530330306002025</td>\n",
       "      <td>53</td>\n",
       "      <td>WA</td>\n",
       "      <td>Washington                                    ...</td>\n",
       "      <td>53033</td>\n",
       "      <td>King County, WA                               ...</td>\n",
       "      <td>53033030600</td>\n",
       "      <td>306 (King, WA)                                ...</td>\n",
       "      <td>530330306002</td>\n",
       "      <td>2 (Tract 306, King, WA)                       ...</td>\n",
       "      <td>...</td>\n",
       "      <td>NaN</td>\n",
       "      <td>99999</td>\n",
       "      <td>NaN</td>\n",
       "      <td>NaN</td>\n",
       "      <td>NaN</td>\n",
       "      <td>53000005</td>\n",
       "      <td>05 Seattle/King County WIB                    ...</td>\n",
       "      <td>47.301755</td>\n",
       "      <td>-122.196667</td>\n",
       "      <td>2019-08-26</td>\n",
       "    </tr>\n",
       "    <tr>\n",
       "      <td>3</td>\n",
       "      <td>530330305012016</td>\n",
       "      <td>53</td>\n",
       "      <td>WA</td>\n",
       "      <td>Washington                                    ...</td>\n",
       "      <td>53033</td>\n",
       "      <td>King County, WA                               ...</td>\n",
       "      <td>53033030501</td>\n",
       "      <td>305.01 (King, WA)                             ...</td>\n",
       "      <td>530330305012</td>\n",
       "      <td>2 (Tract 305.01, King, WA)                    ...</td>\n",
       "      <td>...</td>\n",
       "      <td>NaN</td>\n",
       "      <td>99999</td>\n",
       "      <td>NaN</td>\n",
       "      <td>NaN</td>\n",
       "      <td>NaN</td>\n",
       "      <td>53000005</td>\n",
       "      <td>05 Seattle/King County WIB                    ...</td>\n",
       "      <td>47.311107</td>\n",
       "      <td>-122.227230</td>\n",
       "      <td>2019-08-26</td>\n",
       "    </tr>\n",
       "    <tr>\n",
       "      <td>4</td>\n",
       "      <td>530330305012019</td>\n",
       "      <td>53</td>\n",
       "      <td>WA</td>\n",
       "      <td>Washington                                    ...</td>\n",
       "      <td>53033</td>\n",
       "      <td>King County, WA                               ...</td>\n",
       "      <td>53033030501</td>\n",
       "      <td>305.01 (King, WA)                             ...</td>\n",
       "      <td>530330305012</td>\n",
       "      <td>2 (Tract 305.01, King, WA)                    ...</td>\n",
       "      <td>...</td>\n",
       "      <td>NaN</td>\n",
       "      <td>99999</td>\n",
       "      <td>NaN</td>\n",
       "      <td>NaN</td>\n",
       "      <td>NaN</td>\n",
       "      <td>53000005</td>\n",
       "      <td>05 Seattle/King County WIB                    ...</td>\n",
       "      <td>47.310999</td>\n",
       "      <td>-122.229889</td>\n",
       "      <td>2019-08-26</td>\n",
       "    </tr>\n",
       "  </tbody>\n",
       "</table>\n",
       "<p>5 rows × 43 columns</p>\n",
       "</div>"
      ],
      "text/plain": [
       "        tabblk2010  st stusps  \\\n",
       "0  530330311004021  53     WA   \n",
       "1  530330311004020  53     WA   \n",
       "2  530330306002025  53     WA   \n",
       "3  530330305012016  53     WA   \n",
       "4  530330305012019  53     WA   \n",
       "\n",
       "                                              stname    cty  \\\n",
       "0  Washington                                    ...  53033   \n",
       "1  Washington                                    ...  53033   \n",
       "2  Washington                                    ...  53033   \n",
       "3  Washington                                    ...  53033   \n",
       "4  Washington                                    ...  53033   \n",
       "\n",
       "                                             ctyname         trct  \\\n",
       "0  King County, WA                               ...  53033031100   \n",
       "1  King County, WA                               ...  53033031100   \n",
       "2  King County, WA                               ...  53033030600   \n",
       "3  King County, WA                               ...  53033030501   \n",
       "4  King County, WA                               ...  53033030501   \n",
       "\n",
       "                                            trctname          bgrp  \\\n",
       "0  311 (King, WA)                                ...  530330311004   \n",
       "1  311 (King, WA)                                ...  530330311004   \n",
       "2  306 (King, WA)                                ...  530330306002   \n",
       "3  305.01 (King, WA)                             ...  530330305012   \n",
       "4  305.01 (King, WA)                             ...  530330305012   \n",
       "\n",
       "                                            bgrpname  ...  stanrcname  necta  \\\n",
       "0  4 (Tract 311, King, WA)                       ...  ...         NaN  99999   \n",
       "1  4 (Tract 311, King, WA)                       ...  ...         NaN  99999   \n",
       "2  2 (Tract 306, King, WA)                       ...  ...         NaN  99999   \n",
       "3  2 (Tract 305.01, King, WA)                    ...  ...         NaN  99999   \n",
       "4  2 (Tract 305.01, King, WA)                    ...  ...         NaN  99999   \n",
       "\n",
       "   nectname  mil  milname     stwib  \\\n",
       "0       NaN  NaN      NaN  53000005   \n",
       "1       NaN  NaN      NaN  53000005   \n",
       "2       NaN  NaN      NaN  53000005   \n",
       "3       NaN  NaN      NaN  53000005   \n",
       "4       NaN  NaN      NaN  53000005   \n",
       "\n",
       "                                           stwibname   blklatdd    blklondd  \\\n",
       "0  05 Seattle/King County WIB                    ...  47.293068 -122.209781   \n",
       "1  05 Seattle/King County WIB                    ...  47.292507 -122.210964   \n",
       "2  05 Seattle/King County WIB                    ...  47.301755 -122.196667   \n",
       "3  05 Seattle/King County WIB                    ...  47.311107 -122.227230   \n",
       "4  05 Seattle/King County WIB                    ...  47.310999 -122.229889   \n",
       "\n",
       "   createdate  \n",
       "0  2019-08-26  \n",
       "1  2019-08-26  \n",
       "2  2019-08-26  \n",
       "3  2019-08-26  \n",
       "4  2019-08-26  \n",
       "\n",
       "[5 rows x 43 columns]"
      ]
     },
     "execution_count": 26,
     "metadata": {},
     "output_type": "execute_result"
    }
   ],
   "source": [
    "df.head()"
   ]
  },
  {
   "cell_type": "code",
   "execution_count": 27,
   "metadata": {
    "ExecuteTime": {
     "end_time": "2020-03-03T18:01:13.074873Z",
     "start_time": "2020-03-03T18:01:03.420748Z"
    },
    "scrolled": true
   },
   "outputs": [
    {
     "name": "stdout",
     "output_type": "stream",
     "text": [
      "Requirement already satisfied: geopandas in /opt/anaconda3/envs/learn-env/lib/python3.6/site-packages (0.7.0)\n",
      "Requirement already satisfied: fiona in /opt/anaconda3/envs/learn-env/lib/python3.6/site-packages (from geopandas) (1.8.13.post1)\n",
      "Requirement already satisfied: pyproj>=2.2.0 in /opt/anaconda3/envs/learn-env/lib/python3.6/site-packages (from geopandas) (2.5.0)\n",
      "Requirement already satisfied: shapely in /opt/anaconda3/envs/learn-env/lib/python3.6/site-packages (from geopandas) (1.7.0)\n",
      "Requirement already satisfied: pandas>=0.23.0 in /opt/anaconda3/envs/learn-env/lib/python3.6/site-packages (from geopandas) (0.23.4)\n",
      "Requirement already satisfied: attrs>=17 in /opt/anaconda3/envs/learn-env/lib/python3.6/site-packages (from fiona->geopandas) (19.3.0)\n",
      "Requirement already satisfied: click<8,>=4.0 in /opt/anaconda3/envs/learn-env/lib/python3.6/site-packages (from fiona->geopandas) (7.0)\n",
      "Requirement already satisfied: munch in /opt/anaconda3/envs/learn-env/lib/python3.6/site-packages (from fiona->geopandas) (2.5.0)\n",
      "Requirement already satisfied: six>=1.7 in /opt/anaconda3/envs/learn-env/lib/python3.6/site-packages (from fiona->geopandas) (1.11.0)\n",
      "Requirement already satisfied: click-plugins>=1.0 in /opt/anaconda3/envs/learn-env/lib/python3.6/site-packages (from fiona->geopandas) (1.1.1)\n",
      "Requirement already satisfied: cligj>=0.5 in /opt/anaconda3/envs/learn-env/lib/python3.6/site-packages (from fiona->geopandas) (0.5.0)\n",
      "Requirement already satisfied: python-dateutil>=2.5.0 in /opt/anaconda3/envs/learn-env/lib/python3.6/site-packages (from pandas>=0.23.0->geopandas) (2.8.1)\n",
      "Requirement already satisfied: pytz>=2011k in /opt/anaconda3/envs/learn-env/lib/python3.6/site-packages (from pandas>=0.23.0->geopandas) (2018.5)\n",
      "Requirement already satisfied: numpy>=1.9.0 in /opt/anaconda3/envs/learn-env/lib/python3.6/site-packages (from pandas>=0.23.0->geopandas) (1.17.4)\n"
     ]
    }
   ],
   "source": [
    "!pip install geopandas"
   ]
  },
  {
   "cell_type": "code",
   "execution_count": 28,
   "metadata": {
    "ExecuteTime": {
     "end_time": "2020-03-03T18:11:55.995758Z",
     "start_time": "2020-03-03T18:11:55.992385Z"
    }
   },
   "outputs": [
    {
     "ename": "ModuleNotFoundError",
     "evalue": "No module named 'geopandas'",
     "output_type": "error",
     "traceback": [
      "\u001b[0;31m---------------------------------------------------------------------------\u001b[0m",
      "\u001b[0;31mModuleNotFoundError\u001b[0m                       Traceback (most recent call last)",
      "\u001b[0;32m<ipython-input-28-fc7d1d298f0c>\u001b[0m in \u001b[0;36m<module>\u001b[0;34m\u001b[0m\n\u001b[0;32m----> 1\u001b[0;31m \u001b[0;32mimport\u001b[0m \u001b[0mgeopandas\u001b[0m\u001b[0;34m\u001b[0m\u001b[0;34m\u001b[0m\u001b[0m\n\u001b[0m",
      "\u001b[0;31mModuleNotFoundError\u001b[0m: No module named 'geopandas'"
     ]
    }
   ],
   "source": [
    "import geopandas"
   ]
  },
  {
   "cell_type": "code",
   "execution_count": null,
   "metadata": {
    "ExecuteTime": {
     "end_time": "2020-03-03T18:11:56.289695Z",
     "start_time": "2020-03-03T18:11:56.197928Z"
    }
   },
   "outputs": [],
   "source": [
    "world = geopandas.read_file(\n",
    "    geopandas.datasets.get_path('naturalearth_lowres')\n",
    ")\n",
    "boroughs = geopandas.read_file(\n",
    "    geoplot.datasets.get_path('nyc_boroughs')\n",
    ")\n",
    "collisions = geopandas.read_file(\n",
    "    geoplot.datasets.get_path('nyc_injurious_collisions')\n",
    ")"
   ]
  },
  {
   "cell_type": "code",
   "execution_count": null,
   "metadata": {
    "ExecuteTime": {
     "end_time": "2020-03-03T18:11:56.397554Z",
     "start_time": "2020-03-03T18:11:56.393598Z"
    }
   },
   "outputs": [],
   "source": [
    "import folium "
   ]
  },
  {
   "cell_type": "code",
   "execution_count": null,
   "metadata": {
    "ExecuteTime": {
     "end_time": "2020-03-03T17:58:25.221076Z",
     "start_time": "2020-03-03T17:58:25.200235Z"
    }
   },
   "outputs": [],
   "source": [
    "map_osm = folium.Map(location=[47.281505, -122.152278], zoom_start=11)\n",
    "#df.apply(lambda row:folium.CircleMarker(location=[row[\"blklatdd\"], row[\"blklondd\"]]).add_to(map_osm), axis=1)\n",
    "map_osm"
   ]
  },
  {
   "cell_type": "code",
   "execution_count": null,
   "metadata": {
    "ExecuteTime": {
     "end_time": "2020-03-03T17:58:14.647926Z",
     "start_time": "2020-03-03T17:58:14.442314Z"
    }
   },
   "outputs": [],
   "source": [
    "df2= pd.read_csv(\"QueryResults.csv\")"
   ]
  },
  {
   "cell_type": "code",
   "execution_count": null,
   "metadata": {
    "ExecuteTime": {
     "end_time": "2020-03-03T17:58:14.667741Z",
     "start_time": "2020-03-03T17:58:14.651978Z"
    }
   },
   "outputs": [],
   "source": [
    "df2.shape"
   ]
  },
  {
   "cell_type": "code",
   "execution_count": 29,
   "metadata": {
    "ExecuteTime": {
     "end_time": "2020-03-03T17:58:14.732784Z",
     "start_time": "2020-03-03T17:58:14.683758Z"
    }
   },
   "outputs": [
    {
     "ename": "NameError",
     "evalue": "name 'df2' is not defined",
     "output_type": "error",
     "traceback": [
      "\u001b[0;31m---------------------------------------------------------------------------\u001b[0m",
      "\u001b[0;31mNameError\u001b[0m                                 Traceback (most recent call last)",
      "\u001b[0;32m<ipython-input-29-64bc36e15d3c>\u001b[0m in \u001b[0;36m<module>\u001b[0;34m\u001b[0m\n\u001b[0;32m----> 1\u001b[0;31m \u001b[0mdf2\u001b[0m\u001b[0;34m.\u001b[0m\u001b[0mhead\u001b[0m\u001b[0;34m(\u001b[0m\u001b[0;36m10\u001b[0m\u001b[0;34m)\u001b[0m\u001b[0;34m\u001b[0m\u001b[0;34m\u001b[0m\u001b[0m\n\u001b[0m",
      "\u001b[0;31mNameError\u001b[0m: name 'df2' is not defined"
     ]
    }
   ],
   "source": [
    "df2.head(10)"
   ]
  },
  {
   "cell_type": "code",
   "execution_count": 30,
   "metadata": {
    "ExecuteTime": {
     "end_time": "2020-03-03T17:58:14.783154Z",
     "start_time": "2020-03-03T17:58:14.761682Z"
    }
   },
   "outputs": [
    {
     "ename": "NameError",
     "evalue": "name 'df2' is not defined",
     "output_type": "error",
     "traceback": [
      "\u001b[0;31m---------------------------------------------------------------------------\u001b[0m",
      "\u001b[0;31mNameError\u001b[0m                                 Traceback (most recent call last)",
      "\u001b[0;32m<ipython-input-30-828b1860915e>\u001b[0m in \u001b[0;36m<module>\u001b[0;34m\u001b[0m\n\u001b[0;32m----> 1\u001b[0;31m \u001b[0mdf_age\u001b[0m \u001b[0;34m=\u001b[0m \u001b[0mdf2\u001b[0m\u001b[0;34m[\u001b[0m\u001b[0;34m(\u001b[0m\u001b[0mdf2\u001b[0m\u001b[0;34m[\u001b[0m\u001b[0;34m\"agep\"\u001b[0m\u001b[0;34m]\u001b[0m\u001b[0;34m>=\u001b[0m\u001b[0;36m16\u001b[0m\u001b[0;34m)\u001b[0m\u001b[0;34m&\u001b[0m\u001b[0;34m(\u001b[0m\u001b[0mdf2\u001b[0m\u001b[0;34m[\u001b[0m\u001b[0;34m\"agep\"\u001b[0m\u001b[0;34m]\u001b[0m\u001b[0;34m<=\u001b[0m\u001b[0;36m24\u001b[0m\u001b[0;34m)\u001b[0m\u001b[0;34m]\u001b[0m\u001b[0;34m\u001b[0m\u001b[0;34m\u001b[0m\u001b[0m\n\u001b[0m",
      "\u001b[0;31mNameError\u001b[0m: name 'df2' is not defined"
     ]
    }
   ],
   "source": [
    "df_age = df2[(df2[\"agep\"]>=16)&(df2[\"agep\"]<=24)]\n"
   ]
  },
  {
   "cell_type": "code",
   "execution_count": 31,
   "metadata": {
    "ExecuteTime": {
     "end_time": "2020-03-03T17:58:14.825188Z",
     "start_time": "2020-03-03T17:58:14.796047Z"
    }
   },
   "outputs": [
    {
     "data": {
      "text/html": [
       "<div>\n",
       "<style scoped>\n",
       "    .dataframe tbody tr th:only-of-type {\n",
       "        vertical-align: middle;\n",
       "    }\n",
       "\n",
       "    .dataframe tbody tr th {\n",
       "        vertical-align: top;\n",
       "    }\n",
       "\n",
       "    .dataframe thead th {\n",
       "        text-align: right;\n",
       "    }\n",
       "</style>\n",
       "<table border=\"1\" class=\"dataframe\">\n",
       "  <thead>\n",
       "    <tr style=\"text-align: right;\">\n",
       "      <th></th>\n",
       "      <th>rt</th>\n",
       "      <th>serialno</th>\n",
       "      <th>division</th>\n",
       "      <th>sporder</th>\n",
       "      <th>puma</th>\n",
       "      <th>region</th>\n",
       "      <th>st</th>\n",
       "      <th>adjinc</th>\n",
       "      <th>pwgtp</th>\n",
       "      <th>agep</th>\n",
       "      <th>...</th>\n",
       "      <th>pwgtp71</th>\n",
       "      <th>pwgtp72</th>\n",
       "      <th>pwgtp73</th>\n",
       "      <th>pwgtp74</th>\n",
       "      <th>pwgtp75</th>\n",
       "      <th>pwgtp76</th>\n",
       "      <th>pwgtp77</th>\n",
       "      <th>pwgtp78</th>\n",
       "      <th>pwgtp79</th>\n",
       "      <th>pwgtp80</th>\n",
       "    </tr>\n",
       "  </thead>\n",
       "  <tbody>\n",
       "    <tr>\n",
       "      <td>10</td>\n",
       "      <td>P</td>\n",
       "      <td>2013000003570</td>\n",
       "      <td>9</td>\n",
       "      <td>1</td>\n",
       "      <td>11610</td>\n",
       "      <td>4</td>\n",
       "      <td>53</td>\n",
       "      <td>1061971</td>\n",
       "      <td>20</td>\n",
       "      <td>24</td>\n",
       "      <td>...</td>\n",
       "      <td>23</td>\n",
       "      <td>33</td>\n",
       "      <td>19</td>\n",
       "      <td>5</td>\n",
       "      <td>18</td>\n",
       "      <td>33</td>\n",
       "      <td>33</td>\n",
       "      <td>24</td>\n",
       "      <td>22</td>\n",
       "      <td>20</td>\n",
       "    </tr>\n",
       "    <tr>\n",
       "      <td>11</td>\n",
       "      <td>P</td>\n",
       "      <td>2013000003570</td>\n",
       "      <td>9</td>\n",
       "      <td>2</td>\n",
       "      <td>11610</td>\n",
       "      <td>4</td>\n",
       "      <td>53</td>\n",
       "      <td>1061971</td>\n",
       "      <td>15</td>\n",
       "      <td>24</td>\n",
       "      <td>...</td>\n",
       "      <td>16</td>\n",
       "      <td>26</td>\n",
       "      <td>14</td>\n",
       "      <td>4</td>\n",
       "      <td>17</td>\n",
       "      <td>24</td>\n",
       "      <td>29</td>\n",
       "      <td>14</td>\n",
       "      <td>15</td>\n",
       "      <td>16</td>\n",
       "    </tr>\n",
       "    <tr>\n",
       "      <td>23</td>\n",
       "      <td>P</td>\n",
       "      <td>2013000007063</td>\n",
       "      <td>9</td>\n",
       "      <td>2</td>\n",
       "      <td>11612</td>\n",
       "      <td>4</td>\n",
       "      <td>53</td>\n",
       "      <td>1061971</td>\n",
       "      <td>30</td>\n",
       "      <td>19</td>\n",
       "      <td>...</td>\n",
       "      <td>13</td>\n",
       "      <td>44</td>\n",
       "      <td>23</td>\n",
       "      <td>39</td>\n",
       "      <td>26</td>\n",
       "      <td>40</td>\n",
       "      <td>41</td>\n",
       "      <td>10</td>\n",
       "      <td>32</td>\n",
       "      <td>13</td>\n",
       "    </tr>\n",
       "    <tr>\n",
       "      <td>25</td>\n",
       "      <td>P</td>\n",
       "      <td>2013000008046</td>\n",
       "      <td>9</td>\n",
       "      <td>2</td>\n",
       "      <td>11613</td>\n",
       "      <td>4</td>\n",
       "      <td>53</td>\n",
       "      <td>1061971</td>\n",
       "      <td>36</td>\n",
       "      <td>17</td>\n",
       "      <td>...</td>\n",
       "      <td>35</td>\n",
       "      <td>39</td>\n",
       "      <td>9</td>\n",
       "      <td>32</td>\n",
       "      <td>43</td>\n",
       "      <td>55</td>\n",
       "      <td>8</td>\n",
       "      <td>54</td>\n",
       "      <td>53</td>\n",
       "      <td>38</td>\n",
       "    </tr>\n",
       "    <tr>\n",
       "      <td>29</td>\n",
       "      <td>P</td>\n",
       "      <td>2013000010953</td>\n",
       "      <td>9</td>\n",
       "      <td>3</td>\n",
       "      <td>11610</td>\n",
       "      <td>4</td>\n",
       "      <td>53</td>\n",
       "      <td>1061971</td>\n",
       "      <td>15</td>\n",
       "      <td>18</td>\n",
       "      <td>...</td>\n",
       "      <td>25</td>\n",
       "      <td>17</td>\n",
       "      <td>21</td>\n",
       "      <td>28</td>\n",
       "      <td>25</td>\n",
       "      <td>14</td>\n",
       "      <td>29</td>\n",
       "      <td>21</td>\n",
       "      <td>9</td>\n",
       "      <td>6</td>\n",
       "    </tr>\n",
       "  </tbody>\n",
       "</table>\n",
       "<p>5 rows × 286 columns</p>\n",
       "</div>"
      ],
      "text/plain": [
       "   rt       serialno  division  sporder   puma  region  st   adjinc  pwgtp  \\\n",
       "10  P  2013000003570         9        1  11610       4  53  1061971     20   \n",
       "11  P  2013000003570         9        2  11610       4  53  1061971     15   \n",
       "23  P  2013000007063         9        2  11612       4  53  1061971     30   \n",
       "25  P  2013000008046         9        2  11613       4  53  1061971     36   \n",
       "29  P  2013000010953         9        3  11610       4  53  1061971     15   \n",
       "\n",
       "    agep  ...  pwgtp71  pwgtp72  pwgtp73  pwgtp74  pwgtp75  pwgtp76  pwgtp77  \\\n",
       "10    24  ...       23       33       19        5       18       33       33   \n",
       "11    24  ...       16       26       14        4       17       24       29   \n",
       "23    19  ...       13       44       23       39       26       40       41   \n",
       "25    17  ...       35       39        9       32       43       55        8   \n",
       "29    18  ...       25       17       21       28       25       14       29   \n",
       "\n",
       "    pwgtp78  pwgtp79  pwgtp80  \n",
       "10       24       22       20  \n",
       "11       14       15       16  \n",
       "23       10       32       13  \n",
       "25       54       53       38  \n",
       "29       21        9        6  \n",
       "\n",
       "[5 rows x 286 columns]"
      ]
     },
     "execution_count": 31,
     "metadata": {},
     "output_type": "execute_result"
    }
   ],
   "source": [
    "df_age.head()"
   ]
  },
  {
   "cell_type": "code",
   "execution_count": 32,
   "metadata": {
    "ExecuteTime": {
     "end_time": "2020-03-03T17:58:14.840955Z",
     "start_time": "2020-03-03T17:58:14.828300Z"
    }
   },
   "outputs": [],
   "source": [
    "df_age_unique = df_age[(df_age[\"esr\"]==3) | (df_age[\"esr\"]==6)]"
   ]
  },
  {
   "cell_type": "code",
   "execution_count": 33,
   "metadata": {
    "ExecuteTime": {
     "end_time": "2020-03-03T17:58:14.865500Z",
     "start_time": "2020-03-03T17:58:14.843769Z"
    }
   },
   "outputs": [
    {
     "data": {
      "text/html": [
       "<div>\n",
       "<style scoped>\n",
       "    .dataframe tbody tr th:only-of-type {\n",
       "        vertical-align: middle;\n",
       "    }\n",
       "\n",
       "    .dataframe tbody tr th {\n",
       "        vertical-align: top;\n",
       "    }\n",
       "\n",
       "    .dataframe thead th {\n",
       "        text-align: right;\n",
       "    }\n",
       "</style>\n",
       "<table border=\"1\" class=\"dataframe\">\n",
       "  <thead>\n",
       "    <tr style=\"text-align: right;\">\n",
       "      <th></th>\n",
       "      <th>rt</th>\n",
       "      <th>serialno</th>\n",
       "      <th>division</th>\n",
       "      <th>sporder</th>\n",
       "      <th>puma</th>\n",
       "      <th>region</th>\n",
       "      <th>st</th>\n",
       "      <th>adjinc</th>\n",
       "      <th>pwgtp</th>\n",
       "      <th>agep</th>\n",
       "      <th>...</th>\n",
       "      <th>pwgtp71</th>\n",
       "      <th>pwgtp72</th>\n",
       "      <th>pwgtp73</th>\n",
       "      <th>pwgtp74</th>\n",
       "      <th>pwgtp75</th>\n",
       "      <th>pwgtp76</th>\n",
       "      <th>pwgtp77</th>\n",
       "      <th>pwgtp78</th>\n",
       "      <th>pwgtp79</th>\n",
       "      <th>pwgtp80</th>\n",
       "    </tr>\n",
       "  </thead>\n",
       "  <tbody>\n",
       "    <tr>\n",
       "      <td>23</td>\n",
       "      <td>P</td>\n",
       "      <td>2013000007063</td>\n",
       "      <td>9</td>\n",
       "      <td>2</td>\n",
       "      <td>11612</td>\n",
       "      <td>4</td>\n",
       "      <td>53</td>\n",
       "      <td>1061971</td>\n",
       "      <td>30</td>\n",
       "      <td>19</td>\n",
       "      <td>...</td>\n",
       "      <td>13</td>\n",
       "      <td>44</td>\n",
       "      <td>23</td>\n",
       "      <td>39</td>\n",
       "      <td>26</td>\n",
       "      <td>40</td>\n",
       "      <td>41</td>\n",
       "      <td>10</td>\n",
       "      <td>32</td>\n",
       "      <td>13</td>\n",
       "    </tr>\n",
       "    <tr>\n",
       "      <td>25</td>\n",
       "      <td>P</td>\n",
       "      <td>2013000008046</td>\n",
       "      <td>9</td>\n",
       "      <td>2</td>\n",
       "      <td>11613</td>\n",
       "      <td>4</td>\n",
       "      <td>53</td>\n",
       "      <td>1061971</td>\n",
       "      <td>36</td>\n",
       "      <td>17</td>\n",
       "      <td>...</td>\n",
       "      <td>35</td>\n",
       "      <td>39</td>\n",
       "      <td>9</td>\n",
       "      <td>32</td>\n",
       "      <td>43</td>\n",
       "      <td>55</td>\n",
       "      <td>8</td>\n",
       "      <td>54</td>\n",
       "      <td>53</td>\n",
       "      <td>38</td>\n",
       "    </tr>\n",
       "    <tr>\n",
       "      <td>29</td>\n",
       "      <td>P</td>\n",
       "      <td>2013000010953</td>\n",
       "      <td>9</td>\n",
       "      <td>3</td>\n",
       "      <td>11610</td>\n",
       "      <td>4</td>\n",
       "      <td>53</td>\n",
       "      <td>1061971</td>\n",
       "      <td>15</td>\n",
       "      <td>18</td>\n",
       "      <td>...</td>\n",
       "      <td>25</td>\n",
       "      <td>17</td>\n",
       "      <td>21</td>\n",
       "      <td>28</td>\n",
       "      <td>25</td>\n",
       "      <td>14</td>\n",
       "      <td>29</td>\n",
       "      <td>21</td>\n",
       "      <td>9</td>\n",
       "      <td>6</td>\n",
       "    </tr>\n",
       "    <tr>\n",
       "      <td>30</td>\n",
       "      <td>P</td>\n",
       "      <td>2013000010953</td>\n",
       "      <td>9</td>\n",
       "      <td>4</td>\n",
       "      <td>11610</td>\n",
       "      <td>4</td>\n",
       "      <td>53</td>\n",
       "      <td>1061971</td>\n",
       "      <td>9</td>\n",
       "      <td>16</td>\n",
       "      <td>...</td>\n",
       "      <td>9</td>\n",
       "      <td>11</td>\n",
       "      <td>10</td>\n",
       "      <td>13</td>\n",
       "      <td>13</td>\n",
       "      <td>10</td>\n",
       "      <td>11</td>\n",
       "      <td>16</td>\n",
       "      <td>8</td>\n",
       "      <td>2</td>\n",
       "    </tr>\n",
       "    <tr>\n",
       "      <td>38</td>\n",
       "      <td>P</td>\n",
       "      <td>2013000011255</td>\n",
       "      <td>9</td>\n",
       "      <td>2</td>\n",
       "      <td>11614</td>\n",
       "      <td>4</td>\n",
       "      <td>53</td>\n",
       "      <td>1061971</td>\n",
       "      <td>13</td>\n",
       "      <td>17</td>\n",
       "      <td>...</td>\n",
       "      <td>24</td>\n",
       "      <td>13</td>\n",
       "      <td>4</td>\n",
       "      <td>3</td>\n",
       "      <td>4</td>\n",
       "      <td>13</td>\n",
       "      <td>24</td>\n",
       "      <td>4</td>\n",
       "      <td>15</td>\n",
       "      <td>13</td>\n",
       "    </tr>\n",
       "  </tbody>\n",
       "</table>\n",
       "<p>5 rows × 286 columns</p>\n",
       "</div>"
      ],
      "text/plain": [
       "   rt       serialno  division  sporder   puma  region  st   adjinc  pwgtp  \\\n",
       "23  P  2013000007063         9        2  11612       4  53  1061971     30   \n",
       "25  P  2013000008046         9        2  11613       4  53  1061971     36   \n",
       "29  P  2013000010953         9        3  11610       4  53  1061971     15   \n",
       "30  P  2013000010953         9        4  11610       4  53  1061971      9   \n",
       "38  P  2013000011255         9        2  11614       4  53  1061971     13   \n",
       "\n",
       "    agep  ...  pwgtp71  pwgtp72  pwgtp73  pwgtp74  pwgtp75  pwgtp76  pwgtp77  \\\n",
       "23    19  ...       13       44       23       39       26       40       41   \n",
       "25    17  ...       35       39        9       32       43       55        8   \n",
       "29    18  ...       25       17       21       28       25       14       29   \n",
       "30    16  ...        9       11       10       13       13       10       11   \n",
       "38    17  ...       24       13        4        3        4       13       24   \n",
       "\n",
       "    pwgtp78  pwgtp79  pwgtp80  \n",
       "23       10       32       13  \n",
       "25       54       53       38  \n",
       "29       21        9        6  \n",
       "30       16        8        2  \n",
       "38        4       15       13  \n",
       "\n",
       "[5 rows x 286 columns]"
      ]
     },
     "execution_count": 33,
     "metadata": {},
     "output_type": "execute_result"
    }
   ],
   "source": [
    "df_age_unique.head()"
   ]
  },
  {
   "cell_type": "code",
   "execution_count": 34,
   "metadata": {
    "ExecuteTime": {
     "end_time": "2020-03-03T17:58:14.880424Z",
     "start_time": "2020-03-03T17:58:14.872367Z"
    }
   },
   "outputs": [
    {
     "data": {
      "text/plain": [
       "(1735, 286)"
      ]
     },
     "execution_count": 34,
     "metadata": {},
     "output_type": "execute_result"
    }
   ],
   "source": [
    "df_age_unique.shape"
   ]
  },
  {
   "cell_type": "code",
   "execution_count": 35,
   "metadata": {
    "ExecuteTime": {
     "end_time": "2020-03-03T17:58:14.892516Z",
     "start_time": "2020-03-03T17:58:14.882447Z"
    }
   },
   "outputs": [],
   "source": [
    "df_was=pd.read_csv(\"naweedquery.csv\")"
   ]
  },
  {
   "cell_type": "code",
   "execution_count": 36,
   "metadata": {
    "ExecuteTime": {
     "end_time": "2020-03-03T17:58:14.907906Z",
     "start_time": "2020-03-03T17:58:14.894467Z"
    }
   },
   "outputs": [
    {
     "data": {
      "text/html": [
       "<div>\n",
       "<style scoped>\n",
       "    .dataframe tbody tr th:only-of-type {\n",
       "        vertical-align: middle;\n",
       "    }\n",
       "\n",
       "    .dataframe tbody tr th {\n",
       "        vertical-align: top;\n",
       "    }\n",
       "\n",
       "    .dataframe thead th {\n",
       "        text-align: right;\n",
       "    }\n",
       "</style>\n",
       "<table border=\"1\" class=\"dataframe\">\n",
       "  <thead>\n",
       "    <tr style=\"text-align: right;\">\n",
       "      <th></th>\n",
       "      <th>state_fips</th>\n",
       "      <th>state_name</th>\n",
       "      <th>cpuma0010</th>\n",
       "      <th>puma</th>\n",
       "      <th>geoid</th>\n",
       "      <th>gisjoin</th>\n",
       "      <th>puma_name</th>\n",
       "    </tr>\n",
       "  </thead>\n",
       "  <tbody>\n",
       "    <tr>\n",
       "      <td>0</td>\n",
       "      <td>1</td>\n",
       "      <td>Alabama                                       ...</td>\n",
       "      <td>14</td>\n",
       "      <td>1900</td>\n",
       "      <td>101900</td>\n",
       "      <td>G01001900</td>\n",
       "      <td>Lee County--Auburn City                       ...</td>\n",
       "    </tr>\n",
       "    <tr>\n",
       "      <td>1</td>\n",
       "      <td>1</td>\n",
       "      <td>Alabama                                       ...</td>\n",
       "      <td>16</td>\n",
       "      <td>2300</td>\n",
       "      <td>102300</td>\n",
       "      <td>G01002300</td>\n",
       "      <td>Coffee, Covington, Butler &amp; Crenshaw Counties ...</td>\n",
       "    </tr>\n",
       "    <tr>\n",
       "      <td>2</td>\n",
       "      <td>6</td>\n",
       "      <td>California                                    ...</td>\n",
       "      <td>108</td>\n",
       "      <td>6103</td>\n",
       "      <td>606103</td>\n",
       "      <td>G06006103</td>\n",
       "      <td>Placer County (East/High Country Region)--Aubu...</td>\n",
       "    </tr>\n",
       "    <tr>\n",
       "      <td>3</td>\n",
       "      <td>10</td>\n",
       "      <td>Delaware                                      ...</td>\n",
       "      <td>198</td>\n",
       "      <td>200</td>\n",
       "      <td>1000200</td>\n",
       "      <td>G10000200</td>\n",
       "      <td>Kent County--Dover City                       ...</td>\n",
       "    </tr>\n",
       "    <tr>\n",
       "      <td>4</td>\n",
       "      <td>17</td>\n",
       "      <td>Illinois                                      ...</td>\n",
       "      <td>337</td>\n",
       "      <td>3531</td>\n",
       "      <td>1703531</td>\n",
       "      <td>G17003531</td>\n",
       "      <td>Chicago City (South)--Auburn Gresham, Roseland...</td>\n",
       "    </tr>\n",
       "  </tbody>\n",
       "</table>\n",
       "</div>"
      ],
      "text/plain": [
       "   state_fips                                         state_name  cpuma0010  \\\n",
       "0           1  Alabama                                       ...         14   \n",
       "1           1  Alabama                                       ...         16   \n",
       "2           6  California                                    ...        108   \n",
       "3          10  Delaware                                      ...        198   \n",
       "4          17  Illinois                                      ...        337   \n",
       "\n",
       "   puma    geoid    gisjoin                                          puma_name  \n",
       "0  1900   101900  G01001900  Lee County--Auburn City                       ...  \n",
       "1  2300   102300  G01002300  Coffee, Covington, Butler & Crenshaw Counties ...  \n",
       "2  6103   606103  G06006103  Placer County (East/High Country Region)--Aubu...  \n",
       "3   200  1000200  G10000200  Kent County--Dover City                       ...  \n",
       "4  3531  1703531  G17003531  Chicago City (South)--Auburn Gresham, Roseland...  "
      ]
     },
     "execution_count": 36,
     "metadata": {},
     "output_type": "execute_result"
    }
   ],
   "source": [
    "df_was.head()"
   ]
  },
  {
   "cell_type": "code",
   "execution_count": 37,
   "metadata": {
    "ExecuteTime": {
     "end_time": "2020-03-03T17:58:14.920812Z",
     "start_time": "2020-03-03T17:58:14.911051Z"
    }
   },
   "outputs": [
    {
     "data": {
      "text/plain": [
       "array([11610, 11613, 11614, 11615, 11611, 11612])"
      ]
     },
     "execution_count": 37,
     "metadata": {},
     "output_type": "execute_result"
    }
   ],
   "source": [
    "df_was[df_was[\"state_fips\"]==53][\"puma\"].unique()\n"
   ]
  },
  {
   "cell_type": "code",
   "execution_count": 38,
   "metadata": {
    "ExecuteTime": {
     "end_time": "2020-03-03T17:58:15.136481Z",
     "start_time": "2020-03-03T17:58:14.923329Z"
    }
   },
   "outputs": [],
   "source": [
    "df_was2=pd.read_csv(\"ws_rm.csv\")"
   ]
  },
  {
   "cell_type": "code",
   "execution_count": 39,
   "metadata": {},
   "outputs": [
    {
     "data": {
      "text/html": [
       "<div>\n",
       "<style scoped>\n",
       "    .dataframe tbody tr th:only-of-type {\n",
       "        vertical-align: middle;\n",
       "    }\n",
       "\n",
       "    .dataframe tbody tr th {\n",
       "        vertical-align: top;\n",
       "    }\n",
       "\n",
       "    .dataframe thead th {\n",
       "        text-align: right;\n",
       "    }\n",
       "</style>\n",
       "<table border=\"1\" class=\"dataframe\">\n",
       "  <thead>\n",
       "    <tr style=\"text-align: right;\">\n",
       "      <th></th>\n",
       "      <th>rt</th>\n",
       "      <th>serialno</th>\n",
       "      <th>division</th>\n",
       "      <th>sporder</th>\n",
       "      <th>puma</th>\n",
       "      <th>region</th>\n",
       "      <th>st</th>\n",
       "      <th>adjinc</th>\n",
       "      <th>pwgtp</th>\n",
       "      <th>agep</th>\n",
       "      <th>...</th>\n",
       "      <th>pwgtp71</th>\n",
       "      <th>pwgtp72</th>\n",
       "      <th>pwgtp73</th>\n",
       "      <th>pwgtp74</th>\n",
       "      <th>pwgtp75</th>\n",
       "      <th>pwgtp76</th>\n",
       "      <th>pwgtp77</th>\n",
       "      <th>pwgtp78</th>\n",
       "      <th>pwgtp79</th>\n",
       "      <th>pwgtp80</th>\n",
       "    </tr>\n",
       "  </thead>\n",
       "  <tbody>\n",
       "    <tr>\n",
       "      <td>0</td>\n",
       "      <td>P</td>\n",
       "      <td>2013000000082</td>\n",
       "      <td>9</td>\n",
       "      <td>1</td>\n",
       "      <td>11615</td>\n",
       "      <td>4</td>\n",
       "      <td>53</td>\n",
       "      <td>1061971</td>\n",
       "      <td>90</td>\n",
       "      <td>40</td>\n",
       "      <td>...</td>\n",
       "      <td>119</td>\n",
       "      <td>152</td>\n",
       "      <td>33</td>\n",
       "      <td>30</td>\n",
       "      <td>100</td>\n",
       "      <td>77</td>\n",
       "      <td>115</td>\n",
       "      <td>85</td>\n",
       "      <td>114</td>\n",
       "      <td>29</td>\n",
       "    </tr>\n",
       "    <tr>\n",
       "      <td>1</td>\n",
       "      <td>P</td>\n",
       "      <td>2013000000082</td>\n",
       "      <td>9</td>\n",
       "      <td>2</td>\n",
       "      <td>11615</td>\n",
       "      <td>4</td>\n",
       "      <td>53</td>\n",
       "      <td>1061971</td>\n",
       "      <td>78</td>\n",
       "      <td>11</td>\n",
       "      <td>...</td>\n",
       "      <td>124</td>\n",
       "      <td>148</td>\n",
       "      <td>21</td>\n",
       "      <td>30</td>\n",
       "      <td>93</td>\n",
       "      <td>75</td>\n",
       "      <td>91</td>\n",
       "      <td>79</td>\n",
       "      <td>116</td>\n",
       "      <td>31</td>\n",
       "    </tr>\n",
       "    <tr>\n",
       "      <td>2</td>\n",
       "      <td>P</td>\n",
       "      <td>2013000000082</td>\n",
       "      <td>9</td>\n",
       "      <td>3</td>\n",
       "      <td>11615</td>\n",
       "      <td>4</td>\n",
       "      <td>53</td>\n",
       "      <td>1061971</td>\n",
       "      <td>60</td>\n",
       "      <td>9</td>\n",
       "      <td>...</td>\n",
       "      <td>112</td>\n",
       "      <td>102</td>\n",
       "      <td>20</td>\n",
       "      <td>23</td>\n",
       "      <td>58</td>\n",
       "      <td>50</td>\n",
       "      <td>80</td>\n",
       "      <td>58</td>\n",
       "      <td>102</td>\n",
       "      <td>17</td>\n",
       "    </tr>\n",
       "    <tr>\n",
       "      <td>3</td>\n",
       "      <td>P</td>\n",
       "      <td>2013000000082</td>\n",
       "      <td>9</td>\n",
       "      <td>4</td>\n",
       "      <td>11615</td>\n",
       "      <td>4</td>\n",
       "      <td>53</td>\n",
       "      <td>1061971</td>\n",
       "      <td>109</td>\n",
       "      <td>48</td>\n",
       "      <td>...</td>\n",
       "      <td>127</td>\n",
       "      <td>177</td>\n",
       "      <td>46</td>\n",
       "      <td>37</td>\n",
       "      <td>110</td>\n",
       "      <td>123</td>\n",
       "      <td>135</td>\n",
       "      <td>95</td>\n",
       "      <td>132</td>\n",
       "      <td>41</td>\n",
       "    </tr>\n",
       "    <tr>\n",
       "      <td>4</td>\n",
       "      <td>P</td>\n",
       "      <td>2013000000082</td>\n",
       "      <td>9</td>\n",
       "      <td>5</td>\n",
       "      <td>11615</td>\n",
       "      <td>4</td>\n",
       "      <td>53</td>\n",
       "      <td>1061971</td>\n",
       "      <td>108</td>\n",
       "      <td>48</td>\n",
       "      <td>...</td>\n",
       "      <td>127</td>\n",
       "      <td>176</td>\n",
       "      <td>47</td>\n",
       "      <td>37</td>\n",
       "      <td>110</td>\n",
       "      <td>123</td>\n",
       "      <td>135</td>\n",
       "      <td>96</td>\n",
       "      <td>133</td>\n",
       "      <td>41</td>\n",
       "    </tr>\n",
       "  </tbody>\n",
       "</table>\n",
       "<p>5 rows × 286 columns</p>\n",
       "</div>"
      ],
      "text/plain": [
       "  rt       serialno  division  sporder   puma  region  st   adjinc  pwgtp  \\\n",
       "0  P  2013000000082         9        1  11615       4  53  1061971     90   \n",
       "1  P  2013000000082         9        2  11615       4  53  1061971     78   \n",
       "2  P  2013000000082         9        3  11615       4  53  1061971     60   \n",
       "3  P  2013000000082         9        4  11615       4  53  1061971    109   \n",
       "4  P  2013000000082         9        5  11615       4  53  1061971    108   \n",
       "\n",
       "   agep  ...  pwgtp71  pwgtp72  pwgtp73  pwgtp74  pwgtp75  pwgtp76  pwgtp77  \\\n",
       "0    40  ...      119      152       33       30      100       77      115   \n",
       "1    11  ...      124      148       21       30       93       75       91   \n",
       "2     9  ...      112      102       20       23       58       50       80   \n",
       "3    48  ...      127      177       46       37      110      123      135   \n",
       "4    48  ...      127      176       47       37      110      123      135   \n",
       "\n",
       "   pwgtp78  pwgtp79  pwgtp80  \n",
       "0       85      114       29  \n",
       "1       79      116       31  \n",
       "2       58      102       17  \n",
       "3       95      132       41  \n",
       "4       96      133       41  \n",
       "\n",
       "[5 rows x 286 columns]"
      ]
     },
     "execution_count": 39,
     "metadata": {},
     "output_type": "execute_result"
    }
   ],
   "source": [
    "df_was2.head()"
   ]
  },
  {
   "cell_type": "code",
   "execution_count": 40,
   "metadata": {},
   "outputs": [
    {
     "data": {
      "text/plain": [
       "(34145, 286)"
      ]
     },
     "execution_count": 40,
     "metadata": {},
     "output_type": "execute_result"
    }
   ],
   "source": [
    "df_was2.shape"
   ]
  },
  {
   "cell_type": "code",
   "execution_count": 41,
   "metadata": {},
   "outputs": [],
   "source": [
    "df_age = df_was2[(df_was2[\"agep\"]>=16)&(df_was2[\"agep\"]<=24)]"
   ]
  },
  {
   "cell_type": "code",
   "execution_count": 42,
   "metadata": {},
   "outputs": [],
   "source": [
    "df_work = df_age[(df_age[\"esr\"]==3) | (df_age[\"esr\"]==6)]"
   ]
  },
  {
   "cell_type": "code",
   "execution_count": 43,
   "metadata": {},
   "outputs": [
    {
     "data": {
      "text/plain": [
       "(1735, 286)"
      ]
     },
     "execution_count": 43,
     "metadata": {},
     "output_type": "execute_result"
    }
   ],
   "source": [
    "df_work.shape"
   ]
  },
  {
   "cell_type": "code",
   "execution_count": 44,
   "metadata": {},
   "outputs": [
    {
     "data": {
      "text/html": [
       "<div>\n",
       "<style scoped>\n",
       "    .dataframe tbody tr th:only-of-type {\n",
       "        vertical-align: middle;\n",
       "    }\n",
       "\n",
       "    .dataframe tbody tr th {\n",
       "        vertical-align: top;\n",
       "    }\n",
       "\n",
       "    .dataframe thead th {\n",
       "        text-align: right;\n",
       "    }\n",
       "</style>\n",
       "<table border=\"1\" class=\"dataframe\">\n",
       "  <thead>\n",
       "    <tr style=\"text-align: right;\">\n",
       "      <th></th>\n",
       "      <th>rt</th>\n",
       "      <th>serialno</th>\n",
       "      <th>division</th>\n",
       "      <th>sporder</th>\n",
       "      <th>puma</th>\n",
       "      <th>region</th>\n",
       "      <th>st</th>\n",
       "      <th>adjinc</th>\n",
       "      <th>pwgtp</th>\n",
       "      <th>agep</th>\n",
       "      <th>...</th>\n",
       "      <th>pwgtp71</th>\n",
       "      <th>pwgtp72</th>\n",
       "      <th>pwgtp73</th>\n",
       "      <th>pwgtp74</th>\n",
       "      <th>pwgtp75</th>\n",
       "      <th>pwgtp76</th>\n",
       "      <th>pwgtp77</th>\n",
       "      <th>pwgtp78</th>\n",
       "      <th>pwgtp79</th>\n",
       "      <th>pwgtp80</th>\n",
       "    </tr>\n",
       "  </thead>\n",
       "  <tbody>\n",
       "    <tr>\n",
       "      <td>23</td>\n",
       "      <td>P</td>\n",
       "      <td>2013000007063</td>\n",
       "      <td>9</td>\n",
       "      <td>2</td>\n",
       "      <td>11612</td>\n",
       "      <td>4</td>\n",
       "      <td>53</td>\n",
       "      <td>1061971</td>\n",
       "      <td>30</td>\n",
       "      <td>19</td>\n",
       "      <td>...</td>\n",
       "      <td>13</td>\n",
       "      <td>44</td>\n",
       "      <td>23</td>\n",
       "      <td>39</td>\n",
       "      <td>26</td>\n",
       "      <td>40</td>\n",
       "      <td>41</td>\n",
       "      <td>10</td>\n",
       "      <td>32</td>\n",
       "      <td>13</td>\n",
       "    </tr>\n",
       "    <tr>\n",
       "      <td>25</td>\n",
       "      <td>P</td>\n",
       "      <td>2013000008046</td>\n",
       "      <td>9</td>\n",
       "      <td>2</td>\n",
       "      <td>11613</td>\n",
       "      <td>4</td>\n",
       "      <td>53</td>\n",
       "      <td>1061971</td>\n",
       "      <td>36</td>\n",
       "      <td>17</td>\n",
       "      <td>...</td>\n",
       "      <td>35</td>\n",
       "      <td>39</td>\n",
       "      <td>9</td>\n",
       "      <td>32</td>\n",
       "      <td>43</td>\n",
       "      <td>55</td>\n",
       "      <td>8</td>\n",
       "      <td>54</td>\n",
       "      <td>53</td>\n",
       "      <td>38</td>\n",
       "    </tr>\n",
       "    <tr>\n",
       "      <td>29</td>\n",
       "      <td>P</td>\n",
       "      <td>2013000010953</td>\n",
       "      <td>9</td>\n",
       "      <td>3</td>\n",
       "      <td>11610</td>\n",
       "      <td>4</td>\n",
       "      <td>53</td>\n",
       "      <td>1061971</td>\n",
       "      <td>15</td>\n",
       "      <td>18</td>\n",
       "      <td>...</td>\n",
       "      <td>25</td>\n",
       "      <td>17</td>\n",
       "      <td>21</td>\n",
       "      <td>28</td>\n",
       "      <td>25</td>\n",
       "      <td>14</td>\n",
       "      <td>29</td>\n",
       "      <td>21</td>\n",
       "      <td>9</td>\n",
       "      <td>6</td>\n",
       "    </tr>\n",
       "    <tr>\n",
       "      <td>30</td>\n",
       "      <td>P</td>\n",
       "      <td>2013000010953</td>\n",
       "      <td>9</td>\n",
       "      <td>4</td>\n",
       "      <td>11610</td>\n",
       "      <td>4</td>\n",
       "      <td>53</td>\n",
       "      <td>1061971</td>\n",
       "      <td>9</td>\n",
       "      <td>16</td>\n",
       "      <td>...</td>\n",
       "      <td>9</td>\n",
       "      <td>11</td>\n",
       "      <td>10</td>\n",
       "      <td>13</td>\n",
       "      <td>13</td>\n",
       "      <td>10</td>\n",
       "      <td>11</td>\n",
       "      <td>16</td>\n",
       "      <td>8</td>\n",
       "      <td>2</td>\n",
       "    </tr>\n",
       "    <tr>\n",
       "      <td>38</td>\n",
       "      <td>P</td>\n",
       "      <td>2013000011255</td>\n",
       "      <td>9</td>\n",
       "      <td>2</td>\n",
       "      <td>11614</td>\n",
       "      <td>4</td>\n",
       "      <td>53</td>\n",
       "      <td>1061971</td>\n",
       "      <td>13</td>\n",
       "      <td>17</td>\n",
       "      <td>...</td>\n",
       "      <td>24</td>\n",
       "      <td>13</td>\n",
       "      <td>4</td>\n",
       "      <td>3</td>\n",
       "      <td>4</td>\n",
       "      <td>13</td>\n",
       "      <td>24</td>\n",
       "      <td>4</td>\n",
       "      <td>15</td>\n",
       "      <td>13</td>\n",
       "    </tr>\n",
       "  </tbody>\n",
       "</table>\n",
       "<p>5 rows × 286 columns</p>\n",
       "</div>"
      ],
      "text/plain": [
       "   rt       serialno  division  sporder   puma  region  st   adjinc  pwgtp  \\\n",
       "23  P  2013000007063         9        2  11612       4  53  1061971     30   \n",
       "25  P  2013000008046         9        2  11613       4  53  1061971     36   \n",
       "29  P  2013000010953         9        3  11610       4  53  1061971     15   \n",
       "30  P  2013000010953         9        4  11610       4  53  1061971      9   \n",
       "38  P  2013000011255         9        2  11614       4  53  1061971     13   \n",
       "\n",
       "    agep  ...  pwgtp71  pwgtp72  pwgtp73  pwgtp74  pwgtp75  pwgtp76  pwgtp77  \\\n",
       "23    19  ...       13       44       23       39       26       40       41   \n",
       "25    17  ...       35       39        9       32       43       55        8   \n",
       "29    18  ...       25       17       21       28       25       14       29   \n",
       "30    16  ...        9       11       10       13       13       10       11   \n",
       "38    17  ...       24       13        4        3        4       13       24   \n",
       "\n",
       "    pwgtp78  pwgtp79  pwgtp80  \n",
       "23       10       32       13  \n",
       "25       54       53       38  \n",
       "29       21        9        6  \n",
       "30       16        8        2  \n",
       "38        4       15       13  \n",
       "\n",
       "[5 rows x 286 columns]"
      ]
     },
     "execution_count": 44,
     "metadata": {},
     "output_type": "execute_result"
    }
   ],
   "source": [
    "df_work.head()"
   ]
  },
  {
   "cell_type": "code",
   "execution_count": 45,
   "metadata": {},
   "outputs": [],
   "source": [
    "df_1618 = df_work[(df_work[\"agep\"]>=16)&(df_work[\"agep\"]<=18)]"
   ]
  },
  {
   "cell_type": "code",
   "execution_count": 102,
   "metadata": {},
   "outputs": [
    {
     "data": {
      "text/plain": [
       "1020"
      ]
     },
     "execution_count": 102,
     "metadata": {},
     "output_type": "execute_result"
    }
   ],
   "source": [
    "df_1618[\"agep\"].count()"
   ]
  },
  {
   "cell_type": "code",
   "execution_count": 47,
   "metadata": {},
   "outputs": [],
   "source": [
    "df_1921 = df_work[(df_work[\"agep\"]>=19)&(df_work[\"agep\"]<=21)]"
   ]
  },
  {
   "cell_type": "code",
   "execution_count": 101,
   "metadata": {},
   "outputs": [
    {
     "data": {
      "text/plain": [
       "416"
      ]
     },
     "execution_count": 101,
     "metadata": {},
     "output_type": "execute_result"
    }
   ],
   "source": [
    "df_1921[\"agep\"].count()"
   ]
  },
  {
   "cell_type": "code",
   "execution_count": 49,
   "metadata": {},
   "outputs": [],
   "source": [
    "df_2224 = df_work[(df_work[\"agep\"]>=22)&(df_work[\"agep\"]<=24)]"
   ]
  },
  {
   "cell_type": "code",
   "execution_count": 100,
   "metadata": {},
   "outputs": [
    {
     "data": {
      "text/plain": [
       "299"
      ]
     },
     "execution_count": 100,
     "metadata": {},
     "output_type": "execute_result"
    }
   ],
   "source": [
    "df_2224[\"agep\"].count()"
   ]
  },
  {
   "cell_type": "code",
   "execution_count": 104,
   "metadata": {},
   "outputs": [],
   "source": [
    "df_no_diploma = df_work[df_work[\"schl\"]==12]"
   ]
  },
  {
   "cell_type": "code",
   "execution_count": 105,
   "metadata": {},
   "outputs": [
    {
     "data": {
      "text/plain": [
       "168"
      ]
     },
     "execution_count": 105,
     "metadata": {},
     "output_type": "execute_result"
    }
   ],
   "source": [
    "df_no_diploma[\"schl\"].count()"
   ]
  },
  {
   "cell_type": "code",
   "execution_count": 106,
   "metadata": {},
   "outputs": [],
   "source": [
    "df_work.loc[(df_work['agep'] < 16), 'Age_Group'] = 'other'\n"
   ]
  },
  {
   "cell_type": "code",
   "execution_count": 89,
   "metadata": {},
   "outputs": [],
   "source": [
    "df_work.loc[(df_work[\"agep\"]>24), \"Age_Group\"] =\"other\""
   ]
  },
  {
   "cell_type": "code",
   "execution_count": 91,
   "metadata": {},
   "outputs": [],
   "source": [
    "df_work.loc[((df_work['agep'] >= 16) & (df_work['agep'] <=18)) ,  'Age_Group'] = '16-18'"
   ]
  },
  {
   "cell_type": "code",
   "execution_count": 93,
   "metadata": {},
   "outputs": [],
   "source": [
    "df_work.loc[((df_work['agep'] >= 19) & (df_work['agep'] <=21)) ,  'Age_Group'] = '19-21'"
   ]
  },
  {
   "cell_type": "code",
   "execution_count": 97,
   "metadata": {},
   "outputs": [],
   "source": [
    "df_work.loc[((df_work['agep'] >= 22) & (df_work['agep'] <=24)) ,  'Age_Group'] = '22-24'"
   ]
  },
  {
   "cell_type": "code",
   "execution_count": 99,
   "metadata": {},
   "outputs": [
    {
     "data": {
      "text/html": [
       "<div>\n",
       "<style scoped>\n",
       "    .dataframe tbody tr th:only-of-type {\n",
       "        vertical-align: middle;\n",
       "    }\n",
       "\n",
       "    .dataframe tbody tr th {\n",
       "        vertical-align: top;\n",
       "    }\n",
       "\n",
       "    .dataframe thead th {\n",
       "        text-align: right;\n",
       "    }\n",
       "</style>\n",
       "<table border=\"1\" class=\"dataframe\">\n",
       "  <thead>\n",
       "    <tr style=\"text-align: right;\">\n",
       "      <th></th>\n",
       "      <th>Counts</th>\n",
       "    </tr>\n",
       "    <tr>\n",
       "      <th>Age_Group</th>\n",
       "      <th></th>\n",
       "    </tr>\n",
       "  </thead>\n",
       "  <tbody>\n",
       "    <tr>\n",
       "      <td>16-18</td>\n",
       "      <td>1020</td>\n",
       "    </tr>\n",
       "    <tr>\n",
       "      <td>19-21</td>\n",
       "      <td>416</td>\n",
       "    </tr>\n",
       "    <tr>\n",
       "      <td>22-24</td>\n",
       "      <td>299</td>\n",
       "    </tr>\n",
       "  </tbody>\n",
       "</table>\n",
       "</div>"
      ],
      "text/plain": [
       "           Counts\n",
       "Age_Group        \n",
       "16-18        1020\n",
       "19-21         416\n",
       "22-24         299"
      ]
     },
     "execution_count": 99,
     "metadata": {},
     "output_type": "execute_result"
    }
   ],
   "source": [
    "df_work.groupby('Age_Group').agg(Counts=('Age_Group','count'))"
   ]
  },
  {
   "cell_type": "code",
   "execution_count": null,
   "metadata": {},
   "outputs": [],
   "source": []
  }
 ],
 "metadata": {
  "kernelspec": {
   "display_name": "Python 3",
   "language": "python",
   "name": "python3"
  },
  "language_info": {
   "codemirror_mode": {
    "name": "ipython",
    "version": 3
   },
   "file_extension": ".py",
   "mimetype": "text/x-python",
   "name": "python",
   "nbconvert_exporter": "python",
   "pygments_lexer": "ipython3",
   "version": "3.6.6"
  }
 },
 "nbformat": 4,
 "nbformat_minor": 2
}
