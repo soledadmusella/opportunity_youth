{
 "cells": [
  {
   "cell_type": "code",
   "execution_count": 1,
   "metadata": {},
   "outputs": [],
   "source": [
    "import matplotlib.pyplot as plt \n",
    "import pandas as pd \n",
    "import numpy as np \n",
    "import geopandas as gpd\n",
    "%matplotlib inline"
   ]
  },
  {
   "cell_type": "code",
   "execution_count": 2,
   "metadata": {
    "scrolled": true
   },
   "outputs": [
    {
     "data": {
      "text/html": [
       "<div>\n",
       "<style scoped>\n",
       "    .dataframe tbody tr th:only-of-type {\n",
       "        vertical-align: middle;\n",
       "    }\n",
       "\n",
       "    .dataframe tbody tr th {\n",
       "        vertical-align: top;\n",
       "    }\n",
       "\n",
       "    .dataframe thead th {\n",
       "        text-align: right;\n",
       "    }\n",
       "</style>\n",
       "<table border=\"1\" class=\"dataframe\">\n",
       "  <thead>\n",
       "    <tr style=\"text-align: right;\">\n",
       "      <th></th>\n",
       "      <th>STATEFP10</th>\n",
       "      <th>PUMACE10</th>\n",
       "      <th>GEOID10</th>\n",
       "      <th>NAMELSAD10</th>\n",
       "      <th>MTFCC10</th>\n",
       "      <th>FUNCSTAT10</th>\n",
       "      <th>ALAND10</th>\n",
       "      <th>AWATER10</th>\n",
       "      <th>INTPTLAT10</th>\n",
       "      <th>INTPTLON10</th>\n",
       "      <th>geometry</th>\n",
       "    </tr>\n",
       "  </thead>\n",
       "  <tbody>\n",
       "    <tr>\n",
       "      <th>0</th>\n",
       "      <td>53</td>\n",
       "      <td>10200</td>\n",
       "      <td>5310200</td>\n",
       "      <td>Skagit, Island &amp; San Juan Counties PUMA</td>\n",
       "      <td>G6120</td>\n",
       "      <td>S</td>\n",
       "      <td>5470622131</td>\n",
       "      <td>2441658886</td>\n",
       "      <td>+48.4470835</td>\n",
       "      <td>-122.1737477</td>\n",
       "      <td>POLYGON ((-122.44422 48.64527, -122.43685 48.6...</td>\n",
       "    </tr>\n",
       "    <tr>\n",
       "      <th>1</th>\n",
       "      <td>53</td>\n",
       "      <td>10100</td>\n",
       "      <td>5310100</td>\n",
       "      <td>Whatcom County--Bellingham City PUMA</td>\n",
       "      <td>G6120</td>\n",
       "      <td>S</td>\n",
       "      <td>5459332804</td>\n",
       "      <td>1028183246</td>\n",
       "      <td>+48.8426531</td>\n",
       "      <td>-121.8364325</td>\n",
       "      <td>POLYGON ((-122.40642 49.00230, -122.40617 49.0...</td>\n",
       "    </tr>\n",
       "    <tr>\n",
       "      <th>2</th>\n",
       "      <td>53</td>\n",
       "      <td>10400</td>\n",
       "      <td>5310400</td>\n",
       "      <td>Stevens, Okanogan, Pend Oreille &amp; Ferry Counti...</td>\n",
       "      <td>G6120</td>\n",
       "      <td>S</td>\n",
       "      <td>29389124389</td>\n",
       "      <td>489162432</td>\n",
       "      <td>+48.5031090</td>\n",
       "      <td>-118.7866777</td>\n",
       "      <td>POLYGON ((-118.14859 47.88667, -118.14899 47.8...</td>\n",
       "    </tr>\n",
       "    <tr>\n",
       "      <th>3</th>\n",
       "      <td>53</td>\n",
       "      <td>10504</td>\n",
       "      <td>5310504</td>\n",
       "      <td>Spokane County (Outer)--Cheney City PUMA</td>\n",
       "      <td>G6120</td>\n",
       "      <td>S</td>\n",
       "      <td>3983412021</td>\n",
       "      <td>35812133</td>\n",
       "      <td>+47.5972847</td>\n",
       "      <td>-117.1210417</td>\n",
       "      <td>POLYGON ((-117.10528 47.61018, -117.10527 47.6...</td>\n",
       "    </tr>\n",
       "    <tr>\n",
       "      <th>4</th>\n",
       "      <td>53</td>\n",
       "      <td>10503</td>\n",
       "      <td>5310503</td>\n",
       "      <td>Spokane County (East Central)--Greater Spokane...</td>\n",
       "      <td>G6120</td>\n",
       "      <td>S</td>\n",
       "      <td>270926976</td>\n",
       "      <td>5004332</td>\n",
       "      <td>+47.6561281</td>\n",
       "      <td>-117.1818649</td>\n",
       "      <td>POLYGON ((-117.15534 47.69971, -117.15509 47.6...</td>\n",
       "    </tr>\n",
       "  </tbody>\n",
       "</table>\n",
       "</div>"
      ],
      "text/plain": [
       "  STATEFP10 PUMACE10  GEOID10  \\\n",
       "0        53    10200  5310200   \n",
       "1        53    10100  5310100   \n",
       "2        53    10400  5310400   \n",
       "3        53    10504  5310504   \n",
       "4        53    10503  5310503   \n",
       "\n",
       "                                          NAMELSAD10 MTFCC10 FUNCSTAT10  \\\n",
       "0            Skagit, Island & San Juan Counties PUMA   G6120          S   \n",
       "1               Whatcom County--Bellingham City PUMA   G6120          S   \n",
       "2  Stevens, Okanogan, Pend Oreille & Ferry Counti...   G6120          S   \n",
       "3           Spokane County (Outer)--Cheney City PUMA   G6120          S   \n",
       "4  Spokane County (East Central)--Greater Spokane...   G6120          S   \n",
       "\n",
       "       ALAND10    AWATER10   INTPTLAT10    INTPTLON10  \\\n",
       "0   5470622131  2441658886  +48.4470835  -122.1737477   \n",
       "1   5459332804  1028183246  +48.8426531  -121.8364325   \n",
       "2  29389124389   489162432  +48.5031090  -118.7866777   \n",
       "3   3983412021    35812133  +47.5972847  -117.1210417   \n",
       "4    270926976     5004332  +47.6561281  -117.1818649   \n",
       "\n",
       "                                            geometry  \n",
       "0  POLYGON ((-122.44422 48.64527, -122.43685 48.6...  \n",
       "1  POLYGON ((-122.40642 49.00230, -122.40617 49.0...  \n",
       "2  POLYGON ((-118.14859 47.88667, -118.14899 47.8...  \n",
       "3  POLYGON ((-117.10528 47.61018, -117.10527 47.6...  \n",
       "4  POLYGON ((-117.15534 47.69971, -117.15509 47.6...  "
      ]
     },
     "execution_count": 2,
     "metadata": {},
     "output_type": "execute_result"
    }
   ],
   "source": [
    "wa_puma = gpd.read_file('../../data/raw/tl_2017_53_puma10.shp') # We are loading the Washington map from a shape file. \n",
    "#This file shows us the dataframe for the contents of the map below. \n",
    "wa_puma.head()"
   ]
  },
  {
   "cell_type": "code",
   "execution_count": 3,
   "metadata": {},
   "outputs": [
    {
     "data": {
      "text/plain": [
       "STATEFP10       object\n",
       "PUMACE10        object\n",
       "GEOID10         object\n",
       "NAMELSAD10      object\n",
       "MTFCC10         object\n",
       "FUNCSTAT10      object\n",
       "ALAND10          int64\n",
       "AWATER10         int64\n",
       "INTPTLAT10      object\n",
       "INTPTLON10      object\n",
       "geometry      geometry\n",
       "dtype: object"
      ]
     },
     "execution_count": 3,
     "metadata": {},
     "output_type": "execute_result"
    }
   ],
   "source": [
    "wa_puma.dtypes"
   ]
  },
  {
   "cell_type": "code",
   "execution_count": 4,
   "metadata": {},
   "outputs": [
    {
     "data": {
      "text/plain": [
       "STATEFP10       object\n",
       "PUMACE10         int64\n",
       "GEOID10         object\n",
       "NAMELSAD10      object\n",
       "MTFCC10         object\n",
       "FUNCSTAT10      object\n",
       "ALAND10          int64\n",
       "AWATER10         int64\n",
       "INTPTLAT10      object\n",
       "INTPTLON10      object\n",
       "geometry      geometry\n",
       "dtype: object"
      ]
     },
     "execution_count": 4,
     "metadata": {},
     "output_type": "execute_result"
    }
   ],
   "source": [
    "wa_puma['PUMACE10'] = wa_puma['PUMACE10'].astype(int)\n",
    "wa_puma.dtypes"
   ]
  },
  {
   "cell_type": "code",
   "execution_count": 5,
   "metadata": {},
   "outputs": [
    {
     "data": {
      "image/png": "[encoded data removed]",
      "text/plain": [
       "<Figure size 432x288 with 1 Axes>"
      ]
     },
     "metadata": {
      "needs_background": "light"
     },
     "output_type": "display_data"
    }
   ],
   "source": [
    "wa_puma.plot()\n",
    "plt.show()"
   ]
  },
  {
   "cell_type": "code",
   "execution_count": 6,
   "metadata": {},
   "outputs": [
    {
     "data": {
      "text/html": [
       "<div>\n",
       "<style scoped>\n",
       "    .dataframe tbody tr th:only-of-type {\n",
       "        vertical-align: middle;\n",
       "    }\n",
       "\n",
       "    .dataframe tbody tr th {\n",
       "        vertical-align: top;\n",
       "    }\n",
       "\n",
       "    .dataframe thead th {\n",
       "        text-align: right;\n",
       "    }\n",
       "</style>\n",
       "<table border=\"1\" class=\"dataframe\">\n",
       "  <thead>\n",
       "    <tr style=\"text-align: right;\">\n",
       "      <th></th>\n",
       "      <th>1</th>\n",
       "      <th>Zip Code</th>\n",
       "      <th>City</th>\n",
       "      <th>County</th>\n",
       "      <th>Zip Code Map</th>\n",
       "    </tr>\n",
       "  </thead>\n",
       "  <tbody>\n",
       "    <tr>\n",
       "      <th>0</th>\n",
       "      <td>2</td>\n",
       "      <td>98001</td>\n",
       "      <td>Auburn</td>\n",
       "      <td>King</td>\n",
       "      <td>View Map</td>\n",
       "    </tr>\n",
       "    <tr>\n",
       "      <th>1</th>\n",
       "      <td>3</td>\n",
       "      <td>98002</td>\n",
       "      <td>Auburn</td>\n",
       "      <td>King</td>\n",
       "      <td>View Map</td>\n",
       "    </tr>\n",
       "    <tr>\n",
       "      <th>2</th>\n",
       "      <td>4</td>\n",
       "      <td>98003</td>\n",
       "      <td>Federal Way</td>\n",
       "      <td>King</td>\n",
       "      <td>View Map</td>\n",
       "    </tr>\n",
       "    <tr>\n",
       "      <th>3</th>\n",
       "      <td>5</td>\n",
       "      <td>98004</td>\n",
       "      <td>Bellevue</td>\n",
       "      <td>King</td>\n",
       "      <td>View Map</td>\n",
       "    </tr>\n",
       "    <tr>\n",
       "      <th>4</th>\n",
       "      <td>6</td>\n",
       "      <td>98005</td>\n",
       "      <td>Bellevue</td>\n",
       "      <td>King</td>\n",
       "      <td>View Map</td>\n",
       "    </tr>\n",
       "  </tbody>\n",
       "</table>\n",
       "</div>"
      ],
      "text/plain": [
       "   1  Zip Code         City County Zip Code Map\n",
       "0  2     98001       Auburn   King     View Map\n",
       "1  3     98002       Auburn   King     View Map\n",
       "2  4     98003  Federal Way   King     View Map\n",
       "3  5     98004     Bellevue   King     View Map\n",
       "4  6     98005     Bellevue   King     View Map"
      ]
     },
     "execution_count": 6,
     "metadata": {},
     "output_type": "execute_result"
    }
   ],
   "source": [
    "df_zips = pd.read_csv('../../data/raw/df_zip.csv', header=2)\n",
    "# data = pd.read_html('https://www.zipcodestogo.com/Washington/') I tried with this but I couldn't make\n",
    "# lxml work. Javi Knows what happen. My solution was to ask Naweed to convert the html file into a csv and\n",
    "# he sent it to me. \n",
    "# https://www.zipcodestogo.com/Washington/\n",
    "df_zips.head()"
   ]
  },
  {
   "cell_type": "code",
   "execution_count": 7,
   "metadata": {},
   "outputs": [],
   "source": [
    "df_zips.drop(['1', 'Zip Code Map'], axis=1, inplace=True)"
   ]
  },
  {
   "cell_type": "code",
   "execution_count": 8,
   "metadata": {},
   "outputs": [
    {
     "data": {
      "text/html": [
       "<div>\n",
       "<style scoped>\n",
       "    .dataframe tbody tr th:only-of-type {\n",
       "        vertical-align: middle;\n",
       "    }\n",
       "\n",
       "    .dataframe tbody tr th {\n",
       "        vertical-align: top;\n",
       "    }\n",
       "\n",
       "    .dataframe thead th {\n",
       "        text-align: right;\n",
       "    }\n",
       "</style>\n",
       "<table border=\"1\" class=\"dataframe\">\n",
       "  <thead>\n",
       "    <tr style=\"text-align: right;\">\n",
       "      <th></th>\n",
       "      <th>Zip Code</th>\n",
       "      <th>City</th>\n",
       "      <th>County</th>\n",
       "    </tr>\n",
       "  </thead>\n",
       "  <tbody>\n",
       "    <tr>\n",
       "      <th>0</th>\n",
       "      <td>98001</td>\n",
       "      <td>Auburn</td>\n",
       "      <td>King</td>\n",
       "    </tr>\n",
       "    <tr>\n",
       "      <th>1</th>\n",
       "      <td>98002</td>\n",
       "      <td>Auburn</td>\n",
       "      <td>King</td>\n",
       "    </tr>\n",
       "    <tr>\n",
       "      <th>2</th>\n",
       "      <td>98003</td>\n",
       "      <td>Federal Way</td>\n",
       "      <td>King</td>\n",
       "    </tr>\n",
       "    <tr>\n",
       "      <th>3</th>\n",
       "      <td>98004</td>\n",
       "      <td>Bellevue</td>\n",
       "      <td>King</td>\n",
       "    </tr>\n",
       "    <tr>\n",
       "      <th>4</th>\n",
       "      <td>98005</td>\n",
       "      <td>Bellevue</td>\n",
       "      <td>King</td>\n",
       "    </tr>\n",
       "  </tbody>\n",
       "</table>\n",
       "</div>"
      ],
      "text/plain": [
       "   Zip Code         City County\n",
       "0     98001       Auburn   King\n",
       "1     98002       Auburn   King\n",
       "2     98003  Federal Way   King\n",
       "3     98004     Bellevue   King\n",
       "4     98005     Bellevue   King"
      ]
     },
     "execution_count": 8,
     "metadata": {},
     "output_type": "execute_result"
    }
   ],
   "source": [
    "df_zips.head()"
   ]
  },
  {
   "cell_type": "markdown",
   "metadata": {},
   "source": [
    "From [here](https://www.kingcounty.gov/depts/health/data/community-health-indicators/definitions.aspx) I get the South King County cities -> Auburn, Burien, Covington, Des Moines, Enumclaw, Federal Way, Kent, Maple Valley, Normandy Park, Renton, Tukwila, SeaTac, White Center/Boulevard Park, and Vashon Island."
   ]
  },
  {
   "cell_type": "code",
   "execution_count": 9,
   "metadata": {},
   "outputs": [
    {
     "data": {
      "text/html": [
       "<div>\n",
       "<style scoped>\n",
       "    .dataframe tbody tr th:only-of-type {\n",
       "        vertical-align: middle;\n",
       "    }\n",
       "\n",
       "    .dataframe tbody tr th {\n",
       "        vertical-align: top;\n",
       "    }\n",
       "\n",
       "    .dataframe thead th {\n",
       "        text-align: right;\n",
       "    }\n",
       "</style>\n",
       "<table border=\"1\" class=\"dataframe\">\n",
       "  <thead>\n",
       "    <tr style=\"text-align: right;\">\n",
       "      <th></th>\n",
       "      <th>Zip Code</th>\n",
       "      <th>City</th>\n",
       "      <th>County</th>\n",
       "    </tr>\n",
       "  </thead>\n",
       "  <tbody>\n",
       "    <tr>\n",
       "      <th>0</th>\n",
       "      <td>98001</td>\n",
       "      <td>Auburn</td>\n",
       "      <td>King</td>\n",
       "    </tr>\n",
       "    <tr>\n",
       "      <th>1</th>\n",
       "      <td>98002</td>\n",
       "      <td>Auburn</td>\n",
       "      <td>King</td>\n",
       "    </tr>\n",
       "    <tr>\n",
       "      <th>2</th>\n",
       "      <td>98003</td>\n",
       "      <td>Federal Way</td>\n",
       "      <td>King</td>\n",
       "    </tr>\n",
       "    <tr>\n",
       "      <th>3</th>\n",
       "      <td>98022</td>\n",
       "      <td>Enumclaw</td>\n",
       "      <td>King</td>\n",
       "    </tr>\n",
       "    <tr>\n",
       "      <th>4</th>\n",
       "      <td>98023</td>\n",
       "      <td>Federal Way</td>\n",
       "      <td>King</td>\n",
       "    </tr>\n",
       "    <tr>\n",
       "      <th>5</th>\n",
       "      <td>98030</td>\n",
       "      <td>Kent</td>\n",
       "      <td>King</td>\n",
       "    </tr>\n",
       "    <tr>\n",
       "      <th>6</th>\n",
       "      <td>98031</td>\n",
       "      <td>Kent</td>\n",
       "      <td>King</td>\n",
       "    </tr>\n",
       "    <tr>\n",
       "      <th>7</th>\n",
       "      <td>98032</td>\n",
       "      <td>Kent</td>\n",
       "      <td>King</td>\n",
       "    </tr>\n",
       "    <tr>\n",
       "      <th>8</th>\n",
       "      <td>98035</td>\n",
       "      <td>Kent</td>\n",
       "      <td>King</td>\n",
       "    </tr>\n",
       "    <tr>\n",
       "      <th>9</th>\n",
       "      <td>98038</td>\n",
       "      <td>Maple Valley</td>\n",
       "      <td>King</td>\n",
       "    </tr>\n",
       "    <tr>\n",
       "      <th>10</th>\n",
       "      <td>98042</td>\n",
       "      <td>Kent</td>\n",
       "      <td>King</td>\n",
       "    </tr>\n",
       "    <tr>\n",
       "      <th>11</th>\n",
       "      <td>98055</td>\n",
       "      <td>Renton</td>\n",
       "      <td>King</td>\n",
       "    </tr>\n",
       "    <tr>\n",
       "      <th>12</th>\n",
       "      <td>98056</td>\n",
       "      <td>Renton</td>\n",
       "      <td>King</td>\n",
       "    </tr>\n",
       "    <tr>\n",
       "      <th>13</th>\n",
       "      <td>98057</td>\n",
       "      <td>Renton</td>\n",
       "      <td>King</td>\n",
       "    </tr>\n",
       "    <tr>\n",
       "      <th>14</th>\n",
       "      <td>98058</td>\n",
       "      <td>Renton</td>\n",
       "      <td>King</td>\n",
       "    </tr>\n",
       "    <tr>\n",
       "      <th>15</th>\n",
       "      <td>98059</td>\n",
       "      <td>Renton</td>\n",
       "      <td>King</td>\n",
       "    </tr>\n",
       "    <tr>\n",
       "      <th>16</th>\n",
       "      <td>98063</td>\n",
       "      <td>Federal Way</td>\n",
       "      <td>King</td>\n",
       "    </tr>\n",
       "    <tr>\n",
       "      <th>17</th>\n",
       "      <td>98064</td>\n",
       "      <td>Kent</td>\n",
       "      <td>King</td>\n",
       "    </tr>\n",
       "    <tr>\n",
       "      <th>18</th>\n",
       "      <td>98071</td>\n",
       "      <td>Auburn</td>\n",
       "      <td>King</td>\n",
       "    </tr>\n",
       "    <tr>\n",
       "      <th>19</th>\n",
       "      <td>98089</td>\n",
       "      <td>Kent</td>\n",
       "      <td>King</td>\n",
       "    </tr>\n",
       "    <tr>\n",
       "      <th>20</th>\n",
       "      <td>98092</td>\n",
       "      <td>Auburn</td>\n",
       "      <td>King</td>\n",
       "    </tr>\n",
       "    <tr>\n",
       "      <th>21</th>\n",
       "      <td>98093</td>\n",
       "      <td>Federal Way</td>\n",
       "      <td>King</td>\n",
       "    </tr>\n",
       "  </tbody>\n",
       "</table>\n",
       "</div>"
      ],
      "text/plain": [
       "    Zip Code          City County\n",
       "0      98001        Auburn   King\n",
       "1      98002        Auburn   King\n",
       "2      98003   Federal Way   King\n",
       "3      98022      Enumclaw   King\n",
       "4      98023   Federal Way   King\n",
       "5      98030          Kent   King\n",
       "6      98031          Kent   King\n",
       "7      98032          Kent   King\n",
       "8      98035          Kent   King\n",
       "9      98038  Maple Valley   King\n",
       "10     98042          Kent   King\n",
       "11     98055        Renton   King\n",
       "12     98056        Renton   King\n",
       "13     98057        Renton   King\n",
       "14     98058        Renton   King\n",
       "15     98059        Renton   King\n",
       "16     98063   Federal Way   King\n",
       "17     98064          Kent   King\n",
       "18     98071        Auburn   King\n",
       "19     98089          Kent   King\n",
       "20     98092        Auburn   King\n",
       "21     98093   Federal Way   King"
      ]
     },
     "execution_count": 9,
     "metadata": {},
     "output_type": "execute_result"
    }
   ],
   "source": [
    "df_zips = df_zips[df_zips.City.isin(['Auburn', 'Burien', 'Covington', \n",
    "                                   'Des Moines', 'Enumclaw', 'Federal Way', 'Kent', 'Maple Valley', \n",
    "                                   'Normandy Park', 'Renton', 'Tukwila', 'SeaTac', 'White Center', 'Vashion'])].reset_index(drop=True)\n",
    "df_zips"
   ]
  },
  {
   "cell_type": "markdown",
   "metadata": {},
   "source": [
    "Now i have a list of all the zipcodes on South King County. The challenge now is to try to use the zipcodes and mapping them. I will need to find similarities with the dataframes I have got this from Naweed. He created a csv from an html for me. Just by looking at the zipcodes I cannot see anything very obvious. "
   ]
  },
  {
   "cell_type": "markdown",
   "metadata": {},
   "source": [
    "After playing with the database I have found a way with matching PUMAID's with TRCT ID's and in addition I have also found a way to match trct ID with zipcodes. I will be able to filter my map with PUMAs. "
   ]
  },
  {
   "cell_type": "code",
   "execution_count": 10,
   "metadata": {},
   "outputs": [
    {
     "data": {
      "text/html": [
       "<div>\n",
       "<style scoped>\n",
       "    .dataframe tbody tr th:only-of-type {\n",
       "        vertical-align: middle;\n",
       "    }\n",
       "\n",
       "    .dataframe tbody tr th {\n",
       "        vertical-align: top;\n",
       "    }\n",
       "\n",
       "    .dataframe thead th {\n",
       "        text-align: right;\n",
       "    }\n",
       "</style>\n",
       "<table border=\"1\" class=\"dataframe\">\n",
       "  <thead>\n",
       "    <tr style=\"text-align: right;\">\n",
       "      <th></th>\n",
       "      <th>zcta</th>\n",
       "      <th>trct</th>\n",
       "    </tr>\n",
       "  </thead>\n",
       "  <tbody>\n",
       "    <tr>\n",
       "      <th>0</th>\n",
       "      <td>98019</td>\n",
       "      <td>53033032500</td>\n",
       "    </tr>\n",
       "    <tr>\n",
       "      <th>1</th>\n",
       "      <td>98224</td>\n",
       "      <td>53033032800</td>\n",
       "    </tr>\n",
       "    <tr>\n",
       "      <th>2</th>\n",
       "      <td>98032</td>\n",
       "      <td>53033029700</td>\n",
       "    </tr>\n",
       "    <tr>\n",
       "      <th>3</th>\n",
       "      <td>98168</td>\n",
       "      <td>53033027000</td>\n",
       "    </tr>\n",
       "    <tr>\n",
       "      <th>4</th>\n",
       "      <td>99999</td>\n",
       "      <td>53033990100</td>\n",
       "    </tr>\n",
       "  </tbody>\n",
       "</table>\n",
       "</div>"
      ],
      "text/plain": [
       "    zcta         trct\n",
       "0  98019  53033032500\n",
       "1  98224  53033032800\n",
       "2  98032  53033029700\n",
       "3  98168  53033027000\n",
       "4  99999  53033990100"
      ]
     },
     "execution_count": 10,
     "metadata": {},
     "output_type": "execute_result"
    }
   ],
   "source": [
    "tract_zip = pd.read_csv('../../data/processed/tract_zip.csv') #matching zcts with trcts for king county\n",
    "tract_zip.head()"
   ]
  },
  {
   "cell_type": "code",
   "execution_count": 11,
   "metadata": {},
   "outputs": [
    {
     "data": {
      "text/html": [
       "<div>\n",
       "<style scoped>\n",
       "    .dataframe tbody tr th:only-of-type {\n",
       "        vertical-align: middle;\n",
       "    }\n",
       "\n",
       "    .dataframe tbody tr th {\n",
       "        vertical-align: top;\n",
       "    }\n",
       "\n",
       "    .dataframe thead th {\n",
       "        text-align: right;\n",
       "    }\n",
       "</style>\n",
       "<table border=\"1\" class=\"dataframe\">\n",
       "  <thead>\n",
       "    <tr style=\"text-align: right;\">\n",
       "      <th></th>\n",
       "      <th>statefp</th>\n",
       "      <th>countyfp</th>\n",
       "      <th>tractce</th>\n",
       "      <th>puma5ce</th>\n",
       "    </tr>\n",
       "  </thead>\n",
       "  <tbody>\n",
       "    <tr>\n",
       "      <th>0</th>\n",
       "      <td>53</td>\n",
       "      <td>033</td>\n",
       "      <td>000300</td>\n",
       "      <td>11601</td>\n",
       "    </tr>\n",
       "    <tr>\n",
       "      <th>1</th>\n",
       "      <td>53</td>\n",
       "      <td>033</td>\n",
       "      <td>000401</td>\n",
       "      <td>11601</td>\n",
       "    </tr>\n",
       "    <tr>\n",
       "      <th>2</th>\n",
       "      <td>53</td>\n",
       "      <td>033</td>\n",
       "      <td>000402</td>\n",
       "      <td>11601</td>\n",
       "    </tr>\n",
       "    <tr>\n",
       "      <th>3</th>\n",
       "      <td>53</td>\n",
       "      <td>033</td>\n",
       "      <td>000500</td>\n",
       "      <td>11601</td>\n",
       "    </tr>\n",
       "    <tr>\n",
       "      <th>4</th>\n",
       "      <td>53</td>\n",
       "      <td>033</td>\n",
       "      <td>000600</td>\n",
       "      <td>11601</td>\n",
       "    </tr>\n",
       "  </tbody>\n",
       "</table>\n",
       "</div>"
      ],
      "text/plain": [
       "  statefp countyfp tractce puma5ce\n",
       "0      53      033  000300   11601\n",
       "1      53      033  000401   11601\n",
       "2      53      033  000402   11601\n",
       "3      53      033  000500   11601\n",
       "4      53      033  000600   11601"
      ]
     },
     "execution_count": 11,
     "metadata": {},
     "output_type": "execute_result"
    }
   ],
   "source": [
    "tract_puma = pd.read_csv('../../data/processed/trct_puma.csv', dtype=str) #the tractce was seen as an int and inorder for it to be seen as a string, \n",
    "#I needed to convert it so that I can match trct to tractce\n",
    "tract_puma.head()"
   ]
  },
  {
   "cell_type": "markdown",
   "metadata": {},
   "source": [
    "I have realised `trct` on the `tract_zip` dataframe, the 6 numbers are the same at the `tractce` in `tract_puma`. "
   ]
  },
  {
   "cell_type": "code",
   "execution_count": 12,
   "metadata": {},
   "outputs": [
    {
     "data": {
      "text/html": [
       "<div>\n",
       "<style scoped>\n",
       "    .dataframe tbody tr th:only-of-type {\n",
       "        vertical-align: middle;\n",
       "    }\n",
       "\n",
       "    .dataframe tbody tr th {\n",
       "        vertical-align: top;\n",
       "    }\n",
       "\n",
       "    .dataframe thead th {\n",
       "        text-align: right;\n",
       "    }\n",
       "</style>\n",
       "<table border=\"1\" class=\"dataframe\">\n",
       "  <thead>\n",
       "    <tr style=\"text-align: right;\">\n",
       "      <th></th>\n",
       "      <th>zcta</th>\n",
       "      <th>trct</th>\n",
       "      <th>tractce</th>\n",
       "    </tr>\n",
       "  </thead>\n",
       "  <tbody>\n",
       "    <tr>\n",
       "      <th>0</th>\n",
       "      <td>98019</td>\n",
       "      <td>53033032500</td>\n",
       "      <td>032500</td>\n",
       "    </tr>\n",
       "    <tr>\n",
       "      <th>1</th>\n",
       "      <td>98224</td>\n",
       "      <td>53033032800</td>\n",
       "      <td>032800</td>\n",
       "    </tr>\n",
       "    <tr>\n",
       "      <th>2</th>\n",
       "      <td>98032</td>\n",
       "      <td>53033029700</td>\n",
       "      <td>029700</td>\n",
       "    </tr>\n",
       "    <tr>\n",
       "      <th>3</th>\n",
       "      <td>98168</td>\n",
       "      <td>53033027000</td>\n",
       "      <td>027000</td>\n",
       "    </tr>\n",
       "    <tr>\n",
       "      <th>4</th>\n",
       "      <td>99999</td>\n",
       "      <td>53033990100</td>\n",
       "      <td>990100</td>\n",
       "    </tr>\n",
       "  </tbody>\n",
       "</table>\n",
       "</div>"
      ],
      "text/plain": [
       "    zcta         trct tractce\n",
       "0  98019  53033032500  032500\n",
       "1  98224  53033032800  032800\n",
       "2  98032  53033029700  029700\n",
       "3  98168  53033027000  027000\n",
       "4  99999  53033990100  990100"
      ]
     },
     "execution_count": 12,
     "metadata": {},
     "output_type": "execute_result"
    }
   ],
   "source": [
    "tract_zip['tractce'] = tract_zip['trct'].apply(lambda x: str(x)[-6:]) \n",
    "tract_zip.head()"
   ]
  },
  {
   "cell_type": "markdown",
   "metadata": {},
   "source": [
    "I reassigned the value for `tract_zip`\n",
    "The reason why I did this is because I need to filter all of the zipcodes for South King county that was taken from `df_zips`\n",
    "My goal is now take the above and match the tractce that falls within the South King County and filter it so that we can get the appropriate PUMAs. \n"
   ]
  },
  {
   "cell_type": "code",
   "execution_count": 13,
   "metadata": {},
   "outputs": [
    {
     "data": {
      "text/html": [
       "<div>\n",
       "<style scoped>\n",
       "    .dataframe tbody tr th:only-of-type {\n",
       "        vertical-align: middle;\n",
       "    }\n",
       "\n",
       "    .dataframe tbody tr th {\n",
       "        vertical-align: top;\n",
       "    }\n",
       "\n",
       "    .dataframe thead th {\n",
       "        text-align: right;\n",
       "    }\n",
       "</style>\n",
       "<table border=\"1\" class=\"dataframe\">\n",
       "  <thead>\n",
       "    <tr style=\"text-align: right;\">\n",
       "      <th></th>\n",
       "      <th>zcta</th>\n",
       "      <th>trct</th>\n",
       "      <th>tractce</th>\n",
       "    </tr>\n",
       "  </thead>\n",
       "  <tbody>\n",
       "    <tr>\n",
       "      <th>2</th>\n",
       "      <td>98032</td>\n",
       "      <td>53033029700</td>\n",
       "      <td>029700</td>\n",
       "    </tr>\n",
       "    <tr>\n",
       "      <th>8</th>\n",
       "      <td>98032</td>\n",
       "      <td>53033028300</td>\n",
       "      <td>028300</td>\n",
       "    </tr>\n",
       "    <tr>\n",
       "      <th>9</th>\n",
       "      <td>98032</td>\n",
       "      <td>53033028300</td>\n",
       "      <td>028300</td>\n",
       "    </tr>\n",
       "    <tr>\n",
       "      <th>10</th>\n",
       "      <td>98032</td>\n",
       "      <td>53033028300</td>\n",
       "      <td>028300</td>\n",
       "    </tr>\n",
       "    <tr>\n",
       "      <th>13</th>\n",
       "      <td>98042</td>\n",
       "      <td>53033029307</td>\n",
       "      <td>029307</td>\n",
       "    </tr>\n",
       "  </tbody>\n",
       "</table>\n",
       "</div>"
      ],
      "text/plain": [
       "     zcta         trct tractce\n",
       "2   98032  53033029700  029700\n",
       "8   98032  53033028300  028300\n",
       "9   98032  53033028300  028300\n",
       "10  98032  53033028300  028300\n",
       "13  98042  53033029307  029307"
      ]
     },
     "execution_count": 13,
     "metadata": {},
     "output_type": "execute_result"
    }
   ],
   "source": [
    "tract_zip_sk = tract_zip[tract_zip['zcta'].isin(df_zips['Zip Code'])]\n",
    "tract_zip_sk.head()"
   ]
  },
  {
   "cell_type": "code",
   "execution_count": 14,
   "metadata": {},
   "outputs": [
    {
     "data": {
      "text/plain": [
       "(35831, 3)"
      ]
     },
     "execution_count": 14,
     "metadata": {},
     "output_type": "execute_result"
    }
   ],
   "source": [
    "tract_zip.shape"
   ]
  },
  {
   "cell_type": "code",
   "execution_count": 15,
   "metadata": {},
   "outputs": [
    {
     "data": {
      "text/plain": [
       "(8587, 3)"
      ]
     },
     "execution_count": 15,
     "metadata": {},
     "output_type": "execute_result"
    }
   ],
   "source": [
    "tract_zip_sk.shape"
   ]
  },
  {
   "cell_type": "markdown",
   "metadata": {},
   "source": [
    "I have filtered my zip tract to just south king county. You can see that the shape and rows have reduced in the data frame"
   ]
  },
  {
   "cell_type": "code",
   "execution_count": 16,
   "metadata": {},
   "outputs": [
    {
     "data": {
      "text/html": [
       "<div>\n",
       "<style scoped>\n",
       "    .dataframe tbody tr th:only-of-type {\n",
       "        vertical-align: middle;\n",
       "    }\n",
       "\n",
       "    .dataframe tbody tr th {\n",
       "        vertical-align: top;\n",
       "    }\n",
       "\n",
       "    .dataframe thead th {\n",
       "        text-align: right;\n",
       "    }\n",
       "</style>\n",
       "<table border=\"1\" class=\"dataframe\">\n",
       "  <thead>\n",
       "    <tr style=\"text-align: right;\">\n",
       "      <th></th>\n",
       "      <th>statefp</th>\n",
       "      <th>countyfp</th>\n",
       "      <th>tractce</th>\n",
       "      <th>puma5ce</th>\n",
       "    </tr>\n",
       "  </thead>\n",
       "  <tbody>\n",
       "    <tr>\n",
       "      <th>0</th>\n",
       "      <td>53</td>\n",
       "      <td>033</td>\n",
       "      <td>000300</td>\n",
       "      <td>11601</td>\n",
       "    </tr>\n",
       "    <tr>\n",
       "      <th>1</th>\n",
       "      <td>53</td>\n",
       "      <td>033</td>\n",
       "      <td>000401</td>\n",
       "      <td>11601</td>\n",
       "    </tr>\n",
       "    <tr>\n",
       "      <th>2</th>\n",
       "      <td>53</td>\n",
       "      <td>033</td>\n",
       "      <td>000402</td>\n",
       "      <td>11601</td>\n",
       "    </tr>\n",
       "    <tr>\n",
       "      <th>3</th>\n",
       "      <td>53</td>\n",
       "      <td>033</td>\n",
       "      <td>000500</td>\n",
       "      <td>11601</td>\n",
       "    </tr>\n",
       "    <tr>\n",
       "      <th>4</th>\n",
       "      <td>53</td>\n",
       "      <td>033</td>\n",
       "      <td>000600</td>\n",
       "      <td>11601</td>\n",
       "    </tr>\n",
       "  </tbody>\n",
       "</table>\n",
       "</div>"
      ],
      "text/plain": [
       "  statefp countyfp tractce puma5ce\n",
       "0      53      033  000300   11601\n",
       "1      53      033  000401   11601\n",
       "2      53      033  000402   11601\n",
       "3      53      033  000500   11601\n",
       "4      53      033  000600   11601"
      ]
     },
     "execution_count": 16,
     "metadata": {},
     "output_type": "execute_result"
    }
   ],
   "source": [
    "tract_puma.head()"
   ]
  },
  {
   "cell_type": "code",
   "execution_count": 17,
   "metadata": {},
   "outputs": [
    {
     "data": {
      "text/plain": [
       "[11609, 11610, 11611, 11612, 11613, 11614, 11615]"
      ]
     },
     "execution_count": 17,
     "metadata": {},
     "output_type": "execute_result"
    }
   ],
   "source": [
    "tract_puma_sk = tract_puma[tract_puma['tractce'].isin(tract_zip_sk['tractce'])]\n",
    "pumas_sk = tract_puma_sk['puma5ce'].astype(int).unique().tolist()   \n",
    "pumas_sk"
   ]
  },
  {
   "cell_type": "markdown",
   "metadata": {},
   "source": [
    "With the list of tract of South King County I was able to filter the `tract_puma` in order to get a ilst of the unique `pumas` of the South King County"
   ]
  },
  {
   "cell_type": "markdown",
   "metadata": {},
   "source": [
    "We are going to create a new column called SKC that will show the pumas of just the South King County, if it exists it will say 0, otherwise 1. "
   ]
  },
  {
   "cell_type": "code",
   "execution_count": 18,
   "metadata": {},
   "outputs": [
    {
     "data": {
      "text/html": [
       "<div>\n",
       "<style scoped>\n",
       "    .dataframe tbody tr th:only-of-type {\n",
       "        vertical-align: middle;\n",
       "    }\n",
       "\n",
       "    .dataframe tbody tr th {\n",
       "        vertical-align: top;\n",
       "    }\n",
       "\n",
       "    .dataframe thead th {\n",
       "        text-align: right;\n",
       "    }\n",
       "</style>\n",
       "<table border=\"1\" class=\"dataframe\">\n",
       "  <thead>\n",
       "    <tr style=\"text-align: right;\">\n",
       "      <th></th>\n",
       "      <th>STATEFP10</th>\n",
       "      <th>PUMACE10</th>\n",
       "      <th>GEOID10</th>\n",
       "      <th>NAMELSAD10</th>\n",
       "      <th>MTFCC10</th>\n",
       "      <th>FUNCSTAT10</th>\n",
       "      <th>ALAND10</th>\n",
       "      <th>AWATER10</th>\n",
       "      <th>INTPTLAT10</th>\n",
       "      <th>INTPTLON10</th>\n",
       "      <th>geometry</th>\n",
       "    </tr>\n",
       "  </thead>\n",
       "  <tbody>\n",
       "    <tr>\n",
       "      <th>9</th>\n",
       "      <td>53</td>\n",
       "      <td>11612</td>\n",
       "      <td>5311612</td>\n",
       "      <td>King County (Far Southwest)--Federal Way, Des ...</td>\n",
       "      <td>G6120</td>\n",
       "      <td>S</td>\n",
       "      <td>160638807</td>\n",
       "      <td>279665546</td>\n",
       "      <td>+47.4764651</td>\n",
       "      <td>-122.4271168</td>\n",
       "      <td>POLYGON ((-122.33587 47.26382, -122.33676 47.2...</td>\n",
       "    </tr>\n",
       "    <tr>\n",
       "      <th>32</th>\n",
       "      <td>53</td>\n",
       "      <td>11616</td>\n",
       "      <td>5311616</td>\n",
       "      <td>King County (Northeast)--Snoqualmie City, Cott...</td>\n",
       "      <td>G6120</td>\n",
       "      <td>S</td>\n",
       "      <td>2477645989</td>\n",
       "      <td>49838932</td>\n",
       "      <td>+47.5779171</td>\n",
       "      <td>-121.6433869</td>\n",
       "      <td>POLYGON ((-121.87736 47.50068, -121.87745 47.5...</td>\n",
       "    </tr>\n",
       "    <tr>\n",
       "      <th>35</th>\n",
       "      <td>53</td>\n",
       "      <td>11611</td>\n",
       "      <td>5311611</td>\n",
       "      <td>King County (West Central)--Burien, SeaTac, Tu...</td>\n",
       "      <td>G6120</td>\n",
       "      <td>S</td>\n",
       "      <td>104685305</td>\n",
       "      <td>6835973</td>\n",
       "      <td>+47.4500687</td>\n",
       "      <td>-122.3101564</td>\n",
       "      <td>POLYGON ((-122.26541 47.48933, -122.26516 47.4...</td>\n",
       "    </tr>\n",
       "    <tr>\n",
       "      <th>36</th>\n",
       "      <td>53</td>\n",
       "      <td>11605</td>\n",
       "      <td>5311605</td>\n",
       "      <td>Seattle City (West)--Duwamish &amp; Beacon Hill PUMA</td>\n",
       "      <td>G6120</td>\n",
       "      <td>S</td>\n",
       "      <td>70104140</td>\n",
       "      <td>10124676</td>\n",
       "      <td>+47.5521279</td>\n",
       "      <td>-122.3523950</td>\n",
       "      <td>POLYGON ((-122.32246 47.59583, -122.32147 47.5...</td>\n",
       "    </tr>\n",
       "    <tr>\n",
       "      <th>37</th>\n",
       "      <td>53</td>\n",
       "      <td>11603</td>\n",
       "      <td>5311603</td>\n",
       "      <td>Seattle City (Downtown)--Queen Anne &amp; Magnolia...</td>\n",
       "      <td>G6120</td>\n",
       "      <td>S</td>\n",
       "      <td>29279826</td>\n",
       "      <td>8323991</td>\n",
       "      <td>+47.6391415</td>\n",
       "      <td>-122.3720415</td>\n",
       "      <td>POLYGON ((-122.32238 47.65293, -122.32234 47.6...</td>\n",
       "    </tr>\n",
       "  </tbody>\n",
       "</table>\n",
       "</div>"
      ],
      "text/plain": [
       "   STATEFP10  PUMACE10  GEOID10  \\\n",
       "9         53     11612  5311612   \n",
       "32        53     11616  5311616   \n",
       "35        53     11611  5311611   \n",
       "36        53     11605  5311605   \n",
       "37        53     11603  5311603   \n",
       "\n",
       "                                           NAMELSAD10 MTFCC10 FUNCSTAT10  \\\n",
       "9   King County (Far Southwest)--Federal Way, Des ...   G6120          S   \n",
       "32  King County (Northeast)--Snoqualmie City, Cott...   G6120          S   \n",
       "35  King County (West Central)--Burien, SeaTac, Tu...   G6120          S   \n",
       "36   Seattle City (West)--Duwamish & Beacon Hill PUMA   G6120          S   \n",
       "37  Seattle City (Downtown)--Queen Anne & Magnolia...   G6120          S   \n",
       "\n",
       "       ALAND10   AWATER10   INTPTLAT10    INTPTLON10  \\\n",
       "9    160638807  279665546  +47.4764651  -122.4271168   \n",
       "32  2477645989   49838932  +47.5779171  -121.6433869   \n",
       "35   104685305    6835973  +47.4500687  -122.3101564   \n",
       "36    70104140   10124676  +47.5521279  -122.3523950   \n",
       "37    29279826    8323991  +47.6391415  -122.3720415   \n",
       "\n",
       "                                             geometry  \n",
       "9   POLYGON ((-122.33587 47.26382, -122.33676 47.2...  \n",
       "32  POLYGON ((-121.87736 47.50068, -121.87745 47.5...  \n",
       "35  POLYGON ((-122.26541 47.48933, -122.26516 47.4...  \n",
       "36  POLYGON ((-122.32246 47.59583, -122.32147 47.5...  \n",
       "37  POLYGON ((-122.32238 47.65293, -122.32234 47.6...  "
      ]
     },
     "execution_count": 18,
     "metadata": {},
     "output_type": "execute_result"
    }
   ],
   "source": [
    "# All King County and Seattle\n",
    "kc_puma = wa_puma.loc[(wa_puma.PUMACE10 >= 11601 ) & (wa_puma.PUMACE10 <= 11616)]\n",
    "kc_puma.head()\n",
    "# I have looked at the website and also at the data to double check whether some of these are within south king county\n",
    "# Since some of them are not, I have narrowed it down to 11611-11615."
   ]
  },
  {
   "cell_type": "markdown",
   "metadata": {},
   "source": [
    "In `kc_puma` we are creating a new column that shows that PUMA whether it is in South King County or not. Then we print the top of `kc_puma` to have a look at whether it worked. "
   ]
  },
  {
   "cell_type": "code",
   "execution_count": 19,
   "metadata": {},
   "outputs": [
    {
     "name": "stderr",
     "output_type": "stream",
     "text": [
      "/opt/anaconda3/envs/oy-env/lib/python3.7/site-packages/ipykernel_launcher.py:1: SettingWithCopyWarning: \n",
      "A value is trying to be set on a copy of a slice from a DataFrame.\n",
      "Try using .loc[row_indexer,col_indexer] = value instead\n",
      "\n",
      "See the caveats in the documentation: http://pandas.pydata.org/pandas-docs/stable/user_guide/indexing.html#returning-a-view-versus-a-copy\n",
      "  \"\"\"Entry point for launching an IPython kernel.\n"
     ]
    },
    {
     "data": {
      "text/html": [
       "<div>\n",
       "<style scoped>\n",
       "    .dataframe tbody tr th:only-of-type {\n",
       "        vertical-align: middle;\n",
       "    }\n",
       "\n",
       "    .dataframe tbody tr th {\n",
       "        vertical-align: top;\n",
       "    }\n",
       "\n",
       "    .dataframe thead th {\n",
       "        text-align: right;\n",
       "    }\n",
       "</style>\n",
       "<table border=\"1\" class=\"dataframe\">\n",
       "  <thead>\n",
       "    <tr style=\"text-align: right;\">\n",
       "      <th></th>\n",
       "      <th>STATEFP10</th>\n",
       "      <th>PUMACE10</th>\n",
       "      <th>GEOID10</th>\n",
       "      <th>NAMELSAD10</th>\n",
       "      <th>MTFCC10</th>\n",
       "      <th>FUNCSTAT10</th>\n",
       "      <th>ALAND10</th>\n",
       "      <th>AWATER10</th>\n",
       "      <th>INTPTLAT10</th>\n",
       "      <th>INTPTLON10</th>\n",
       "      <th>geometry</th>\n",
       "      <th>SKC</th>\n",
       "    </tr>\n",
       "  </thead>\n",
       "  <tbody>\n",
       "    <tr>\n",
       "      <th>9</th>\n",
       "      <td>53</td>\n",
       "      <td>11612</td>\n",
       "      <td>5311612</td>\n",
       "      <td>King County (Far Southwest)--Federal Way, Des ...</td>\n",
       "      <td>G6120</td>\n",
       "      <td>S</td>\n",
       "      <td>160638807</td>\n",
       "      <td>279665546</td>\n",
       "      <td>+47.4764651</td>\n",
       "      <td>-122.4271168</td>\n",
       "      <td>POLYGON ((-122.33587 47.26382, -122.33676 47.2...</td>\n",
       "      <td>True</td>\n",
       "    </tr>\n",
       "    <tr>\n",
       "      <th>32</th>\n",
       "      <td>53</td>\n",
       "      <td>11616</td>\n",
       "      <td>5311616</td>\n",
       "      <td>King County (Northeast)--Snoqualmie City, Cott...</td>\n",
       "      <td>G6120</td>\n",
       "      <td>S</td>\n",
       "      <td>2477645989</td>\n",
       "      <td>49838932</td>\n",
       "      <td>+47.5779171</td>\n",
       "      <td>-121.6433869</td>\n",
       "      <td>POLYGON ((-121.87736 47.50068, -121.87745 47.5...</td>\n",
       "      <td>False</td>\n",
       "    </tr>\n",
       "    <tr>\n",
       "      <th>35</th>\n",
       "      <td>53</td>\n",
       "      <td>11611</td>\n",
       "      <td>5311611</td>\n",
       "      <td>King County (West Central)--Burien, SeaTac, Tu...</td>\n",
       "      <td>G6120</td>\n",
       "      <td>S</td>\n",
       "      <td>104685305</td>\n",
       "      <td>6835973</td>\n",
       "      <td>+47.4500687</td>\n",
       "      <td>-122.3101564</td>\n",
       "      <td>POLYGON ((-122.26541 47.48933, -122.26516 47.4...</td>\n",
       "      <td>True</td>\n",
       "    </tr>\n",
       "    <tr>\n",
       "      <th>36</th>\n",
       "      <td>53</td>\n",
       "      <td>11605</td>\n",
       "      <td>5311605</td>\n",
       "      <td>Seattle City (West)--Duwamish &amp; Beacon Hill PUMA</td>\n",
       "      <td>G6120</td>\n",
       "      <td>S</td>\n",
       "      <td>70104140</td>\n",
       "      <td>10124676</td>\n",
       "      <td>+47.5521279</td>\n",
       "      <td>-122.3523950</td>\n",
       "      <td>POLYGON ((-122.32246 47.59583, -122.32147 47.5...</td>\n",
       "      <td>False</td>\n",
       "    </tr>\n",
       "    <tr>\n",
       "      <th>37</th>\n",
       "      <td>53</td>\n",
       "      <td>11603</td>\n",
       "      <td>5311603</td>\n",
       "      <td>Seattle City (Downtown)--Queen Anne &amp; Magnolia...</td>\n",
       "      <td>G6120</td>\n",
       "      <td>S</td>\n",
       "      <td>29279826</td>\n",
       "      <td>8323991</td>\n",
       "      <td>+47.6391415</td>\n",
       "      <td>-122.3720415</td>\n",
       "      <td>POLYGON ((-122.32238 47.65293, -122.32234 47.6...</td>\n",
       "      <td>False</td>\n",
       "    </tr>\n",
       "  </tbody>\n",
       "</table>\n",
       "</div>"
      ],
      "text/plain": [
       "   STATEFP10  PUMACE10  GEOID10  \\\n",
       "9         53     11612  5311612   \n",
       "32        53     11616  5311616   \n",
       "35        53     11611  5311611   \n",
       "36        53     11605  5311605   \n",
       "37        53     11603  5311603   \n",
       "\n",
       "                                           NAMELSAD10 MTFCC10 FUNCSTAT10  \\\n",
       "9   King County (Far Southwest)--Federal Way, Des ...   G6120          S   \n",
       "32  King County (Northeast)--Snoqualmie City, Cott...   G6120          S   \n",
       "35  King County (West Central)--Burien, SeaTac, Tu...   G6120          S   \n",
       "36   Seattle City (West)--Duwamish & Beacon Hill PUMA   G6120          S   \n",
       "37  Seattle City (Downtown)--Queen Anne & Magnolia...   G6120          S   \n",
       "\n",
       "       ALAND10   AWATER10   INTPTLAT10    INTPTLON10  \\\n",
       "9    160638807  279665546  +47.4764651  -122.4271168   \n",
       "32  2477645989   49838932  +47.5779171  -121.6433869   \n",
       "35   104685305    6835973  +47.4500687  -122.3101564   \n",
       "36    70104140   10124676  +47.5521279  -122.3523950   \n",
       "37    29279826    8323991  +47.6391415  -122.3720415   \n",
       "\n",
       "                                             geometry    SKC  \n",
       "9   POLYGON ((-122.33587 47.26382, -122.33676 47.2...   True  \n",
       "32  POLYGON ((-121.87736 47.50068, -121.87745 47.5...  False  \n",
       "35  POLYGON ((-122.26541 47.48933, -122.26516 47.4...   True  \n",
       "36  POLYGON ((-122.32246 47.59583, -122.32147 47.5...  False  \n",
       "37  POLYGON ((-122.32238 47.65293, -122.32234 47.6...  False  "
      ]
     },
     "execution_count": 19,
     "metadata": {},
     "output_type": "execute_result"
    }
   ],
   "source": [
    "kc_puma['SKC'] = kc_puma.PUMACE10.isin(pumas_sk) \n",
    "kc_puma.head()"
   ]
  },
  {
   "cell_type": "code",
   "execution_count": 20,
   "metadata": {},
   "outputs": [
    {
     "data": {
      "text/plain": [
       "<matplotlib.axes._subplots.AxesSubplot at 0x11e6104e0>"
      ]
     },
     "execution_count": 20,
     "metadata": {},
     "output_type": "execute_result"
    },
    {
     "data": {
      "image/png": "[encoded data removed]",
      "text/plain": [
       "<Figure size 432x288 with 1 Axes>"
      ]
     },
     "metadata": {
      "needs_background": "light"
     },
     "output_type": "display_data"
    }
   ],
   "source": [
    "kc_puma.plot(column='SKC') # We are plotting King County and then using the new column that we created `SKC` \n",
    "# to establish the boundary for the South of King County. "
   ]
  },
  {
   "cell_type": "code",
   "execution_count": 21,
   "metadata": {},
   "outputs": [
    {
     "data": {
      "image/png": "[encoded data removed]",
      "text/plain": [
       "<Figure size 1152x1152 with 1 Axes>"
      ]
     },
     "metadata": {
      "needs_background": "light"
     },
     "output_type": "display_data"
    }
   ],
   "source": [
    "\n",
    "# Plots a map of King County, with South King County and South Seattle in color\n",
    "fig, ax = plt.subplots(1, figsize=(16, 16))\n",
    "ax = kc_puma.plot(ax=ax, \n",
    "              column='SKC', cmap='viridis', alpha = .8, linewidth=.8, edgecolor='white',  legend = False)\n",
    "ax.set_title('Map of King County (South King County in Color)', fontsize = 20)\n",
    "ax.set_axis_off()\n",
    "fig.tight_layout\n",
    "plt.show();"
   ]
  },
  {
   "cell_type": "code",
   "execution_count": null,
   "metadata": {},
   "outputs": [],
   "source": []
  }
 ],
 "metadata": {
  "kernelspec": {
   "display_name": "Python [conda env:anaconda3-oy-env]",
   "language": "python",
   "name": "conda-env-anaconda3-oy-env-py"
  },
  "language_info": {
   "codemirror_mode": {
    "name": "ipython",
    "version": 3
   },
   "file_extension": ".py",
   "mimetype": "text/x-python",
   "name": "python",
   "nbconvert_exporter": "python",
   "pygments_lexer": "ipython3",
   "version": "3.7.3"
  }
 },
 "nbformat": 4,
 "nbformat_minor": 2
}
