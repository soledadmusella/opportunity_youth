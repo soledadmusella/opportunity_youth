{
 "cells": [
  {
   "cell_type": "code",
   "execution_count": 72,
   "metadata": {
    "ExecuteTime": {
     "end_time": "2020-03-03T13:15:39.603423Z",
     "start_time": "2020-03-03T13:15:39.597170Z"
    }
   },
   "outputs": [],
   "source": [
    "%matplotlib inline"
   ]
  },
  {
   "cell_type": "code",
   "execution_count": 73,
   "metadata": {
    "ExecuteTime": {
     "end_time": "2020-03-03T13:15:39.617592Z",
     "start_time": "2020-03-03T13:15:39.607781Z"
    }
   },
   "outputs": [],
   "source": [
    "import pandas as pd\n"
   ]
  },
  {
   "cell_type": "code",
   "execution_count": 74,
   "metadata": {
    "ExecuteTime": {
     "end_time": "2020-03-03T13:15:39.815515Z",
     "start_time": "2020-03-03T13:15:39.622485Z"
    }
   },
   "outputs": [],
   "source": [
    "df = pd.read_csv(\"kingcounty.csv\")"
   ]
  },
  {
   "cell_type": "code",
   "execution_count": 75,
   "metadata": {
    "ExecuteTime": {
     "end_time": "2020-03-03T13:15:39.848211Z",
     "start_time": "2020-03-03T13:15:39.818330Z"
    }
   },
   "outputs": [
    {
     "data": {
      "text/html": [
       "<div>\n",
       "<style scoped>\n",
       "    .dataframe tbody tr th:only-of-type {\n",
       "        vertical-align: middle;\n",
       "    }\n",
       "\n",
       "    .dataframe tbody tr th {\n",
       "        vertical-align: top;\n",
       "    }\n",
       "\n",
       "    .dataframe thead th {\n",
       "        text-align: right;\n",
       "    }\n",
       "</style>\n",
       "<table border=\"1\" class=\"dataframe\">\n",
       "  <thead>\n",
       "    <tr style=\"text-align: right;\">\n",
       "      <th></th>\n",
       "      <th>tabblk2010</th>\n",
       "      <th>st</th>\n",
       "      <th>stusps</th>\n",
       "      <th>stname</th>\n",
       "      <th>cty</th>\n",
       "      <th>ctyname</th>\n",
       "      <th>trct</th>\n",
       "      <th>trctname</th>\n",
       "      <th>bgrp</th>\n",
       "      <th>bgrpname</th>\n",
       "      <th>...</th>\n",
       "      <th>stanrcname</th>\n",
       "      <th>necta</th>\n",
       "      <th>nectname</th>\n",
       "      <th>mil</th>\n",
       "      <th>milname</th>\n",
       "      <th>stwib</th>\n",
       "      <th>stwibname</th>\n",
       "      <th>blklatdd</th>\n",
       "      <th>blklondd</th>\n",
       "      <th>createdate</th>\n",
       "    </tr>\n",
       "  </thead>\n",
       "  <tbody>\n",
       "    <tr>\n",
       "      <th>0</th>\n",
       "      <td>530330311004021</td>\n",
       "      <td>53</td>\n",
       "      <td>WA</td>\n",
       "      <td>Washington                                    ...</td>\n",
       "      <td>53033</td>\n",
       "      <td>King County, WA                               ...</td>\n",
       "      <td>53033031100</td>\n",
       "      <td>311 (King, WA)                                ...</td>\n",
       "      <td>530330311004</td>\n",
       "      <td>4 (Tract 311, King, WA)                       ...</td>\n",
       "      <td>...</td>\n",
       "      <td>NaN</td>\n",
       "      <td>99999</td>\n",
       "      <td>NaN</td>\n",
       "      <td>NaN</td>\n",
       "      <td>NaN</td>\n",
       "      <td>53000005</td>\n",
       "      <td>05 Seattle/King County WIB                    ...</td>\n",
       "      <td>47.293068</td>\n",
       "      <td>-122.209781</td>\n",
       "      <td>2019-08-26</td>\n",
       "    </tr>\n",
       "    <tr>\n",
       "      <th>1</th>\n",
       "      <td>530330311004020</td>\n",
       "      <td>53</td>\n",
       "      <td>WA</td>\n",
       "      <td>Washington                                    ...</td>\n",
       "      <td>53033</td>\n",
       "      <td>King County, WA                               ...</td>\n",
       "      <td>53033031100</td>\n",
       "      <td>311 (King, WA)                                ...</td>\n",
       "      <td>530330311004</td>\n",
       "      <td>4 (Tract 311, King, WA)                       ...</td>\n",
       "      <td>...</td>\n",
       "      <td>NaN</td>\n",
       "      <td>99999</td>\n",
       "      <td>NaN</td>\n",
       "      <td>NaN</td>\n",
       "      <td>NaN</td>\n",
       "      <td>53000005</td>\n",
       "      <td>05 Seattle/King County WIB                    ...</td>\n",
       "      <td>47.292507</td>\n",
       "      <td>-122.210964</td>\n",
       "      <td>2019-08-26</td>\n",
       "    </tr>\n",
       "    <tr>\n",
       "      <th>2</th>\n",
       "      <td>530330306002025</td>\n",
       "      <td>53</td>\n",
       "      <td>WA</td>\n",
       "      <td>Washington                                    ...</td>\n",
       "      <td>53033</td>\n",
       "      <td>King County, WA                               ...</td>\n",
       "      <td>53033030600</td>\n",
       "      <td>306 (King, WA)                                ...</td>\n",
       "      <td>530330306002</td>\n",
       "      <td>2 (Tract 306, King, WA)                       ...</td>\n",
       "      <td>...</td>\n",
       "      <td>NaN</td>\n",
       "      <td>99999</td>\n",
       "      <td>NaN</td>\n",
       "      <td>NaN</td>\n",
       "      <td>NaN</td>\n",
       "      <td>53000005</td>\n",
       "      <td>05 Seattle/King County WIB                    ...</td>\n",
       "      <td>47.301755</td>\n",
       "      <td>-122.196667</td>\n",
       "      <td>2019-08-26</td>\n",
       "    </tr>\n",
       "    <tr>\n",
       "      <th>3</th>\n",
       "      <td>530330305012016</td>\n",
       "      <td>53</td>\n",
       "      <td>WA</td>\n",
       "      <td>Washington                                    ...</td>\n",
       "      <td>53033</td>\n",
       "      <td>King County, WA                               ...</td>\n",
       "      <td>53033030501</td>\n",
       "      <td>305.01 (King, WA)                             ...</td>\n",
       "      <td>530330305012</td>\n",
       "      <td>2 (Tract 305.01, King, WA)                    ...</td>\n",
       "      <td>...</td>\n",
       "      <td>NaN</td>\n",
       "      <td>99999</td>\n",
       "      <td>NaN</td>\n",
       "      <td>NaN</td>\n",
       "      <td>NaN</td>\n",
       "      <td>53000005</td>\n",
       "      <td>05 Seattle/King County WIB                    ...</td>\n",
       "      <td>47.311107</td>\n",
       "      <td>-122.227230</td>\n",
       "      <td>2019-08-26</td>\n",
       "    </tr>\n",
       "    <tr>\n",
       "      <th>4</th>\n",
       "      <td>530330305012019</td>\n",
       "      <td>53</td>\n",
       "      <td>WA</td>\n",
       "      <td>Washington                                    ...</td>\n",
       "      <td>53033</td>\n",
       "      <td>King County, WA                               ...</td>\n",
       "      <td>53033030501</td>\n",
       "      <td>305.01 (King, WA)                             ...</td>\n",
       "      <td>530330305012</td>\n",
       "      <td>2 (Tract 305.01, King, WA)                    ...</td>\n",
       "      <td>...</td>\n",
       "      <td>NaN</td>\n",
       "      <td>99999</td>\n",
       "      <td>NaN</td>\n",
       "      <td>NaN</td>\n",
       "      <td>NaN</td>\n",
       "      <td>53000005</td>\n",
       "      <td>05 Seattle/King County WIB                    ...</td>\n",
       "      <td>47.310999</td>\n",
       "      <td>-122.229889</td>\n",
       "      <td>2019-08-26</td>\n",
       "    </tr>\n",
       "  </tbody>\n",
       "</table>\n",
       "<p>5 rows × 43 columns</p>\n",
       "</div>"
      ],
      "text/plain": [
       "        tabblk2010  st stusps  \\\n",
       "0  530330311004021  53     WA   \n",
       "1  530330311004020  53     WA   \n",
       "2  530330306002025  53     WA   \n",
       "3  530330305012016  53     WA   \n",
       "4  530330305012019  53     WA   \n",
       "\n",
       "                                              stname    cty  \\\n",
       "0  Washington                                    ...  53033   \n",
       "1  Washington                                    ...  53033   \n",
       "2  Washington                                    ...  53033   \n",
       "3  Washington                                    ...  53033   \n",
       "4  Washington                                    ...  53033   \n",
       "\n",
       "                                             ctyname         trct  \\\n",
       "0  King County, WA                               ...  53033031100   \n",
       "1  King County, WA                               ...  53033031100   \n",
       "2  King County, WA                               ...  53033030600   \n",
       "3  King County, WA                               ...  53033030501   \n",
       "4  King County, WA                               ...  53033030501   \n",
       "\n",
       "                                            trctname          bgrp  \\\n",
       "0  311 (King, WA)                                ...  530330311004   \n",
       "1  311 (King, WA)                                ...  530330311004   \n",
       "2  306 (King, WA)                                ...  530330306002   \n",
       "3  305.01 (King, WA)                             ...  530330305012   \n",
       "4  305.01 (King, WA)                             ...  530330305012   \n",
       "\n",
       "                                            bgrpname     ...      stanrcname  \\\n",
       "0  4 (Tract 311, King, WA)                       ...     ...             NaN   \n",
       "1  4 (Tract 311, King, WA)                       ...     ...             NaN   \n",
       "2  2 (Tract 306, King, WA)                       ...     ...             NaN   \n",
       "3  2 (Tract 305.01, King, WA)                    ...     ...             NaN   \n",
       "4  2 (Tract 305.01, King, WA)                    ...     ...             NaN   \n",
       "\n",
       "   necta  nectname  mil  milname     stwib  \\\n",
       "0  99999       NaN  NaN      NaN  53000005   \n",
       "1  99999       NaN  NaN      NaN  53000005   \n",
       "2  99999       NaN  NaN      NaN  53000005   \n",
       "3  99999       NaN  NaN      NaN  53000005   \n",
       "4  99999       NaN  NaN      NaN  53000005   \n",
       "\n",
       "                                           stwibname   blklatdd    blklondd  \\\n",
       "0  05 Seattle/King County WIB                    ...  47.293068 -122.209781   \n",
       "1  05 Seattle/King County WIB                    ...  47.292507 -122.210964   \n",
       "2  05 Seattle/King County WIB                    ...  47.301755 -122.196667   \n",
       "3  05 Seattle/King County WIB                    ...  47.311107 -122.227230   \n",
       "4  05 Seattle/King County WIB                    ...  47.310999 -122.229889   \n",
       "\n",
       "   createdate  \n",
       "0  2019-08-26  \n",
       "1  2019-08-26  \n",
       "2  2019-08-26  \n",
       "3  2019-08-26  \n",
       "4  2019-08-26  \n",
       "\n",
       "[5 rows x 43 columns]"
      ]
     },
     "execution_count": 75,
     "metadata": {},
     "output_type": "execute_result"
    }
   ],
   "source": [
    "df.head()"
   ]
  },
  {
   "cell_type": "code",
   "execution_count": 76,
   "metadata": {
    "ExecuteTime": {
     "end_time": "2020-03-03T13:15:39.857770Z",
     "start_time": "2020-03-03T13:15:39.851124Z"
    }
   },
   "outputs": [],
   "source": [
    "import folium "
   ]
  },
  {
   "cell_type": "code",
   "execution_count": 77,
   "metadata": {
    "ExecuteTime": {
     "end_time": "2020-03-03T13:15:39.887828Z",
     "start_time": "2020-03-03T13:15:39.859956Z"
    }
   },
   "outputs": [
    {
     "data": {
      "text/html": [
       "<div style=\"width:100%;\"><div style=\"position:relative;width:100%;height:0;padding-bottom:60%;\"><iframe src=\"data:text/html;charset=utf-8;base64,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\" style=\"position:absolute;width:100%;height:100%;left:0;top:0;border:none !important;\" allowfullscreen webkitallowfullscreen mozallowfullscreen></iframe></div></div>"
      ],
      "text/plain": [
       "<folium.folium.Map at 0x122b49390>"
      ]
     },
     "execution_count": 77,
     "metadata": {},
     "output_type": "execute_result"
    }
   ],
   "source": [
    "map_osm = folium.Map(location=[47.281505, -122.152278], zoom_start=11)\n",
    "# df.apply(lambda row:folium.CircleMarker(location=[row[\"blklatdd\"], row[\"blklondd\"]])\n",
    "#                                             .add_to(map_osm), axis=1)\n",
    "map_osm"
   ]
  },
  {
   "cell_type": "code",
   "execution_count": 78,
   "metadata": {
    "ExecuteTime": {
     "end_time": "2020-03-03T13:15:40.147053Z",
     "start_time": "2020-03-03T13:15:39.923957Z"
    }
   },
   "outputs": [],
   "source": [
    "df2= pd.read_csv(\"QueryResults.csv\")"
   ]
  },
  {
   "cell_type": "code",
   "execution_count": 79,
   "metadata": {
    "ExecuteTime": {
     "end_time": "2020-03-03T13:15:40.191341Z",
     "start_time": "2020-03-03T13:15:40.151850Z"
    }
   },
   "outputs": [
    {
     "data": {
      "text/html": [
       "<div>\n",
       "<style scoped>\n",
       "    .dataframe tbody tr th:only-of-type {\n",
       "        vertical-align: middle;\n",
       "    }\n",
       "\n",
       "    .dataframe tbody tr th {\n",
       "        vertical-align: top;\n",
       "    }\n",
       "\n",
       "    .dataframe thead th {\n",
       "        text-align: right;\n",
       "    }\n",
       "</style>\n",
       "<table border=\"1\" class=\"dataframe\">\n",
       "  <thead>\n",
       "    <tr style=\"text-align: right;\">\n",
       "      <th></th>\n",
       "      <th>esr</th>\n",
       "      <th>agep</th>\n",
       "      <th>sch</th>\n",
       "      <th>schg</th>\n",
       "      <th>schl</th>\n",
       "      <th>puma_name</th>\n",
       "      <th>state_name</th>\n",
       "    </tr>\n",
       "  </thead>\n",
       "  <tbody>\n",
       "    <tr>\n",
       "      <th>0</th>\n",
       "      <td>6.0</td>\n",
       "      <td>43</td>\n",
       "      <td>1.0</td>\n",
       "      <td>NaN</td>\n",
       "      <td>19.0</td>\n",
       "      <td>King County (West Central)--Burien, SeaTac, Tu...</td>\n",
       "      <td>Washington                                    ...</td>\n",
       "    </tr>\n",
       "    <tr>\n",
       "      <th>1</th>\n",
       "      <td>6.0</td>\n",
       "      <td>65</td>\n",
       "      <td>1.0</td>\n",
       "      <td>NaN</td>\n",
       "      <td>16.0</td>\n",
       "      <td>King County (West Central)--Burien, SeaTac, Tu...</td>\n",
       "      <td>Washington                                    ...</td>\n",
       "    </tr>\n",
       "    <tr>\n",
       "      <th>2</th>\n",
       "      <td>6.0</td>\n",
       "      <td>73</td>\n",
       "      <td>1.0</td>\n",
       "      <td>NaN</td>\n",
       "      <td>20.0</td>\n",
       "      <td>King County (Central)--Renton City, Fairwood, ...</td>\n",
       "      <td>Washington                                    ...</td>\n",
       "    </tr>\n",
       "    <tr>\n",
       "      <th>3</th>\n",
       "      <td>6.0</td>\n",
       "      <td>71</td>\n",
       "      <td>1.0</td>\n",
       "      <td>NaN</td>\n",
       "      <td>20.0</td>\n",
       "      <td>King County (Central)--Renton City, Fairwood, ...</td>\n",
       "      <td>Washington                                    ...</td>\n",
       "    </tr>\n",
       "    <tr>\n",
       "      <th>4</th>\n",
       "      <td>1.0</td>\n",
       "      <td>30</td>\n",
       "      <td>1.0</td>\n",
       "      <td>NaN</td>\n",
       "      <td>22.0</td>\n",
       "      <td>King County (West Central)--Burien, SeaTac, Tu...</td>\n",
       "      <td>Washington                                    ...</td>\n",
       "    </tr>\n",
       "    <tr>\n",
       "      <th>5</th>\n",
       "      <td>1.0</td>\n",
       "      <td>24</td>\n",
       "      <td>1.0</td>\n",
       "      <td>NaN</td>\n",
       "      <td>21.0</td>\n",
       "      <td>King County (Central)--Renton City, Fairwood, ...</td>\n",
       "      <td>Washington                                    ...</td>\n",
       "    </tr>\n",
       "    <tr>\n",
       "      <th>6</th>\n",
       "      <td>1.0</td>\n",
       "      <td>24</td>\n",
       "      <td>1.0</td>\n",
       "      <td>NaN</td>\n",
       "      <td>21.0</td>\n",
       "      <td>King County (Central)--Renton City, Fairwood, ...</td>\n",
       "      <td>Washington                                    ...</td>\n",
       "    </tr>\n",
       "    <tr>\n",
       "      <th>7</th>\n",
       "      <td>1.0</td>\n",
       "      <td>47</td>\n",
       "      <td>1.0</td>\n",
       "      <td>NaN</td>\n",
       "      <td>16.0</td>\n",
       "      <td>King County (West Central)--Burien, SeaTac, Tu...</td>\n",
       "      <td>Washington                                    ...</td>\n",
       "    </tr>\n",
       "    <tr>\n",
       "      <th>8</th>\n",
       "      <td>1.0</td>\n",
       "      <td>43</td>\n",
       "      <td>1.0</td>\n",
       "      <td>NaN</td>\n",
       "      <td>16.0</td>\n",
       "      <td>King County (Southeast)--Maple Valley, Covingt...</td>\n",
       "      <td>Washington                                    ...</td>\n",
       "    </tr>\n",
       "    <tr>\n",
       "      <th>9</th>\n",
       "      <td>1.0</td>\n",
       "      <td>40</td>\n",
       "      <td>1.0</td>\n",
       "      <td>NaN</td>\n",
       "      <td>18.0</td>\n",
       "      <td>King County (Southeast)--Maple Valley, Covingt...</td>\n",
       "      <td>Washington                                    ...</td>\n",
       "    </tr>\n",
       "  </tbody>\n",
       "</table>\n",
       "</div>"
      ],
      "text/plain": [
       "   esr  agep  sch  schg  schl  \\\n",
       "0  6.0    43  1.0   NaN  19.0   \n",
       "1  6.0    65  1.0   NaN  16.0   \n",
       "2  6.0    73  1.0   NaN  20.0   \n",
       "3  6.0    71  1.0   NaN  20.0   \n",
       "4  1.0    30  1.0   NaN  22.0   \n",
       "5  1.0    24  1.0   NaN  21.0   \n",
       "6  1.0    24  1.0   NaN  21.0   \n",
       "7  1.0    47  1.0   NaN  16.0   \n",
       "8  1.0    43  1.0   NaN  16.0   \n",
       "9  1.0    40  1.0   NaN  18.0   \n",
       "\n",
       "                                           puma_name  \\\n",
       "0  King County (West Central)--Burien, SeaTac, Tu...   \n",
       "1  King County (West Central)--Burien, SeaTac, Tu...   \n",
       "2  King County (Central)--Renton City, Fairwood, ...   \n",
       "3  King County (Central)--Renton City, Fairwood, ...   \n",
       "4  King County (West Central)--Burien, SeaTac, Tu...   \n",
       "5  King County (Central)--Renton City, Fairwood, ...   \n",
       "6  King County (Central)--Renton City, Fairwood, ...   \n",
       "7  King County (West Central)--Burien, SeaTac, Tu...   \n",
       "8  King County (Southeast)--Maple Valley, Covingt...   \n",
       "9  King County (Southeast)--Maple Valley, Covingt...   \n",
       "\n",
       "                                          state_name  \n",
       "0  Washington                                    ...  \n",
       "1  Washington                                    ...  \n",
       "2  Washington                                    ...  \n",
       "3  Washington                                    ...  \n",
       "4  Washington                                    ...  \n",
       "5  Washington                                    ...  \n",
       "6  Washington                                    ...  \n",
       "7  Washington                                    ...  \n",
       "8  Washington                                    ...  \n",
       "9  Washington                                    ...  "
      ]
     },
     "execution_count": 79,
     "metadata": {},
     "output_type": "execute_result"
    }
   ],
   "source": [
    "df2.head(10)"
   ]
  },
  {
   "cell_type": "code",
   "execution_count": 80,
   "metadata": {
    "ExecuteTime": {
     "end_time": "2020-03-03T13:15:40.212730Z",
     "start_time": "2020-03-03T13:15:40.197647Z"
    }
   },
   "outputs": [],
   "source": [
    "df_age = df2[(df2[\"agep\"]>=16)&(df2[\"agep\"]<=24)]\n"
   ]
  },
  {
   "cell_type": "code",
   "execution_count": 81,
   "metadata": {
    "ExecuteTime": {
     "end_time": "2020-03-03T13:15:40.242740Z",
     "start_time": "2020-03-03T13:15:40.216547Z"
    }
   },
   "outputs": [
    {
     "data": {
      "text/html": [
       "<div>\n",
       "<style scoped>\n",
       "    .dataframe tbody tr th:only-of-type {\n",
       "        vertical-align: middle;\n",
       "    }\n",
       "\n",
       "    .dataframe tbody tr th {\n",
       "        vertical-align: top;\n",
       "    }\n",
       "\n",
       "    .dataframe thead th {\n",
       "        text-align: right;\n",
       "    }\n",
       "</style>\n",
       "<table border=\"1\" class=\"dataframe\">\n",
       "  <thead>\n",
       "    <tr style=\"text-align: right;\">\n",
       "      <th></th>\n",
       "      <th>esr</th>\n",
       "      <th>agep</th>\n",
       "      <th>sch</th>\n",
       "      <th>schg</th>\n",
       "      <th>schl</th>\n",
       "      <th>puma_name</th>\n",
       "      <th>state_name</th>\n",
       "    </tr>\n",
       "  </thead>\n",
       "  <tbody>\n",
       "    <tr>\n",
       "      <th>5</th>\n",
       "      <td>1.0</td>\n",
       "      <td>24</td>\n",
       "      <td>1.0</td>\n",
       "      <td>NaN</td>\n",
       "      <td>21.0</td>\n",
       "      <td>King County (Central)--Renton City, Fairwood, ...</td>\n",
       "      <td>Washington                                    ...</td>\n",
       "    </tr>\n",
       "    <tr>\n",
       "      <th>6</th>\n",
       "      <td>1.0</td>\n",
       "      <td>24</td>\n",
       "      <td>1.0</td>\n",
       "      <td>NaN</td>\n",
       "      <td>21.0</td>\n",
       "      <td>King County (Central)--Renton City, Fairwood, ...</td>\n",
       "      <td>Washington                                    ...</td>\n",
       "    </tr>\n",
       "    <tr>\n",
       "      <th>18</th>\n",
       "      <td>6.0</td>\n",
       "      <td>19</td>\n",
       "      <td>2.0</td>\n",
       "      <td>15.0</td>\n",
       "      <td>18.0</td>\n",
       "      <td>King County (Far Southwest)--Federal Way, Des ...</td>\n",
       "      <td>Washington                                    ...</td>\n",
       "    </tr>\n",
       "    <tr>\n",
       "      <th>20</th>\n",
       "      <td>6.0</td>\n",
       "      <td>17</td>\n",
       "      <td>2.0</td>\n",
       "      <td>13.0</td>\n",
       "      <td>13.0</td>\n",
       "      <td>King County (Southwest Central)--Kent City    ...</td>\n",
       "      <td>Washington                                    ...</td>\n",
       "    </tr>\n",
       "    <tr>\n",
       "      <th>24</th>\n",
       "      <td>6.0</td>\n",
       "      <td>18</td>\n",
       "      <td>2.0</td>\n",
       "      <td>15.0</td>\n",
       "      <td>18.0</td>\n",
       "      <td>King County (Central)--Renton City, Fairwood, ...</td>\n",
       "      <td>Washington                                    ...</td>\n",
       "    </tr>\n",
       "  </tbody>\n",
       "</table>\n",
       "</div>"
      ],
      "text/plain": [
       "    esr  agep  sch  schg  schl  \\\n",
       "5   1.0    24  1.0   NaN  21.0   \n",
       "6   1.0    24  1.0   NaN  21.0   \n",
       "18  6.0    19  2.0  15.0  18.0   \n",
       "20  6.0    17  2.0  13.0  13.0   \n",
       "24  6.0    18  2.0  15.0  18.0   \n",
       "\n",
       "                                            puma_name  \\\n",
       "5   King County (Central)--Renton City, Fairwood, ...   \n",
       "6   King County (Central)--Renton City, Fairwood, ...   \n",
       "18  King County (Far Southwest)--Federal Way, Des ...   \n",
       "20  King County (Southwest Central)--Kent City    ...   \n",
       "24  King County (Central)--Renton City, Fairwood, ...   \n",
       "\n",
       "                                           state_name  \n",
       "5   Washington                                    ...  \n",
       "6   Washington                                    ...  \n",
       "18  Washington                                    ...  \n",
       "20  Washington                                    ...  \n",
       "24  Washington                                    ...  "
      ]
     },
     "execution_count": 81,
     "metadata": {},
     "output_type": "execute_result"
    }
   ],
   "source": [
    "df_age.head()"
   ]
  },
  {
   "cell_type": "code",
   "execution_count": 87,
   "metadata": {
    "ExecuteTime": {
     "end_time": "2020-03-03T13:16:06.133417Z",
     "start_time": "2020-03-03T13:16:06.128198Z"
    }
   },
   "outputs": [],
   "source": [
    "df_age_unique = df_age[df_age[\"esr\"]==3]"
   ]
  },
  {
   "cell_type": "code",
   "execution_count": 88,
   "metadata": {
    "ExecuteTime": {
     "end_time": "2020-03-03T13:16:06.636415Z",
     "start_time": "2020-03-03T13:16:06.618314Z"
    }
   },
   "outputs": [
    {
     "data": {
      "text/html": [
       "<div>\n",
       "<style scoped>\n",
       "    .dataframe tbody tr th:only-of-type {\n",
       "        vertical-align: middle;\n",
       "    }\n",
       "\n",
       "    .dataframe tbody tr th {\n",
       "        vertical-align: top;\n",
       "    }\n",
       "\n",
       "    .dataframe thead th {\n",
       "        text-align: right;\n",
       "    }\n",
       "</style>\n",
       "<table border=\"1\" class=\"dataframe\">\n",
       "  <thead>\n",
       "    <tr style=\"text-align: right;\">\n",
       "      <th></th>\n",
       "      <th>esr</th>\n",
       "      <th>agep</th>\n",
       "      <th>sch</th>\n",
       "      <th>schg</th>\n",
       "      <th>schl</th>\n",
       "      <th>puma_name</th>\n",
       "      <th>state_name</th>\n",
       "    </tr>\n",
       "  </thead>\n",
       "  <tbody>\n",
       "    <tr>\n",
       "      <th>129</th>\n",
       "      <td>3.0</td>\n",
       "      <td>20</td>\n",
       "      <td>2.0</td>\n",
       "      <td>15.0</td>\n",
       "      <td>19.0</td>\n",
       "      <td>King County (Southeast)--Maple Valley, Covingt...</td>\n",
       "      <td>Washington                                    ...</td>\n",
       "    </tr>\n",
       "    <tr>\n",
       "      <th>283</th>\n",
       "      <td>3.0</td>\n",
       "      <td>21</td>\n",
       "      <td>1.0</td>\n",
       "      <td>NaN</td>\n",
       "      <td>16.0</td>\n",
       "      <td>King County (West Central)--Burien, SeaTac, Tu...</td>\n",
       "      <td>Washington                                    ...</td>\n",
       "    </tr>\n",
       "    <tr>\n",
       "      <th>295</th>\n",
       "      <td>3.0</td>\n",
       "      <td>22</td>\n",
       "      <td>1.0</td>\n",
       "      <td>NaN</td>\n",
       "      <td>17.0</td>\n",
       "      <td>King County (Central)--Renton City, Fairwood, ...</td>\n",
       "      <td>Washington                                    ...</td>\n",
       "    </tr>\n",
       "    <tr>\n",
       "      <th>340</th>\n",
       "      <td>3.0</td>\n",
       "      <td>24</td>\n",
       "      <td>1.0</td>\n",
       "      <td>NaN</td>\n",
       "      <td>18.0</td>\n",
       "      <td>King County (Southeast)--Maple Valley, Covingt...</td>\n",
       "      <td>Washington                                    ...</td>\n",
       "    </tr>\n",
       "    <tr>\n",
       "      <th>461</th>\n",
       "      <td>3.0</td>\n",
       "      <td>18</td>\n",
       "      <td>1.0</td>\n",
       "      <td>NaN</td>\n",
       "      <td>13.0</td>\n",
       "      <td>King County (Southwest Central)--Kent City    ...</td>\n",
       "      <td>Washington                                    ...</td>\n",
       "    </tr>\n",
       "  </tbody>\n",
       "</table>\n",
       "</div>"
      ],
      "text/plain": [
       "     esr  agep  sch  schg  schl  \\\n",
       "129  3.0    20  2.0  15.0  19.0   \n",
       "283  3.0    21  1.0   NaN  16.0   \n",
       "295  3.0    22  1.0   NaN  17.0   \n",
       "340  3.0    24  1.0   NaN  18.0   \n",
       "461  3.0    18  1.0   NaN  13.0   \n",
       "\n",
       "                                             puma_name  \\\n",
       "129  King County (Southeast)--Maple Valley, Covingt...   \n",
       "283  King County (West Central)--Burien, SeaTac, Tu...   \n",
       "295  King County (Central)--Renton City, Fairwood, ...   \n",
       "340  King County (Southeast)--Maple Valley, Covingt...   \n",
       "461  King County (Southwest Central)--Kent City    ...   \n",
       "\n",
       "                                            state_name  \n",
       "129  Washington                                    ...  \n",
       "283  Washington                                    ...  \n",
       "295  Washington                                    ...  \n",
       "340  Washington                                    ...  \n",
       "461  Washington                                    ...  "
      ]
     },
     "execution_count": 88,
     "metadata": {},
     "output_type": "execute_result"
    }
   ],
   "source": [
    "df_age_unique.head()"
   ]
  },
  {
   "cell_type": "code",
   "execution_count": 89,
   "metadata": {
    "ExecuteTime": {
     "end_time": "2020-03-03T13:16:07.086473Z",
     "start_time": "2020-03-03T13:16:07.077439Z"
    }
   },
   "outputs": [
    {
     "data": {
      "text/plain": [
       "(266, 7)"
      ]
     },
     "execution_count": 89,
     "metadata": {},
     "output_type": "execute_result"
    }
   ],
   "source": [
    "df_age_unique.shape"
   ]
  },
  {
   "cell_type": "code",
   "execution_count": 85,
   "metadata": {
    "ExecuteTime": {
     "end_time": "2020-03-03T13:15:40.399662Z",
     "start_time": "2020-03-03T13:15:40.362878Z"
    }
   },
   "outputs": [
    {
     "data": {
      "text/plain": [
       "array([1., 6., 4., 3., 2.])"
      ]
     },
     "execution_count": 85,
     "metadata": {},
     "output_type": "execute_result"
    }
   ],
   "source": [
    "df_age[\"esr\"].unique()"
   ]
  },
  {
   "cell_type": "code",
   "execution_count": null,
   "metadata": {},
   "outputs": [],
   "source": []
  }
 ],
 "metadata": {
  "kernelspec": {
   "display_name": "Python 3",
   "language": "python",
   "name": "python3"
  },
  "language_info": {
   "codemirror_mode": {
    "name": "ipython",
    "version": 3
   },
   "file_extension": ".py",
   "mimetype": "text/x-python",
   "name": "python",
   "nbconvert_exporter": "python",
   "pygments_lexer": "ipython3",
   "version": "3.6.6"
  }
 },
 "nbformat": 4,
 "nbformat_minor": 2
}
