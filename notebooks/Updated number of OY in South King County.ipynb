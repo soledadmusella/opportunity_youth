{
 "cells": [
  {
   "cell_type": "markdown",
   "metadata": {},
   "source": [
    "2) An update of the estimated number of OY in South King County"
   ]
  },
  {
   "cell_type": "code",
   "execution_count": 83,
   "metadata": {
    "ExecuteTime": {
     "end_time": "2020-03-06T09:21:48.354189Z",
     "start_time": "2020-03-06T09:21:48.325833Z"
    }
   },
   "outputs": [],
   "source": [
    "%matplotlib inline"
   ]
  },
  {
   "cell_type": "code",
   "execution_count": 84,
   "metadata": {
    "ExecuteTime": {
     "end_time": "2020-03-06T09:21:48.526245Z",
     "start_time": "2020-03-06T09:21:48.522326Z"
    }
   },
   "outputs": [],
   "source": [
    "import pandas as pd\n"
   ]
  },
  {
   "cell_type": "code",
   "execution_count": 85,
   "metadata": {
    "ExecuteTime": {
     "end_time": "2020-03-06T09:21:48.825771Z",
     "start_time": "2020-03-06T09:21:48.686753Z"
    }
   },
   "outputs": [
    {
     "name": "stdout",
     "output_type": "stream",
     "text": [
      "/Users/soledadmusella/Documents/mod_1_project/opportunity_youth/notebooks\r\n"
     ]
    }
   ],
   "source": [
    "!pwd"
   ]
  },
  {
   "cell_type": "markdown",
   "metadata": {
    "ExecuteTime": {
     "end_time": "2020-03-06T12:32:48.744032Z",
     "start_time": "2020-03-06T12:32:48.735553Z"
    }
   },
   "source": [
    "- We saved the query as a csv file and we loaded into a Jupyter Notebook\n",
    "- We noticed that the SQL query gave a few cities outside Washington. In order to fix this, we filtered the dataframe using state_fips as 53, which is the id for Washinton\n",
    "- We filtered the table by the range of age required( 16-24) in order to be included into the Opportunity Youth.\n",
    "- We filtered the result throught the employment status that matches the requirements of the Oportunity Youth.\n",
    "- We found an update of the estimated number of OY in South King County that equals 391.\n",
    "\n"
   ]
  },
  {
   "cell_type": "code",
   "execution_count": 98,
   "metadata": {
    "ExecuteTime": {
     "end_time": "2020-03-06T09:21:51.260805Z",
     "start_time": "2020-03-06T09:21:51.245536Z"
    }
   },
   "outputs": [],
   "source": [
    "df_was = pd.read_csv(\"qquery.csv\")"
   ]
  },
  {
   "cell_type": "code",
   "execution_count": 99,
   "metadata": {
    "ExecuteTime": {
     "end_time": "2020-03-06T09:21:51.447845Z",
     "start_time": "2020-03-06T09:21:51.429091Z"
    }
   },
   "outputs": [
    {
     "data": {
      "text/html": [
       "<div>\n",
       "<style scoped>\n",
       "    .dataframe tbody tr th:only-of-type {\n",
       "        vertical-align: middle;\n",
       "    }\n",
       "\n",
       "    .dataframe tbody tr th {\n",
       "        vertical-align: top;\n",
       "    }\n",
       "\n",
       "    .dataframe thead th {\n",
       "        text-align: right;\n",
       "    }\n",
       "</style>\n",
       "<table border=\"1\" class=\"dataframe\">\n",
       "  <thead>\n",
       "    <tr style=\"text-align: right;\">\n",
       "      <th></th>\n",
       "      <th>state_fips</th>\n",
       "      <th>state_name</th>\n",
       "      <th>cpuma0010</th>\n",
       "      <th>puma</th>\n",
       "      <th>geoid</th>\n",
       "      <th>gisjoin</th>\n",
       "      <th>puma_name</th>\n",
       "    </tr>\n",
       "  </thead>\n",
       "  <tbody>\n",
       "    <tr>\n",
       "      <th>0</th>\n",
       "      <td>1</td>\n",
       "      <td>Alabama                                       ...</td>\n",
       "      <td>14</td>\n",
       "      <td>1900</td>\n",
       "      <td>101900</td>\n",
       "      <td>G01001900</td>\n",
       "      <td>Lee County--Auburn City                       ...</td>\n",
       "    </tr>\n",
       "    <tr>\n",
       "      <th>1</th>\n",
       "      <td>1</td>\n",
       "      <td>Alabama                                       ...</td>\n",
       "      <td>16</td>\n",
       "      <td>2300</td>\n",
       "      <td>102300</td>\n",
       "      <td>G01002300</td>\n",
       "      <td>Coffee, Covington, Butler &amp; Crenshaw Counties ...</td>\n",
       "    </tr>\n",
       "    <tr>\n",
       "      <th>2</th>\n",
       "      <td>6</td>\n",
       "      <td>California                                    ...</td>\n",
       "      <td>108</td>\n",
       "      <td>6103</td>\n",
       "      <td>606103</td>\n",
       "      <td>G06006103</td>\n",
       "      <td>Placer County (East/High Country Region)--Aubu...</td>\n",
       "    </tr>\n",
       "    <tr>\n",
       "      <th>3</th>\n",
       "      <td>10</td>\n",
       "      <td>Delaware                                      ...</td>\n",
       "      <td>198</td>\n",
       "      <td>200</td>\n",
       "      <td>1000200</td>\n",
       "      <td>G10000200</td>\n",
       "      <td>Kent County--Dover City                       ...</td>\n",
       "    </tr>\n",
       "    <tr>\n",
       "      <th>4</th>\n",
       "      <td>17</td>\n",
       "      <td>Illinois                                      ...</td>\n",
       "      <td>337</td>\n",
       "      <td>3531</td>\n",
       "      <td>1703531</td>\n",
       "      <td>G17003531</td>\n",
       "      <td>Chicago City (South)--Auburn Gresham, Roseland...</td>\n",
       "    </tr>\n",
       "  </tbody>\n",
       "</table>\n",
       "</div>"
      ],
      "text/plain": [
       "   state_fips                                         state_name  cpuma0010  \\\n",
       "0           1  Alabama                                       ...         14   \n",
       "1           1  Alabama                                       ...         16   \n",
       "2           6  California                                    ...        108   \n",
       "3          10  Delaware                                      ...        198   \n",
       "4          17  Illinois                                      ...        337   \n",
       "\n",
       "   puma    geoid    gisjoin                                          puma_name  \n",
       "0  1900   101900  G01001900  Lee County--Auburn City                       ...  \n",
       "1  2300   102300  G01002300  Coffee, Covington, Butler & Crenshaw Counties ...  \n",
       "2  6103   606103  G06006103  Placer County (East/High Country Region)--Aubu...  \n",
       "3   200  1000200  G10000200  Kent County--Dover City                       ...  \n",
       "4  3531  1703531  G17003531  Chicago City (South)--Auburn Gresham, Roseland...  "
      ]
     },
     "execution_count": 99,
     "metadata": {},
     "output_type": "execute_result"
    }
   ],
   "source": [
    "df_was.head()"
   ]
  },
  {
   "cell_type": "code",
   "execution_count": 100,
   "metadata": {
    "ExecuteTime": {
     "end_time": "2020-03-06T09:21:51.627655Z",
     "start_time": "2020-03-06T09:21:51.613715Z"
    }
   },
   "outputs": [
    {
     "data": {
      "text/plain": [
       "array([11610, 11613, 11614, 11615, 11611, 11612])"
      ]
     },
     "execution_count": 100,
     "metadata": {},
     "output_type": "execute_result"
    }
   ],
   "source": [
    "df_was[df_was[\"state_fips\"]==53][\"puma\"].unique()\n"
   ]
  },
  {
   "cell_type": "code",
   "execution_count": 101,
   "metadata": {
    "ExecuteTime": {
     "end_time": "2020-03-06T09:21:53.383118Z",
     "start_time": "2020-03-06T09:21:51.797396Z"
    }
   },
   "outputs": [],
   "source": [
    "df_was2=pd.read_csv(\"ws_rm.csv\")"
   ]
  },
  {
   "cell_type": "code",
   "execution_count": 103,
   "metadata": {
    "ExecuteTime": {
     "end_time": "2020-03-06T09:21:53.422195Z",
     "start_time": "2020-03-06T09:21:53.400624Z"
    }
   },
   "outputs": [
    {
     "data": {
      "text/html": [
       "<div>\n",
       "<style scoped>\n",
       "    .dataframe tbody tr th:only-of-type {\n",
       "        vertical-align: middle;\n",
       "    }\n",
       "\n",
       "    .dataframe tbody tr th {\n",
       "        vertical-align: top;\n",
       "    }\n",
       "\n",
       "    .dataframe thead th {\n",
       "        text-align: right;\n",
       "    }\n",
       "</style>\n",
       "<table border=\"1\" class=\"dataframe\">\n",
       "  <thead>\n",
       "    <tr style=\"text-align: right;\">\n",
       "      <th></th>\n",
       "      <th>rt</th>\n",
       "      <th>serialno</th>\n",
       "      <th>division</th>\n",
       "      <th>sporder</th>\n",
       "      <th>puma</th>\n",
       "      <th>region</th>\n",
       "      <th>st</th>\n",
       "      <th>adjinc</th>\n",
       "      <th>pwgtp</th>\n",
       "      <th>agep</th>\n",
       "      <th>...</th>\n",
       "      <th>pwgtp71</th>\n",
       "      <th>pwgtp72</th>\n",
       "      <th>pwgtp73</th>\n",
       "      <th>pwgtp74</th>\n",
       "      <th>pwgtp75</th>\n",
       "      <th>pwgtp76</th>\n",
       "      <th>pwgtp77</th>\n",
       "      <th>pwgtp78</th>\n",
       "      <th>pwgtp79</th>\n",
       "      <th>pwgtp80</th>\n",
       "    </tr>\n",
       "  </thead>\n",
       "  <tbody>\n",
       "    <tr>\n",
       "      <th>0</th>\n",
       "      <td>P</td>\n",
       "      <td>2013000000082</td>\n",
       "      <td>9</td>\n",
       "      <td>1</td>\n",
       "      <td>11615</td>\n",
       "      <td>4</td>\n",
       "      <td>53</td>\n",
       "      <td>1061971</td>\n",
       "      <td>90</td>\n",
       "      <td>40</td>\n",
       "      <td>...</td>\n",
       "      <td>119</td>\n",
       "      <td>152</td>\n",
       "      <td>33</td>\n",
       "      <td>30</td>\n",
       "      <td>100</td>\n",
       "      <td>77</td>\n",
       "      <td>115</td>\n",
       "      <td>85</td>\n",
       "      <td>114</td>\n",
       "      <td>29</td>\n",
       "    </tr>\n",
       "    <tr>\n",
       "      <th>1</th>\n",
       "      <td>P</td>\n",
       "      <td>2013000000082</td>\n",
       "      <td>9</td>\n",
       "      <td>2</td>\n",
       "      <td>11615</td>\n",
       "      <td>4</td>\n",
       "      <td>53</td>\n",
       "      <td>1061971</td>\n",
       "      <td>78</td>\n",
       "      <td>11</td>\n",
       "      <td>...</td>\n",
       "      <td>124</td>\n",
       "      <td>148</td>\n",
       "      <td>21</td>\n",
       "      <td>30</td>\n",
       "      <td>93</td>\n",
       "      <td>75</td>\n",
       "      <td>91</td>\n",
       "      <td>79</td>\n",
       "      <td>116</td>\n",
       "      <td>31</td>\n",
       "    </tr>\n",
       "    <tr>\n",
       "      <th>2</th>\n",
       "      <td>P</td>\n",
       "      <td>2013000000082</td>\n",
       "      <td>9</td>\n",
       "      <td>3</td>\n",
       "      <td>11615</td>\n",
       "      <td>4</td>\n",
       "      <td>53</td>\n",
       "      <td>1061971</td>\n",
       "      <td>60</td>\n",
       "      <td>9</td>\n",
       "      <td>...</td>\n",
       "      <td>112</td>\n",
       "      <td>102</td>\n",
       "      <td>20</td>\n",
       "      <td>23</td>\n",
       "      <td>58</td>\n",
       "      <td>50</td>\n",
       "      <td>80</td>\n",
       "      <td>58</td>\n",
       "      <td>102</td>\n",
       "      <td>17</td>\n",
       "    </tr>\n",
       "    <tr>\n",
       "      <th>3</th>\n",
       "      <td>P</td>\n",
       "      <td>2013000000082</td>\n",
       "      <td>9</td>\n",
       "      <td>4</td>\n",
       "      <td>11615</td>\n",
       "      <td>4</td>\n",
       "      <td>53</td>\n",
       "      <td>1061971</td>\n",
       "      <td>109</td>\n",
       "      <td>48</td>\n",
       "      <td>...</td>\n",
       "      <td>127</td>\n",
       "      <td>177</td>\n",
       "      <td>46</td>\n",
       "      <td>37</td>\n",
       "      <td>110</td>\n",
       "      <td>123</td>\n",
       "      <td>135</td>\n",
       "      <td>95</td>\n",
       "      <td>132</td>\n",
       "      <td>41</td>\n",
       "    </tr>\n",
       "    <tr>\n",
       "      <th>4</th>\n",
       "      <td>P</td>\n",
       "      <td>2013000000082</td>\n",
       "      <td>9</td>\n",
       "      <td>5</td>\n",
       "      <td>11615</td>\n",
       "      <td>4</td>\n",
       "      <td>53</td>\n",
       "      <td>1061971</td>\n",
       "      <td>108</td>\n",
       "      <td>48</td>\n",
       "      <td>...</td>\n",
       "      <td>127</td>\n",
       "      <td>176</td>\n",
       "      <td>47</td>\n",
       "      <td>37</td>\n",
       "      <td>110</td>\n",
       "      <td>123</td>\n",
       "      <td>135</td>\n",
       "      <td>96</td>\n",
       "      <td>133</td>\n",
       "      <td>41</td>\n",
       "    </tr>\n",
       "  </tbody>\n",
       "</table>\n",
       "<p>5 rows × 286 columns</p>\n",
       "</div>"
      ],
      "text/plain": [
       "  rt       serialno  division  sporder   puma  region  st   adjinc  pwgtp  \\\n",
       "0  P  2013000000082         9        1  11615       4  53  1061971     90   \n",
       "1  P  2013000000082         9        2  11615       4  53  1061971     78   \n",
       "2  P  2013000000082         9        3  11615       4  53  1061971     60   \n",
       "3  P  2013000000082         9        4  11615       4  53  1061971    109   \n",
       "4  P  2013000000082         9        5  11615       4  53  1061971    108   \n",
       "\n",
       "   agep   ...     pwgtp71  pwgtp72  pwgtp73  pwgtp74  pwgtp75  pwgtp76  \\\n",
       "0    40   ...         119      152       33       30      100       77   \n",
       "1    11   ...         124      148       21       30       93       75   \n",
       "2     9   ...         112      102       20       23       58       50   \n",
       "3    48   ...         127      177       46       37      110      123   \n",
       "4    48   ...         127      176       47       37      110      123   \n",
       "\n",
       "   pwgtp77  pwgtp78  pwgtp79  pwgtp80  \n",
       "0      115       85      114       29  \n",
       "1       91       79      116       31  \n",
       "2       80       58      102       17  \n",
       "3      135       95      132       41  \n",
       "4      135       96      133       41  \n",
       "\n",
       "[5 rows x 286 columns]"
      ]
     },
     "execution_count": 103,
     "metadata": {},
     "output_type": "execute_result"
    }
   ],
   "source": [
    "df_was2.head()"
   ]
  },
  {
   "cell_type": "code",
   "execution_count": 104,
   "metadata": {
    "ExecuteTime": {
     "end_time": "2020-03-06T09:21:53.448078Z",
     "start_time": "2020-03-06T09:21:53.425464Z"
    }
   },
   "outputs": [
    {
     "data": {
      "text/plain": [
       "(34145, 286)"
      ]
     },
     "execution_count": 104,
     "metadata": {},
     "output_type": "execute_result"
    }
   ],
   "source": [
    "df_was2.shape"
   ]
  },
  {
   "cell_type": "code",
   "execution_count": 105,
   "metadata": {
    "ExecuteTime": {
     "end_time": "2020-03-06T09:21:53.485727Z",
     "start_time": "2020-03-06T09:21:53.451342Z"
    }
   },
   "outputs": [],
   "source": [
    "df_age = df_was2[(df_was2[\"agep\"] >= 16) & (df_was2[\"agep\"] <= 24)]"
   ]
  },
  {
   "cell_type": "code",
   "execution_count": 106,
   "metadata": {
    "ExecuteTime": {
     "end_time": "2020-03-06T09:21:53.541582Z",
     "start_time": "2020-03-06T09:21:53.498856Z"
    }
   },
   "outputs": [
    {
     "data": {
      "text/html": [
       "<div>\n",
       "<style scoped>\n",
       "    .dataframe tbody tr th:only-of-type {\n",
       "        vertical-align: middle;\n",
       "    }\n",
       "\n",
       "    .dataframe tbody tr th {\n",
       "        vertical-align: top;\n",
       "    }\n",
       "\n",
       "    .dataframe thead th {\n",
       "        text-align: right;\n",
       "    }\n",
       "</style>\n",
       "<table border=\"1\" class=\"dataframe\">\n",
       "  <thead>\n",
       "    <tr style=\"text-align: right;\">\n",
       "      <th></th>\n",
       "      <th>rt</th>\n",
       "      <th>serialno</th>\n",
       "      <th>division</th>\n",
       "      <th>sporder</th>\n",
       "      <th>puma</th>\n",
       "      <th>region</th>\n",
       "      <th>st</th>\n",
       "      <th>adjinc</th>\n",
       "      <th>pwgtp</th>\n",
       "      <th>agep</th>\n",
       "      <th>...</th>\n",
       "      <th>pwgtp71</th>\n",
       "      <th>pwgtp72</th>\n",
       "      <th>pwgtp73</th>\n",
       "      <th>pwgtp74</th>\n",
       "      <th>pwgtp75</th>\n",
       "      <th>pwgtp76</th>\n",
       "      <th>pwgtp77</th>\n",
       "      <th>pwgtp78</th>\n",
       "      <th>pwgtp79</th>\n",
       "      <th>pwgtp80</th>\n",
       "    </tr>\n",
       "  </thead>\n",
       "  <tbody>\n",
       "    <tr>\n",
       "      <th>154</th>\n",
       "      <td>P</td>\n",
       "      <td>2013000030421</td>\n",
       "      <td>9</td>\n",
       "      <td>2</td>\n",
       "      <td>11611</td>\n",
       "      <td>4</td>\n",
       "      <td>53</td>\n",
       "      <td>1061971</td>\n",
       "      <td>11</td>\n",
       "      <td>19</td>\n",
       "      <td>...</td>\n",
       "      <td>16</td>\n",
       "      <td>12</td>\n",
       "      <td>10</td>\n",
       "      <td>9</td>\n",
       "      <td>9</td>\n",
       "      <td>10</td>\n",
       "      <td>13</td>\n",
       "      <td>11</td>\n",
       "      <td>10</td>\n",
       "      <td>10</td>\n",
       "    </tr>\n",
       "    <tr>\n",
       "      <th>201</th>\n",
       "      <td>P</td>\n",
       "      <td>2013000048962</td>\n",
       "      <td>9</td>\n",
       "      <td>5</td>\n",
       "      <td>11612</td>\n",
       "      <td>4</td>\n",
       "      <td>53</td>\n",
       "      <td>1061971</td>\n",
       "      <td>25</td>\n",
       "      <td>22</td>\n",
       "      <td>...</td>\n",
       "      <td>7</td>\n",
       "      <td>37</td>\n",
       "      <td>24</td>\n",
       "      <td>44</td>\n",
       "      <td>26</td>\n",
       "      <td>7</td>\n",
       "      <td>25</td>\n",
       "      <td>9</td>\n",
       "      <td>39</td>\n",
       "      <td>7</td>\n",
       "    </tr>\n",
       "    <tr>\n",
       "      <th>257</th>\n",
       "      <td>P</td>\n",
       "      <td>2013000047506</td>\n",
       "      <td>9</td>\n",
       "      <td>4</td>\n",
       "      <td>11615</td>\n",
       "      <td>4</td>\n",
       "      <td>53</td>\n",
       "      <td>1061971</td>\n",
       "      <td>5</td>\n",
       "      <td>20</td>\n",
       "      <td>...</td>\n",
       "      <td>1</td>\n",
       "      <td>6</td>\n",
       "      <td>6</td>\n",
       "      <td>7</td>\n",
       "      <td>5</td>\n",
       "      <td>2</td>\n",
       "      <td>4</td>\n",
       "      <td>1</td>\n",
       "      <td>6</td>\n",
       "      <td>1</td>\n",
       "    </tr>\n",
       "    <tr>\n",
       "      <th>275</th>\n",
       "      <td>P</td>\n",
       "      <td>2013000057563</td>\n",
       "      <td>9</td>\n",
       "      <td>5</td>\n",
       "      <td>11611</td>\n",
       "      <td>4</td>\n",
       "      <td>53</td>\n",
       "      <td>1061971</td>\n",
       "      <td>20</td>\n",
       "      <td>21</td>\n",
       "      <td>...</td>\n",
       "      <td>6</td>\n",
       "      <td>7</td>\n",
       "      <td>24</td>\n",
       "      <td>23</td>\n",
       "      <td>6</td>\n",
       "      <td>33</td>\n",
       "      <td>19</td>\n",
       "      <td>33</td>\n",
       "      <td>33</td>\n",
       "      <td>18</td>\n",
       "    </tr>\n",
       "    <tr>\n",
       "      <th>278</th>\n",
       "      <td>P</td>\n",
       "      <td>2013000059060</td>\n",
       "      <td>9</td>\n",
       "      <td>2</td>\n",
       "      <td>11610</td>\n",
       "      <td>4</td>\n",
       "      <td>53</td>\n",
       "      <td>1061971</td>\n",
       "      <td>19</td>\n",
       "      <td>22</td>\n",
       "      <td>...</td>\n",
       "      <td>7</td>\n",
       "      <td>20</td>\n",
       "      <td>16</td>\n",
       "      <td>5</td>\n",
       "      <td>21</td>\n",
       "      <td>5</td>\n",
       "      <td>20</td>\n",
       "      <td>15</td>\n",
       "      <td>17</td>\n",
       "      <td>5</td>\n",
       "    </tr>\n",
       "  </tbody>\n",
       "</table>\n",
       "<p>5 rows × 286 columns</p>\n",
       "</div>"
      ],
      "text/plain": [
       "    rt       serialno  division  sporder   puma  region  st   adjinc  pwgtp  \\\n",
       "154  P  2013000030421         9        2  11611       4  53  1061971     11   \n",
       "201  P  2013000048962         9        5  11612       4  53  1061971     25   \n",
       "257  P  2013000047506         9        4  11615       4  53  1061971      5   \n",
       "275  P  2013000057563         9        5  11611       4  53  1061971     20   \n",
       "278  P  2013000059060         9        2  11610       4  53  1061971     19   \n",
       "\n",
       "     agep   ...     pwgtp71  pwgtp72  pwgtp73  pwgtp74  pwgtp75  pwgtp76  \\\n",
       "154    19   ...          16       12       10        9        9       10   \n",
       "201    22   ...           7       37       24       44       26        7   \n",
       "257    20   ...           1        6        6        7        5        2   \n",
       "275    21   ...           6        7       24       23        6       33   \n",
       "278    22   ...           7       20       16        5       21        5   \n",
       "\n",
       "     pwgtp77  pwgtp78  pwgtp79  pwgtp80  \n",
       "154       13       11       10       10  \n",
       "201       25        9       39        7  \n",
       "257        4        1        6        1  \n",
       "275       19       33       33       18  \n",
       "278       20       15       17        5  \n",
       "\n",
       "[5 rows x 286 columns]"
      ]
     },
     "execution_count": 106,
     "metadata": {},
     "output_type": "execute_result"
    }
   ],
   "source": [
    "df_work = df_age[((df_age[\"esr\"] == 3) | (df_age[\"esr\"] == 6)) & (df_age[\"sch\"] == 1)]\n",
    "df_work.head()"
   ]
  },
  {
   "cell_type": "code",
   "execution_count": 108,
   "metadata": {
    "ExecuteTime": {
     "end_time": "2020-03-06T09:21:53.563754Z",
     "start_time": "2020-03-06T09:21:53.556865Z"
    }
   },
   "outputs": [
    {
     "data": {
      "text/plain": [
       "391"
      ]
     },
     "execution_count": 108,
     "metadata": {},
     "output_type": "execute_result"
    }
   ],
   "source": [
    "df_work.shape[0] "
   ]
  },
  {
   "cell_type": "markdown",
   "metadata": {},
   "source": [
    "2.2) Breakdown by PUMA"
   ]
  },
  {
   "cell_type": "code",
   "execution_count": 109,
   "metadata": {
    "ExecuteTime": {
     "end_time": "2020-03-06T09:21:53.591075Z",
     "start_time": "2020-03-06T09:21:53.567268Z"
    },
    "scrolled": true
   },
   "outputs": [
    {
     "data": {
      "text/html": [
       "<div>\n",
       "<style scoped>\n",
       "    .dataframe tbody tr th:only-of-type {\n",
       "        vertical-align: middle;\n",
       "    }\n",
       "\n",
       "    .dataframe tbody tr th {\n",
       "        vertical-align: top;\n",
       "    }\n",
       "\n",
       "    .dataframe thead th {\n",
       "        text-align: right;\n",
       "    }\n",
       "</style>\n",
       "<table border=\"1\" class=\"dataframe\">\n",
       "  <thead>\n",
       "    <tr style=\"text-align: right;\">\n",
       "      <th></th>\n",
       "      <th>puma</th>\n",
       "      <th>serialno</th>\n",
       "    </tr>\n",
       "  </thead>\n",
       "  <tbody>\n",
       "    <tr>\n",
       "      <th>0</th>\n",
       "      <td>11610</td>\n",
       "      <td>45</td>\n",
       "    </tr>\n",
       "    <tr>\n",
       "      <th>1</th>\n",
       "      <td>11611</td>\n",
       "      <td>67</td>\n",
       "    </tr>\n",
       "    <tr>\n",
       "      <th>2</th>\n",
       "      <td>11612</td>\n",
       "      <td>55</td>\n",
       "    </tr>\n",
       "    <tr>\n",
       "      <th>3</th>\n",
       "      <td>11613</td>\n",
       "      <td>73</td>\n",
       "    </tr>\n",
       "    <tr>\n",
       "      <th>4</th>\n",
       "      <td>11614</td>\n",
       "      <td>71</td>\n",
       "    </tr>\n",
       "    <tr>\n",
       "      <th>5</th>\n",
       "      <td>11615</td>\n",
       "      <td>52</td>\n",
       "    </tr>\n",
       "  </tbody>\n",
       "</table>\n",
       "</div>"
      ],
      "text/plain": [
       "    puma  serialno\n",
       "0  11610        45\n",
       "1  11611        67\n",
       "2  11612        55\n",
       "3  11613        73\n",
       "4  11614        71\n",
       "5  11615        52"
      ]
     },
     "execution_count": 109,
     "metadata": {},
     "output_type": "execute_result"
    }
   ],
   "source": [
    "df_work.groupby([\"puma\"])['serialno'].nunique().reset_index()"
   ]
  },
  {
   "cell_type": "markdown",
   "metadata": {
    "ExecuteTime": {
     "end_time": "2020-03-05T17:34:27.331508Z",
     "start_time": "2020-03-05T17:34:27.323301Z"
    }
   },
   "source": [
    "3)“Opportunity Youth Status by Age” 1 st TABLE"
   ]
  },
  {
   "cell_type": "code",
   "execution_count": 155,
   "metadata": {
    "ExecuteTime": {
     "end_time": "2020-03-06T09:30:49.226252Z",
     "start_time": "2020-03-06T09:30:49.047478Z"
    }
   },
   "outputs": [
    {
     "data": {
      "text/html": [
       "<div>\n",
       "<style scoped>\n",
       "    .dataframe tbody tr th:only-of-type {\n",
       "        vertical-align: middle;\n",
       "    }\n",
       "\n",
       "    .dataframe tbody tr th {\n",
       "        vertical-align: top;\n",
       "    }\n",
       "\n",
       "    .dataframe thead th {\n",
       "        text-align: right;\n",
       "    }\n",
       "</style>\n",
       "<table border=\"1\" class=\"dataframe\">\n",
       "  <thead>\n",
       "    <tr style=\"text-align: right;\">\n",
       "      <th></th>\n",
       "      <th>rt</th>\n",
       "      <th>serialno</th>\n",
       "      <th>division</th>\n",
       "      <th>sporder</th>\n",
       "      <th>puma</th>\n",
       "      <th>region</th>\n",
       "      <th>st</th>\n",
       "      <th>adjinc</th>\n",
       "      <th>pwgtp</th>\n",
       "      <th>agep</th>\n",
       "      <th>...</th>\n",
       "      <th>pwgtp71</th>\n",
       "      <th>pwgtp72</th>\n",
       "      <th>pwgtp73</th>\n",
       "      <th>pwgtp74</th>\n",
       "      <th>pwgtp75</th>\n",
       "      <th>pwgtp76</th>\n",
       "      <th>pwgtp77</th>\n",
       "      <th>pwgtp78</th>\n",
       "      <th>pwgtp79</th>\n",
       "      <th>pwgtp80</th>\n",
       "    </tr>\n",
       "  </thead>\n",
       "  <tbody>\n",
       "    <tr>\n",
       "      <th>0</th>\n",
       "      <td>P</td>\n",
       "      <td>2014000230610</td>\n",
       "      <td>9</td>\n",
       "      <td>3</td>\n",
       "      <td>11610</td>\n",
       "      <td>4</td>\n",
       "      <td>53</td>\n",
       "      <td>1045195</td>\n",
       "      <td>14</td>\n",
       "      <td>23</td>\n",
       "      <td>...</td>\n",
       "      <td>3</td>\n",
       "      <td>18</td>\n",
       "      <td>14</td>\n",
       "      <td>4</td>\n",
       "      <td>15</td>\n",
       "      <td>26</td>\n",
       "      <td>27</td>\n",
       "      <td>27</td>\n",
       "      <td>17</td>\n",
       "      <td>5</td>\n",
       "    </tr>\n",
       "    <tr>\n",
       "      <th>1</th>\n",
       "      <td>P</td>\n",
       "      <td>2014000237905</td>\n",
       "      <td>9</td>\n",
       "      <td>3</td>\n",
       "      <td>11611</td>\n",
       "      <td>4</td>\n",
       "      <td>53</td>\n",
       "      <td>1045195</td>\n",
       "      <td>34</td>\n",
       "      <td>19</td>\n",
       "      <td>...</td>\n",
       "      <td>48</td>\n",
       "      <td>37</td>\n",
       "      <td>55</td>\n",
       "      <td>56</td>\n",
       "      <td>52</td>\n",
       "      <td>55</td>\n",
       "      <td>25</td>\n",
       "      <td>37</td>\n",
       "      <td>25</td>\n",
       "      <td>8</td>\n",
       "    </tr>\n",
       "    <tr>\n",
       "      <th>2</th>\n",
       "      <td>P</td>\n",
       "      <td>2014000240322</td>\n",
       "      <td>9</td>\n",
       "      <td>2</td>\n",
       "      <td>11612</td>\n",
       "      <td>4</td>\n",
       "      <td>53</td>\n",
       "      <td>1045195</td>\n",
       "      <td>46</td>\n",
       "      <td>20</td>\n",
       "      <td>...</td>\n",
       "      <td>46</td>\n",
       "      <td>53</td>\n",
       "      <td>18</td>\n",
       "      <td>40</td>\n",
       "      <td>84</td>\n",
       "      <td>57</td>\n",
       "      <td>13</td>\n",
       "      <td>15</td>\n",
       "      <td>45</td>\n",
       "      <td>55</td>\n",
       "    </tr>\n",
       "    <tr>\n",
       "      <th>3</th>\n",
       "      <td>P</td>\n",
       "      <td>2014000240322</td>\n",
       "      <td>9</td>\n",
       "      <td>3</td>\n",
       "      <td>11612</td>\n",
       "      <td>4</td>\n",
       "      <td>53</td>\n",
       "      <td>1045195</td>\n",
       "      <td>33</td>\n",
       "      <td>19</td>\n",
       "      <td>...</td>\n",
       "      <td>30</td>\n",
       "      <td>26</td>\n",
       "      <td>10</td>\n",
       "      <td>36</td>\n",
       "      <td>50</td>\n",
       "      <td>25</td>\n",
       "      <td>14</td>\n",
       "      <td>11</td>\n",
       "      <td>36</td>\n",
       "      <td>47</td>\n",
       "    </tr>\n",
       "    <tr>\n",
       "      <th>4</th>\n",
       "      <td>P</td>\n",
       "      <td>2014000243521</td>\n",
       "      <td>9</td>\n",
       "      <td>1</td>\n",
       "      <td>11614</td>\n",
       "      <td>4</td>\n",
       "      <td>53</td>\n",
       "      <td>1045195</td>\n",
       "      <td>27</td>\n",
       "      <td>19</td>\n",
       "      <td>...</td>\n",
       "      <td>28</td>\n",
       "      <td>21</td>\n",
       "      <td>15</td>\n",
       "      <td>37</td>\n",
       "      <td>35</td>\n",
       "      <td>35</td>\n",
       "      <td>33</td>\n",
       "      <td>8</td>\n",
       "      <td>38</td>\n",
       "      <td>50</td>\n",
       "    </tr>\n",
       "  </tbody>\n",
       "</table>\n",
       "<p>5 rows × 286 columns</p>\n",
       "</div>"
      ],
      "text/plain": [
       "  rt       serialno  division  sporder   puma  region  st   adjinc  pwgtp  \\\n",
       "0  P  2014000230610         9        3  11610       4  53  1045195     14   \n",
       "1  P  2014000237905         9        3  11611       4  53  1045195     34   \n",
       "2  P  2014000240322         9        2  11612       4  53  1045195     46   \n",
       "3  P  2014000240322         9        3  11612       4  53  1045195     33   \n",
       "4  P  2014000243521         9        1  11614       4  53  1045195     27   \n",
       "\n",
       "   agep   ...     pwgtp71  pwgtp72  pwgtp73  pwgtp74  pwgtp75  pwgtp76  \\\n",
       "0    23   ...           3       18       14        4       15       26   \n",
       "1    19   ...          48       37       55       56       52       55   \n",
       "2    20   ...          46       53       18       40       84       57   \n",
       "3    19   ...          30       26       10       36       50       25   \n",
       "4    19   ...          28       21       15       37       35       35   \n",
       "\n",
       "   pwgtp77  pwgtp78  pwgtp79  pwgtp80  \n",
       "0       27       27       17        5  \n",
       "1       25       37       25        8  \n",
       "2       13       15       45       55  \n",
       "3       14       11       36       47  \n",
       "4       33        8       38       50  \n",
       "\n",
       "[5 rows x 286 columns]"
      ]
     },
     "execution_count": 155,
     "metadata": {},
     "output_type": "execute_result"
    }
   ],
   "source": [
    "dfq3 = pd.read_csv('../data/processed/question_3_base.csv')\n",
    "dfq3.head()"
   ]
  },
  {
   "cell_type": "markdown",
   "metadata": {},
   "source": [
    "convert age column into 3 categories : 16-18, 19-21, 22-24"
   ]
  },
  {
   "cell_type": "code",
   "execution_count": 156,
   "metadata": {
    "ExecuteTime": {
     "end_time": "2020-03-06T09:30:57.413541Z",
     "start_time": "2020-03-06T09:30:57.386328Z"
    }
   },
   "outputs": [
    {
     "data": {
      "text/html": [
       "<div>\n",
       "<style scoped>\n",
       "    .dataframe tbody tr th:only-of-type {\n",
       "        vertical-align: middle;\n",
       "    }\n",
       "\n",
       "    .dataframe tbody tr th {\n",
       "        vertical-align: top;\n",
       "    }\n",
       "\n",
       "    .dataframe thead th {\n",
       "        text-align: right;\n",
       "    }\n",
       "</style>\n",
       "<table border=\"1\" class=\"dataframe\">\n",
       "  <thead>\n",
       "    <tr style=\"text-align: right;\">\n",
       "      <th></th>\n",
       "      <th>rt</th>\n",
       "      <th>serialno</th>\n",
       "      <th>division</th>\n",
       "      <th>sporder</th>\n",
       "      <th>puma</th>\n",
       "      <th>region</th>\n",
       "      <th>st</th>\n",
       "      <th>adjinc</th>\n",
       "      <th>pwgtp</th>\n",
       "      <th>agep</th>\n",
       "      <th>...</th>\n",
       "      <th>pwgtp72</th>\n",
       "      <th>pwgtp73</th>\n",
       "      <th>pwgtp74</th>\n",
       "      <th>pwgtp75</th>\n",
       "      <th>pwgtp76</th>\n",
       "      <th>pwgtp77</th>\n",
       "      <th>pwgtp78</th>\n",
       "      <th>pwgtp79</th>\n",
       "      <th>pwgtp80</th>\n",
       "      <th>age_category</th>\n",
       "    </tr>\n",
       "  </thead>\n",
       "  <tbody>\n",
       "    <tr>\n",
       "      <th>0</th>\n",
       "      <td>P</td>\n",
       "      <td>2014000230610</td>\n",
       "      <td>9</td>\n",
       "      <td>3</td>\n",
       "      <td>11610</td>\n",
       "      <td>4</td>\n",
       "      <td>53</td>\n",
       "      <td>1045195</td>\n",
       "      <td>14</td>\n",
       "      <td>23</td>\n",
       "      <td>...</td>\n",
       "      <td>18</td>\n",
       "      <td>14</td>\n",
       "      <td>4</td>\n",
       "      <td>15</td>\n",
       "      <td>26</td>\n",
       "      <td>27</td>\n",
       "      <td>27</td>\n",
       "      <td>17</td>\n",
       "      <td>5</td>\n",
       "      <td>22-24</td>\n",
       "    </tr>\n",
       "    <tr>\n",
       "      <th>1</th>\n",
       "      <td>P</td>\n",
       "      <td>2014000237905</td>\n",
       "      <td>9</td>\n",
       "      <td>3</td>\n",
       "      <td>11611</td>\n",
       "      <td>4</td>\n",
       "      <td>53</td>\n",
       "      <td>1045195</td>\n",
       "      <td>34</td>\n",
       "      <td>19</td>\n",
       "      <td>...</td>\n",
       "      <td>37</td>\n",
       "      <td>55</td>\n",
       "      <td>56</td>\n",
       "      <td>52</td>\n",
       "      <td>55</td>\n",
       "      <td>25</td>\n",
       "      <td>37</td>\n",
       "      <td>25</td>\n",
       "      <td>8</td>\n",
       "      <td>19-21</td>\n",
       "    </tr>\n",
       "    <tr>\n",
       "      <th>2</th>\n",
       "      <td>P</td>\n",
       "      <td>2014000240322</td>\n",
       "      <td>9</td>\n",
       "      <td>2</td>\n",
       "      <td>11612</td>\n",
       "      <td>4</td>\n",
       "      <td>53</td>\n",
       "      <td>1045195</td>\n",
       "      <td>46</td>\n",
       "      <td>20</td>\n",
       "      <td>...</td>\n",
       "      <td>53</td>\n",
       "      <td>18</td>\n",
       "      <td>40</td>\n",
       "      <td>84</td>\n",
       "      <td>57</td>\n",
       "      <td>13</td>\n",
       "      <td>15</td>\n",
       "      <td>45</td>\n",
       "      <td>55</td>\n",
       "      <td>19-21</td>\n",
       "    </tr>\n",
       "    <tr>\n",
       "      <th>3</th>\n",
       "      <td>P</td>\n",
       "      <td>2014000240322</td>\n",
       "      <td>9</td>\n",
       "      <td>3</td>\n",
       "      <td>11612</td>\n",
       "      <td>4</td>\n",
       "      <td>53</td>\n",
       "      <td>1045195</td>\n",
       "      <td>33</td>\n",
       "      <td>19</td>\n",
       "      <td>...</td>\n",
       "      <td>26</td>\n",
       "      <td>10</td>\n",
       "      <td>36</td>\n",
       "      <td>50</td>\n",
       "      <td>25</td>\n",
       "      <td>14</td>\n",
       "      <td>11</td>\n",
       "      <td>36</td>\n",
       "      <td>47</td>\n",
       "      <td>19-21</td>\n",
       "    </tr>\n",
       "    <tr>\n",
       "      <th>4</th>\n",
       "      <td>P</td>\n",
       "      <td>2014000243521</td>\n",
       "      <td>9</td>\n",
       "      <td>1</td>\n",
       "      <td>11614</td>\n",
       "      <td>4</td>\n",
       "      <td>53</td>\n",
       "      <td>1045195</td>\n",
       "      <td>27</td>\n",
       "      <td>19</td>\n",
       "      <td>...</td>\n",
       "      <td>21</td>\n",
       "      <td>15</td>\n",
       "      <td>37</td>\n",
       "      <td>35</td>\n",
       "      <td>35</td>\n",
       "      <td>33</td>\n",
       "      <td>8</td>\n",
       "      <td>38</td>\n",
       "      <td>50</td>\n",
       "      <td>19-21</td>\n",
       "    </tr>\n",
       "  </tbody>\n",
       "</table>\n",
       "<p>5 rows × 287 columns</p>\n",
       "</div>"
      ],
      "text/plain": [
       "  rt       serialno  division  sporder   puma  region  st   adjinc  pwgtp  \\\n",
       "0  P  2014000230610         9        3  11610       4  53  1045195     14   \n",
       "1  P  2014000237905         9        3  11611       4  53  1045195     34   \n",
       "2  P  2014000240322         9        2  11612       4  53  1045195     46   \n",
       "3  P  2014000240322         9        3  11612       4  53  1045195     33   \n",
       "4  P  2014000243521         9        1  11614       4  53  1045195     27   \n",
       "\n",
       "   agep      ...       pwgtp72  pwgtp73  pwgtp74  pwgtp75  pwgtp76  pwgtp77  \\\n",
       "0    23      ...            18       14        4       15       26       27   \n",
       "1    19      ...            37       55       56       52       55       25   \n",
       "2    20      ...            53       18       40       84       57       13   \n",
       "3    19      ...            26       10       36       50       25       14   \n",
       "4    19      ...            21       15       37       35       35       33   \n",
       "\n",
       "   pwgtp78  pwgtp79  pwgtp80  age_category  \n",
       "0       27       17        5         22-24  \n",
       "1       37       25        8         19-21  \n",
       "2       15       45       55         19-21  \n",
       "3       11       36       47         19-21  \n",
       "4        8       38       50         19-21  \n",
       "\n",
       "[5 rows x 287 columns]"
      ]
     },
     "execution_count": 156,
     "metadata": {},
     "output_type": "execute_result"
    }
   ],
   "source": [
    "dfq3['age_category'] = pd.cut(dfq3[\"agep\"], [15, 18, 21, 24], labels=['16-18',\"19-21\",\"22-24\"])\n",
    "dfq3.head()"
   ]
  },
  {
   "cell_type": "markdown",
   "metadata": {},
   "source": [
    "Total Population"
   ]
  },
  {
   "cell_type": "code",
   "execution_count": 157,
   "metadata": {
    "ExecuteTime": {
     "end_time": "2020-03-06T09:31:00.743018Z",
     "start_time": "2020-03-06T09:31:00.731295Z"
    }
   },
   "outputs": [
    {
     "data": {
      "text/plain": [
       "age_category\n",
       "16-18     845\n",
       "19-21    1037\n",
       "22-24     800\n",
       "Name: serialno, dtype: int64"
      ]
     },
     "execution_count": 157,
     "metadata": {},
     "output_type": "execute_result"
    }
   ],
   "source": [
    "df_tot = dfq3.groupby([\"age_category\"])[\"serialno\"].nunique()\n",
    "df_tot"
   ]
  },
  {
   "cell_type": "code",
   "execution_count": 158,
   "metadata": {
    "ExecuteTime": {
     "end_time": "2020-03-06T09:31:07.068682Z",
     "start_time": "2020-03-06T09:31:07.062050Z"
    }
   },
   "outputs": [
    {
     "name": "stdout",
     "output_type": "stream",
     "text": [
      "Total:  2682\n"
     ]
    }
   ],
   "source": [
    "tot_pop = print('Total: ', dfq3.groupby([\"age_category\"])[\"serialno\"].nunique().sum() )"
   ]
  },
  {
   "cell_type": "markdown",
   "metadata": {
    "ExecuteTime": {
     "end_time": "2020-03-05T17:32:57.034553Z",
     "start_time": "2020-03-05T17:32:57.028126Z"
    }
   },
   "source": [
    "Opportunity Youth"
   ]
  },
  {
   "cell_type": "code",
   "execution_count": 159,
   "metadata": {
    "ExecuteTime": {
     "end_time": "2020-03-06T09:31:10.553848Z",
     "start_time": "2020-03-06T09:31:10.520721Z"
    },
    "scrolled": true
   },
   "outputs": [
    {
     "data": {
      "text/html": [
       "<div>\n",
       "<style scoped>\n",
       "    .dataframe tbody tr th:only-of-type {\n",
       "        vertical-align: middle;\n",
       "    }\n",
       "\n",
       "    .dataframe tbody tr th {\n",
       "        vertical-align: top;\n",
       "    }\n",
       "\n",
       "    .dataframe thead th {\n",
       "        text-align: right;\n",
       "    }\n",
       "</style>\n",
       "<table border=\"1\" class=\"dataframe\">\n",
       "  <thead>\n",
       "    <tr style=\"text-align: right;\">\n",
       "      <th></th>\n",
       "      <th>rt</th>\n",
       "      <th>serialno</th>\n",
       "      <th>division</th>\n",
       "      <th>sporder</th>\n",
       "      <th>puma</th>\n",
       "      <th>region</th>\n",
       "      <th>st</th>\n",
       "      <th>adjinc</th>\n",
       "      <th>pwgtp</th>\n",
       "      <th>agep</th>\n",
       "      <th>...</th>\n",
       "      <th>pwgtp72</th>\n",
       "      <th>pwgtp73</th>\n",
       "      <th>pwgtp74</th>\n",
       "      <th>pwgtp75</th>\n",
       "      <th>pwgtp76</th>\n",
       "      <th>pwgtp77</th>\n",
       "      <th>pwgtp78</th>\n",
       "      <th>pwgtp79</th>\n",
       "      <th>pwgtp80</th>\n",
       "      <th>age_category</th>\n",
       "    </tr>\n",
       "  </thead>\n",
       "  <tbody>\n",
       "    <tr>\n",
       "      <th>1</th>\n",
       "      <td>P</td>\n",
       "      <td>2014000237905</td>\n",
       "      <td>9</td>\n",
       "      <td>3</td>\n",
       "      <td>11611</td>\n",
       "      <td>4</td>\n",
       "      <td>53</td>\n",
       "      <td>1045195</td>\n",
       "      <td>34</td>\n",
       "      <td>19</td>\n",
       "      <td>...</td>\n",
       "      <td>37</td>\n",
       "      <td>55</td>\n",
       "      <td>56</td>\n",
       "      <td>52</td>\n",
       "      <td>55</td>\n",
       "      <td>25</td>\n",
       "      <td>37</td>\n",
       "      <td>25</td>\n",
       "      <td>8</td>\n",
       "      <td>19-21</td>\n",
       "    </tr>\n",
       "    <tr>\n",
       "      <th>2</th>\n",
       "      <td>P</td>\n",
       "      <td>2014000240322</td>\n",
       "      <td>9</td>\n",
       "      <td>2</td>\n",
       "      <td>11612</td>\n",
       "      <td>4</td>\n",
       "      <td>53</td>\n",
       "      <td>1045195</td>\n",
       "      <td>46</td>\n",
       "      <td>20</td>\n",
       "      <td>...</td>\n",
       "      <td>53</td>\n",
       "      <td>18</td>\n",
       "      <td>40</td>\n",
       "      <td>84</td>\n",
       "      <td>57</td>\n",
       "      <td>13</td>\n",
       "      <td>15</td>\n",
       "      <td>45</td>\n",
       "      <td>55</td>\n",
       "      <td>19-21</td>\n",
       "    </tr>\n",
       "    <tr>\n",
       "      <th>4</th>\n",
       "      <td>P</td>\n",
       "      <td>2014000243521</td>\n",
       "      <td>9</td>\n",
       "      <td>1</td>\n",
       "      <td>11614</td>\n",
       "      <td>4</td>\n",
       "      <td>53</td>\n",
       "      <td>1045195</td>\n",
       "      <td>27</td>\n",
       "      <td>19</td>\n",
       "      <td>...</td>\n",
       "      <td>21</td>\n",
       "      <td>15</td>\n",
       "      <td>37</td>\n",
       "      <td>35</td>\n",
       "      <td>35</td>\n",
       "      <td>33</td>\n",
       "      <td>8</td>\n",
       "      <td>38</td>\n",
       "      <td>50</td>\n",
       "      <td>19-21</td>\n",
       "    </tr>\n",
       "    <tr>\n",
       "      <th>5</th>\n",
       "      <td>P</td>\n",
       "      <td>2014000243521</td>\n",
       "      <td>9</td>\n",
       "      <td>2</td>\n",
       "      <td>11614</td>\n",
       "      <td>4</td>\n",
       "      <td>53</td>\n",
       "      <td>1045195</td>\n",
       "      <td>31</td>\n",
       "      <td>19</td>\n",
       "      <td>...</td>\n",
       "      <td>26</td>\n",
       "      <td>18</td>\n",
       "      <td>39</td>\n",
       "      <td>39</td>\n",
       "      <td>41</td>\n",
       "      <td>40</td>\n",
       "      <td>10</td>\n",
       "      <td>47</td>\n",
       "      <td>57</td>\n",
       "      <td>19-21</td>\n",
       "    </tr>\n",
       "    <tr>\n",
       "      <th>9</th>\n",
       "      <td>P</td>\n",
       "      <td>2014000256963</td>\n",
       "      <td>9</td>\n",
       "      <td>2</td>\n",
       "      <td>11605</td>\n",
       "      <td>4</td>\n",
       "      <td>53</td>\n",
       "      <td>1045195</td>\n",
       "      <td>14</td>\n",
       "      <td>18</td>\n",
       "      <td>...</td>\n",
       "      <td>19</td>\n",
       "      <td>18</td>\n",
       "      <td>30</td>\n",
       "      <td>11</td>\n",
       "      <td>4</td>\n",
       "      <td>14</td>\n",
       "      <td>5</td>\n",
       "      <td>4</td>\n",
       "      <td>17</td>\n",
       "      <td>16-18</td>\n",
       "    </tr>\n",
       "  </tbody>\n",
       "</table>\n",
       "<p>5 rows × 287 columns</p>\n",
       "</div>"
      ],
      "text/plain": [
       "  rt       serialno  division  sporder   puma  region  st   adjinc  pwgtp  \\\n",
       "1  P  2014000237905         9        3  11611       4  53  1045195     34   \n",
       "2  P  2014000240322         9        2  11612       4  53  1045195     46   \n",
       "4  P  2014000243521         9        1  11614       4  53  1045195     27   \n",
       "5  P  2014000243521         9        2  11614       4  53  1045195     31   \n",
       "9  P  2014000256963         9        2  11605       4  53  1045195     14   \n",
       "\n",
       "   agep      ...       pwgtp72  pwgtp73  pwgtp74  pwgtp75  pwgtp76  pwgtp77  \\\n",
       "1    19      ...            37       55       56       52       55       25   \n",
       "2    20      ...            53       18       40       84       57       13   \n",
       "4    19      ...            21       15       37       35       35       33   \n",
       "5    19      ...            26       18       39       39       41       40   \n",
       "9    18      ...            19       18       30       11        4       14   \n",
       "\n",
       "   pwgtp78  pwgtp79  pwgtp80  age_category  \n",
       "1       37       25        8         19-21  \n",
       "2       15       45       55         19-21  \n",
       "4        8       38       50         19-21  \n",
       "5       10       47       57         19-21  \n",
       "9        5        4       17         16-18  \n",
       "\n",
       "[5 rows x 287 columns]"
      ]
     },
     "execution_count": 159,
     "metadata": {},
     "output_type": "execute_result"
    }
   ],
   "source": [
    "dfq3_oy = dfq3[(dfq3[\"sch\"] == 1) & (dfq3[\"esr\"] == 3) | (dfq3[\"esr\"] == 6)]\n",
    "dfq3_oy.head()"
   ]
  },
  {
   "cell_type": "code",
   "execution_count": 160,
   "metadata": {
    "ExecuteTime": {
     "end_time": "2020-03-06T09:31:12.839193Z",
     "start_time": "2020-03-06T09:31:12.824910Z"
    },
    "scrolled": true
   },
   "outputs": [
    {
     "data": {
      "text/plain": [
       "age_category\n",
       "16-18    557\n",
       "19-21    422\n",
       "22-24    204\n",
       "Name: serialno, dtype: int64"
      ]
     },
     "execution_count": 160,
     "metadata": {},
     "output_type": "execute_result"
    }
   ],
   "source": [
    "tot_oy = dfq3_oy.groupby([\"age_category\"])[\"serialno\"].nunique()\n",
    "tot_oy"
   ]
  },
  {
   "cell_type": "code",
   "execution_count": 161,
   "metadata": {
    "ExecuteTime": {
     "end_time": "2020-03-06T09:31:17.110021Z",
     "start_time": "2020-03-06T09:31:17.101596Z"
    },
    "scrolled": true
   },
   "outputs": [
    {
     "name": "stdout",
     "output_type": "stream",
     "text": [
      "Total:  1183\n"
     ]
    }
   ],
   "source": [
    "print('Total: ', dfq3_oy.groupby([\"age_category\"])[\"serialno\"].nunique().sum() )"
   ]
  },
  {
   "cell_type": "markdown",
   "metadata": {
    "ExecuteTime": {
     "end_time": "2020-03-05T17:25:27.978641Z",
     "start_time": "2020-03-05T17:25:27.972634Z"
    }
   },
   "source": [
    "Not an opportunity youth"
   ]
  },
  {
   "cell_type": "code",
   "execution_count": 162,
   "metadata": {
    "ExecuteTime": {
     "end_time": "2020-03-06T09:31:19.815558Z",
     "start_time": "2020-03-06T09:31:19.803541Z"
    }
   },
   "outputs": [
    {
     "data": {
      "text/plain": [
       "age_category\n",
       "16-18    288\n",
       "19-21    615\n",
       "22-24    596\n",
       "Name: serialno, dtype: int64"
      ]
     },
     "execution_count": 162,
     "metadata": {},
     "output_type": "execute_result"
    }
   ],
   "source": [
    "df_n_o_y = df_tot - tot_oy\n",
    "df_n_o_y"
   ]
  },
  {
   "cell_type": "code",
   "execution_count": 163,
   "metadata": {
    "ExecuteTime": {
     "end_time": "2020-03-06T09:31:23.066657Z",
     "start_time": "2020-03-06T09:31:23.060438Z"
    }
   },
   "outputs": [
    {
     "name": "stdout",
     "output_type": "stream",
     "text": [
      "Total : 1499\n"
     ]
    }
   ],
   "source": [
    "print (\"Total :\", df_n_o_y .sum())"
   ]
  },
  {
   "cell_type": "markdown",
   "metadata": {
    "ExecuteTime": {
     "end_time": "2020-03-06T10:51:16.681433Z",
     "start_time": "2020-03-06T10:51:16.674104Z"
    }
   },
   "source": [
    "Working whithout diploma"
   ]
  },
  {
   "cell_type": "code",
   "execution_count": 164,
   "metadata": {
    "ExecuteTime": {
     "end_time": "2020-03-06T09:31:25.582654Z",
     "start_time": "2020-03-06T09:31:25.555008Z"
    }
   },
   "outputs": [
    {
     "data": {
      "text/html": [
       "<div>\n",
       "<style scoped>\n",
       "    .dataframe tbody tr th:only-of-type {\n",
       "        vertical-align: middle;\n",
       "    }\n",
       "\n",
       "    .dataframe tbody tr th {\n",
       "        vertical-align: top;\n",
       "    }\n",
       "\n",
       "    .dataframe thead th {\n",
       "        text-align: right;\n",
       "    }\n",
       "</style>\n",
       "<table border=\"1\" class=\"dataframe\">\n",
       "  <thead>\n",
       "    <tr style=\"text-align: right;\">\n",
       "      <th></th>\n",
       "      <th>rt</th>\n",
       "      <th>serialno</th>\n",
       "      <th>division</th>\n",
       "      <th>sporder</th>\n",
       "      <th>puma</th>\n",
       "      <th>region</th>\n",
       "      <th>st</th>\n",
       "      <th>adjinc</th>\n",
       "      <th>pwgtp</th>\n",
       "      <th>agep</th>\n",
       "      <th>...</th>\n",
       "      <th>pwgtp72</th>\n",
       "      <th>pwgtp73</th>\n",
       "      <th>pwgtp74</th>\n",
       "      <th>pwgtp75</th>\n",
       "      <th>pwgtp76</th>\n",
       "      <th>pwgtp77</th>\n",
       "      <th>pwgtp78</th>\n",
       "      <th>pwgtp79</th>\n",
       "      <th>pwgtp80</th>\n",
       "      <th>age_category</th>\n",
       "    </tr>\n",
       "  </thead>\n",
       "  <tbody>\n",
       "    <tr>\n",
       "      <th>17</th>\n",
       "      <td>P</td>\n",
       "      <td>2014000277033</td>\n",
       "      <td>9</td>\n",
       "      <td>1</td>\n",
       "      <td>11611</td>\n",
       "      <td>4</td>\n",
       "      <td>53</td>\n",
       "      <td>1045195</td>\n",
       "      <td>58</td>\n",
       "      <td>23</td>\n",
       "      <td>...</td>\n",
       "      <td>56</td>\n",
       "      <td>114</td>\n",
       "      <td>22</td>\n",
       "      <td>68</td>\n",
       "      <td>20</td>\n",
       "      <td>56</td>\n",
       "      <td>105</td>\n",
       "      <td>57</td>\n",
       "      <td>21</td>\n",
       "      <td>22-24</td>\n",
       "    </tr>\n",
       "    <tr>\n",
       "      <th>18</th>\n",
       "      <td>P</td>\n",
       "      <td>2014000277033</td>\n",
       "      <td>9</td>\n",
       "      <td>3</td>\n",
       "      <td>11611</td>\n",
       "      <td>4</td>\n",
       "      <td>53</td>\n",
       "      <td>1045195</td>\n",
       "      <td>44</td>\n",
       "      <td>22</td>\n",
       "      <td>...</td>\n",
       "      <td>50</td>\n",
       "      <td>64</td>\n",
       "      <td>15</td>\n",
       "      <td>56</td>\n",
       "      <td>15</td>\n",
       "      <td>36</td>\n",
       "      <td>72</td>\n",
       "      <td>51</td>\n",
       "      <td>19</td>\n",
       "      <td>22-24</td>\n",
       "    </tr>\n",
       "    <tr>\n",
       "      <th>21</th>\n",
       "      <td>P</td>\n",
       "      <td>2014000282612</td>\n",
       "      <td>9</td>\n",
       "      <td>2</td>\n",
       "      <td>11605</td>\n",
       "      <td>4</td>\n",
       "      <td>53</td>\n",
       "      <td>1045195</td>\n",
       "      <td>33</td>\n",
       "      <td>18</td>\n",
       "      <td>...</td>\n",
       "      <td>21</td>\n",
       "      <td>8</td>\n",
       "      <td>84</td>\n",
       "      <td>38</td>\n",
       "      <td>32</td>\n",
       "      <td>17</td>\n",
       "      <td>25</td>\n",
       "      <td>11</td>\n",
       "      <td>28</td>\n",
       "      <td>16-18</td>\n",
       "    </tr>\n",
       "    <tr>\n",
       "      <th>34</th>\n",
       "      <td>P</td>\n",
       "      <td>2014000343714</td>\n",
       "      <td>9</td>\n",
       "      <td>3</td>\n",
       "      <td>11612</td>\n",
       "      <td>4</td>\n",
       "      <td>53</td>\n",
       "      <td>1045195</td>\n",
       "      <td>6</td>\n",
       "      <td>17</td>\n",
       "      <td>...</td>\n",
       "      <td>11</td>\n",
       "      <td>13</td>\n",
       "      <td>7</td>\n",
       "      <td>5</td>\n",
       "      <td>6</td>\n",
       "      <td>10</td>\n",
       "      <td>2</td>\n",
       "      <td>9</td>\n",
       "      <td>10</td>\n",
       "      <td>16-18</td>\n",
       "    </tr>\n",
       "    <tr>\n",
       "      <th>35</th>\n",
       "      <td>P</td>\n",
       "      <td>2014000347361</td>\n",
       "      <td>9</td>\n",
       "      <td>3</td>\n",
       "      <td>11604</td>\n",
       "      <td>4</td>\n",
       "      <td>53</td>\n",
       "      <td>1045195</td>\n",
       "      <td>22</td>\n",
       "      <td>21</td>\n",
       "      <td>...</td>\n",
       "      <td>31</td>\n",
       "      <td>16</td>\n",
       "      <td>32</td>\n",
       "      <td>26</td>\n",
       "      <td>23</td>\n",
       "      <td>37</td>\n",
       "      <td>17</td>\n",
       "      <td>29</td>\n",
       "      <td>34</td>\n",
       "      <td>19-21</td>\n",
       "    </tr>\n",
       "  </tbody>\n",
       "</table>\n",
       "<p>5 rows × 287 columns</p>\n",
       "</div>"
      ],
      "text/plain": [
       "   rt       serialno  division  sporder   puma  region  st   adjinc  pwgtp  \\\n",
       "17  P  2014000277033         9        1  11611       4  53  1045195     58   \n",
       "18  P  2014000277033         9        3  11611       4  53  1045195     44   \n",
       "21  P  2014000282612         9        2  11605       4  53  1045195     33   \n",
       "34  P  2014000343714         9        3  11612       4  53  1045195      6   \n",
       "35  P  2014000347361         9        3  11604       4  53  1045195     22   \n",
       "\n",
       "    agep      ...       pwgtp72  pwgtp73  pwgtp74  pwgtp75  pwgtp76  pwgtp77  \\\n",
       "17    23      ...            56      114       22       68       20       56   \n",
       "18    22      ...            50       64       15       56       15       36   \n",
       "21    18      ...            21        8       84       38       32       17   \n",
       "34    17      ...            11       13        7        5        6       10   \n",
       "35    21      ...            31       16       32       26       23       37   \n",
       "\n",
       "    pwgtp78  pwgtp79  pwgtp80  age_category  \n",
       "17      105       57       21         22-24  \n",
       "18       72       51       19         22-24  \n",
       "21       25       11       28         16-18  \n",
       "34        2        9       10         16-18  \n",
       "35       17       29       34         19-21  \n",
       "\n",
       "[5 rows x 287 columns]"
      ]
     },
     "execution_count": 164,
     "metadata": {},
     "output_type": "execute_result"
    }
   ],
   "source": [
    "dfq3_wwd = dfq3[(dfq3[\"schl\"] >= 1) & (dfq3[\"schl\"] <= 15) & (dfq3[\"esr\"].isin([1,2,4,5]))]\n",
    "dfq3_wwd.head()"
   ]
  },
  {
   "cell_type": "code",
   "execution_count": 165,
   "metadata": {
    "ExecuteTime": {
     "end_time": "2020-03-06T09:31:29.533389Z",
     "start_time": "2020-03-06T09:31:29.520732Z"
    },
    "scrolled": true
   },
   "outputs": [
    {
     "data": {
      "text/plain": [
       "age_category\n",
       "16-18    124\n",
       "19-21     61\n",
       "22-24     50\n",
       "Name: serialno, dtype: int64"
      ]
     },
     "execution_count": 165,
     "metadata": {},
     "output_type": "execute_result"
    }
   ],
   "source": [
    "dfq3_wwd.groupby([\"age_category\"])[\"serialno\"].nunique()"
   ]
  },
  {
   "cell_type": "code",
   "execution_count": 166,
   "metadata": {
    "ExecuteTime": {
     "end_time": "2020-03-06T09:31:32.422273Z",
     "start_time": "2020-03-06T09:31:32.415153Z"
    }
   },
   "outputs": [
    {
     "name": "stdout",
     "output_type": "stream",
     "text": [
      "Total:  235\n"
     ]
    }
   ],
   "source": [
    "print('Total: ', dfq3_wwd.groupby([\"age_category\"])[\"serialno\"].nunique().sum() )"
   ]
  },
  {
   "cell_type": "markdown",
   "metadata": {},
   "source": [
    "FINAL TABLE"
   ]
  },
  {
   "cell_type": "code",
   "execution_count": 167,
   "metadata": {
    "ExecuteTime": {
     "end_time": "2020-03-06T09:31:38.690914Z",
     "start_time": "2020-03-06T09:31:38.677439Z"
    }
   },
   "outputs": [
    {
     "data": {
      "text/html": [
       "<div>\n",
       "<style scoped>\n",
       "    .dataframe tbody tr th:only-of-type {\n",
       "        vertical-align: middle;\n",
       "    }\n",
       "\n",
       "    .dataframe tbody tr th {\n",
       "        vertical-align: top;\n",
       "    }\n",
       "\n",
       "    .dataframe thead th {\n",
       "        text-align: right;\n",
       "    }\n",
       "</style>\n",
       "<table border=\"1\" class=\"dataframe\">\n",
       "  <thead>\n",
       "    <tr style=\"text-align: right;\">\n",
       "      <th></th>\n",
       "      <th>16-18</th>\n",
       "      <th>19-21</th>\n",
       "      <th>22-24</th>\n",
       "      <th>Total</th>\n",
       "    </tr>\n",
       "  </thead>\n",
       "  <tbody>\n",
       "    <tr>\n",
       "      <th>Opportunity Youth</th>\n",
       "      <td>557</td>\n",
       "      <td>422</td>\n",
       "      <td>204</td>\n",
       "      <td>1183</td>\n",
       "    </tr>\n",
       "    <tr>\n",
       "      <th>Working Without Diploma</th>\n",
       "      <td>124</td>\n",
       "      <td>61</td>\n",
       "      <td>50</td>\n",
       "      <td>235</td>\n",
       "    </tr>\n",
       "    <tr>\n",
       "      <th>Not an Opportunity Youth</th>\n",
       "      <td>288</td>\n",
       "      <td>615</td>\n",
       "      <td>596</td>\n",
       "      <td>1499</td>\n",
       "    </tr>\n",
       "  </tbody>\n",
       "</table>\n",
       "</div>"
      ],
      "text/plain": [
       "                          16-18  19-21  22-24  Total\n",
       "Opportunity Youth           557    422    204   1183\n",
       "Working Without Diploma     124     61     50    235\n",
       "Not an Opportunity Youth    288    615    596   1499"
      ]
     },
     "execution_count": 167,
     "metadata": {},
     "output_type": "execute_result"
    }
   ],
   "source": [
    "pd.DataFrame({'16-18':[557, 124, 288],'19-21':[422,61, 615],'22-24':[204,50,596], 'Total':[1183,235,1499]}, index=['Opportunity Youth','Working Without Diploma','Not an Opportunity Youth'])"
   ]
  },
  {
   "cell_type": "markdown",
   "metadata": {
    "ExecuteTime": {
     "end_time": "2020-03-06T09:18:51.977386Z",
     "start_time": "2020-03-06T09:18:51.967630Z"
    }
   },
   "source": [
    "3.1)“Opportunity Youth Status by Age” 2 TABLE"
   ]
  },
  {
   "cell_type": "markdown",
   "metadata": {
    "ExecuteTime": {
     "end_time": "2020-03-06T10:51:40.820291Z",
     "start_time": "2020-03-06T10:51:40.811757Z"
    }
   },
   "source": [
    "No diploma"
   ]
  },
  {
   "cell_type": "code",
   "execution_count": 174,
   "metadata": {
    "ExecuteTime": {
     "end_time": "2020-03-06T09:34:29.853809Z",
     "start_time": "2020-03-06T09:34:29.821973Z"
    },
    "scrolled": true
   },
   "outputs": [
    {
     "data": {
      "text/html": [
       "<div>\n",
       "<style scoped>\n",
       "    .dataframe tbody tr th:only-of-type {\n",
       "        vertical-align: middle;\n",
       "    }\n",
       "\n",
       "    .dataframe tbody tr th {\n",
       "        vertical-align: top;\n",
       "    }\n",
       "\n",
       "    .dataframe thead th {\n",
       "        text-align: right;\n",
       "    }\n",
       "</style>\n",
       "<table border=\"1\" class=\"dataframe\">\n",
       "  <thead>\n",
       "    <tr style=\"text-align: right;\">\n",
       "      <th></th>\n",
       "      <th>rt</th>\n",
       "      <th>serialno</th>\n",
       "      <th>division</th>\n",
       "      <th>sporder</th>\n",
       "      <th>puma</th>\n",
       "      <th>region</th>\n",
       "      <th>st</th>\n",
       "      <th>adjinc</th>\n",
       "      <th>pwgtp</th>\n",
       "      <th>agep</th>\n",
       "      <th>...</th>\n",
       "      <th>pwgtp72</th>\n",
       "      <th>pwgtp73</th>\n",
       "      <th>pwgtp74</th>\n",
       "      <th>pwgtp75</th>\n",
       "      <th>pwgtp76</th>\n",
       "      <th>pwgtp77</th>\n",
       "      <th>pwgtp78</th>\n",
       "      <th>pwgtp79</th>\n",
       "      <th>pwgtp80</th>\n",
       "      <th>age_category</th>\n",
       "    </tr>\n",
       "  </thead>\n",
       "  <tbody>\n",
       "    <tr>\n",
       "      <th>1</th>\n",
       "      <td>P</td>\n",
       "      <td>2014000237905</td>\n",
       "      <td>9</td>\n",
       "      <td>3</td>\n",
       "      <td>11611</td>\n",
       "      <td>4</td>\n",
       "      <td>53</td>\n",
       "      <td>1045195</td>\n",
       "      <td>34</td>\n",
       "      <td>19</td>\n",
       "      <td>...</td>\n",
       "      <td>37</td>\n",
       "      <td>55</td>\n",
       "      <td>56</td>\n",
       "      <td>52</td>\n",
       "      <td>55</td>\n",
       "      <td>25</td>\n",
       "      <td>37</td>\n",
       "      <td>25</td>\n",
       "      <td>8</td>\n",
       "      <td>19-21</td>\n",
       "    </tr>\n",
       "    <tr>\n",
       "      <th>13</th>\n",
       "      <td>P</td>\n",
       "      <td>2014000261570</td>\n",
       "      <td>9</td>\n",
       "      <td>3</td>\n",
       "      <td>11613</td>\n",
       "      <td>4</td>\n",
       "      <td>53</td>\n",
       "      <td>1045195</td>\n",
       "      <td>13</td>\n",
       "      <td>20</td>\n",
       "      <td>...</td>\n",
       "      <td>14</td>\n",
       "      <td>15</td>\n",
       "      <td>24</td>\n",
       "      <td>13</td>\n",
       "      <td>4</td>\n",
       "      <td>11</td>\n",
       "      <td>19</td>\n",
       "      <td>22</td>\n",
       "      <td>13</td>\n",
       "      <td>19-21</td>\n",
       "    </tr>\n",
       "    <tr>\n",
       "      <th>16</th>\n",
       "      <td>P</td>\n",
       "      <td>2014000276204</td>\n",
       "      <td>9</td>\n",
       "      <td>4</td>\n",
       "      <td>11610</td>\n",
       "      <td>4</td>\n",
       "      <td>53</td>\n",
       "      <td>1045195</td>\n",
       "      <td>9</td>\n",
       "      <td>17</td>\n",
       "      <td>...</td>\n",
       "      <td>3</td>\n",
       "      <td>9</td>\n",
       "      <td>2</td>\n",
       "      <td>9</td>\n",
       "      <td>8</td>\n",
       "      <td>9</td>\n",
       "      <td>3</td>\n",
       "      <td>2</td>\n",
       "      <td>3</td>\n",
       "      <td>16-18</td>\n",
       "    </tr>\n",
       "    <tr>\n",
       "      <th>17</th>\n",
       "      <td>P</td>\n",
       "      <td>2014000277033</td>\n",
       "      <td>9</td>\n",
       "      <td>1</td>\n",
       "      <td>11611</td>\n",
       "      <td>4</td>\n",
       "      <td>53</td>\n",
       "      <td>1045195</td>\n",
       "      <td>58</td>\n",
       "      <td>23</td>\n",
       "      <td>...</td>\n",
       "      <td>56</td>\n",
       "      <td>114</td>\n",
       "      <td>22</td>\n",
       "      <td>68</td>\n",
       "      <td>20</td>\n",
       "      <td>56</td>\n",
       "      <td>105</td>\n",
       "      <td>57</td>\n",
       "      <td>21</td>\n",
       "      <td>22-24</td>\n",
       "    </tr>\n",
       "    <tr>\n",
       "      <th>18</th>\n",
       "      <td>P</td>\n",
       "      <td>2014000277033</td>\n",
       "      <td>9</td>\n",
       "      <td>3</td>\n",
       "      <td>11611</td>\n",
       "      <td>4</td>\n",
       "      <td>53</td>\n",
       "      <td>1045195</td>\n",
       "      <td>44</td>\n",
       "      <td>22</td>\n",
       "      <td>...</td>\n",
       "      <td>50</td>\n",
       "      <td>64</td>\n",
       "      <td>15</td>\n",
       "      <td>56</td>\n",
       "      <td>15</td>\n",
       "      <td>36</td>\n",
       "      <td>72</td>\n",
       "      <td>51</td>\n",
       "      <td>19</td>\n",
       "      <td>22-24</td>\n",
       "    </tr>\n",
       "  </tbody>\n",
       "</table>\n",
       "<p>5 rows × 287 columns</p>\n",
       "</div>"
      ],
      "text/plain": [
       "   rt       serialno  division  sporder   puma  region  st   adjinc  pwgtp  \\\n",
       "1   P  2014000237905         9        3  11611       4  53  1045195     34   \n",
       "13  P  2014000261570         9        3  11613       4  53  1045195     13   \n",
       "16  P  2014000276204         9        4  11610       4  53  1045195      9   \n",
       "17  P  2014000277033         9        1  11611       4  53  1045195     58   \n",
       "18  P  2014000277033         9        3  11611       4  53  1045195     44   \n",
       "\n",
       "    agep      ...       pwgtp72  pwgtp73  pwgtp74  pwgtp75  pwgtp76  pwgtp77  \\\n",
       "1     19      ...            37       55       56       52       55       25   \n",
       "13    20      ...            14       15       24       13        4       11   \n",
       "16    17      ...             3        9        2        9        8        9   \n",
       "17    23      ...            56      114       22       68       20       56   \n",
       "18    22      ...            50       64       15       56       15       36   \n",
       "\n",
       "    pwgtp78  pwgtp79  pwgtp80  age_category  \n",
       "1        37       25        8         19-21  \n",
       "13       19       22       13         19-21  \n",
       "16        3        2        3         16-18  \n",
       "17      105       57       21         22-24  \n",
       "18       72       51       19         22-24  \n",
       "\n",
       "[5 rows x 287 columns]"
      ]
     },
     "execution_count": 174,
     "metadata": {},
     "output_type": "execute_result"
    }
   ],
   "source": [
    "dfq32 = dfq3[dfq3[\"schl\"] <= 15]\n",
    "dfq32.head()"
   ]
  },
  {
   "cell_type": "code",
   "execution_count": 251,
   "metadata": {
    "ExecuteTime": {
     "end_time": "2020-03-06T10:41:44.218696Z",
     "start_time": "2020-03-06T10:41:44.208215Z"
    }
   },
   "outputs": [
    {
     "data": {
      "text/plain": [
       "age_category\n",
       "16-18    592\n",
       "19-21    146\n",
       "22-24     83\n",
       "Name: serialno, dtype: int64"
      ]
     },
     "execution_count": 251,
     "metadata": {},
     "output_type": "execute_result"
    }
   ],
   "source": [
    "tot_no_diploma = dfq32.groupby([\"age_category\"])[\"serialno\"].nunique()\n",
    "tot_no_diploma"
   ]
  },
  {
   "cell_type": "code",
   "execution_count": 252,
   "metadata": {
    "ExecuteTime": {
     "end_time": "2020-03-06T10:41:44.619849Z",
     "start_time": "2020-03-06T10:41:44.614469Z"
    }
   },
   "outputs": [
    {
     "name": "stdout",
     "output_type": "stream",
     "text": [
      "Total:  821\n"
     ]
    }
   ],
   "source": [
    "print('Total: ', tot_no_diploma.sum() )"
   ]
  },
  {
   "cell_type": "markdown",
   "metadata": {},
   "source": [
    "HS diploma or GED"
   ]
  },
  {
   "cell_type": "code",
   "execution_count": 253,
   "metadata": {
    "ExecuteTime": {
     "end_time": "2020-03-06T10:41:45.389352Z",
     "start_time": "2020-03-06T10:41:45.360147Z"
    }
   },
   "outputs": [
    {
     "data": {
      "text/html": [
       "<div>\n",
       "<style scoped>\n",
       "    .dataframe tbody tr th:only-of-type {\n",
       "        vertical-align: middle;\n",
       "    }\n",
       "\n",
       "    .dataframe tbody tr th {\n",
       "        vertical-align: top;\n",
       "    }\n",
       "\n",
       "    .dataframe thead th {\n",
       "        text-align: right;\n",
       "    }\n",
       "</style>\n",
       "<table border=\"1\" class=\"dataframe\">\n",
       "  <thead>\n",
       "    <tr style=\"text-align: right;\">\n",
       "      <th></th>\n",
       "      <th>rt</th>\n",
       "      <th>serialno</th>\n",
       "      <th>division</th>\n",
       "      <th>sporder</th>\n",
       "      <th>puma</th>\n",
       "      <th>region</th>\n",
       "      <th>st</th>\n",
       "      <th>adjinc</th>\n",
       "      <th>pwgtp</th>\n",
       "      <th>agep</th>\n",
       "      <th>...</th>\n",
       "      <th>pwgtp72</th>\n",
       "      <th>pwgtp73</th>\n",
       "      <th>pwgtp74</th>\n",
       "      <th>pwgtp75</th>\n",
       "      <th>pwgtp76</th>\n",
       "      <th>pwgtp77</th>\n",
       "      <th>pwgtp78</th>\n",
       "      <th>pwgtp79</th>\n",
       "      <th>pwgtp80</th>\n",
       "      <th>age_category</th>\n",
       "    </tr>\n",
       "  </thead>\n",
       "  <tbody>\n",
       "    <tr>\n",
       "      <th>10</th>\n",
       "      <td>P</td>\n",
       "      <td>2014000261441</td>\n",
       "      <td>9</td>\n",
       "      <td>3</td>\n",
       "      <td>11612</td>\n",
       "      <td>4</td>\n",
       "      <td>53</td>\n",
       "      <td>1045195</td>\n",
       "      <td>40</td>\n",
       "      <td>23</td>\n",
       "      <td>...</td>\n",
       "      <td>62</td>\n",
       "      <td>65</td>\n",
       "      <td>43</td>\n",
       "      <td>10</td>\n",
       "      <td>47</td>\n",
       "      <td>32</td>\n",
       "      <td>26</td>\n",
       "      <td>44</td>\n",
       "      <td>37</td>\n",
       "      <td>22-24</td>\n",
       "    </tr>\n",
       "    <tr>\n",
       "      <th>11</th>\n",
       "      <td>P</td>\n",
       "      <td>2014000261441</td>\n",
       "      <td>9</td>\n",
       "      <td>4</td>\n",
       "      <td>11612</td>\n",
       "      <td>4</td>\n",
       "      <td>53</td>\n",
       "      <td>1045195</td>\n",
       "      <td>39</td>\n",
       "      <td>23</td>\n",
       "      <td>...</td>\n",
       "      <td>61</td>\n",
       "      <td>66</td>\n",
       "      <td>43</td>\n",
       "      <td>10</td>\n",
       "      <td>47</td>\n",
       "      <td>33</td>\n",
       "      <td>26</td>\n",
       "      <td>45</td>\n",
       "      <td>38</td>\n",
       "      <td>22-24</td>\n",
       "    </tr>\n",
       "    <tr>\n",
       "      <th>12</th>\n",
       "      <td>P</td>\n",
       "      <td>2014000261441</td>\n",
       "      <td>9</td>\n",
       "      <td>5</td>\n",
       "      <td>11612</td>\n",
       "      <td>4</td>\n",
       "      <td>53</td>\n",
       "      <td>1045195</td>\n",
       "      <td>29</td>\n",
       "      <td>18</td>\n",
       "      <td>...</td>\n",
       "      <td>55</td>\n",
       "      <td>54</td>\n",
       "      <td>29</td>\n",
       "      <td>10</td>\n",
       "      <td>42</td>\n",
       "      <td>31</td>\n",
       "      <td>42</td>\n",
       "      <td>19</td>\n",
       "      <td>46</td>\n",
       "      <td>16-18</td>\n",
       "    </tr>\n",
       "    <tr>\n",
       "      <th>28</th>\n",
       "      <td>P</td>\n",
       "      <td>2014000326184</td>\n",
       "      <td>9</td>\n",
       "      <td>4</td>\n",
       "      <td>11613</td>\n",
       "      <td>4</td>\n",
       "      <td>53</td>\n",
       "      <td>1045195</td>\n",
       "      <td>34</td>\n",
       "      <td>22</td>\n",
       "      <td>...</td>\n",
       "      <td>25</td>\n",
       "      <td>35</td>\n",
       "      <td>10</td>\n",
       "      <td>35</td>\n",
       "      <td>40</td>\n",
       "      <td>41</td>\n",
       "      <td>48</td>\n",
       "      <td>36</td>\n",
       "      <td>62</td>\n",
       "      <td>22-24</td>\n",
       "    </tr>\n",
       "    <tr>\n",
       "      <th>30</th>\n",
       "      <td>P</td>\n",
       "      <td>2014000328496</td>\n",
       "      <td>9</td>\n",
       "      <td>1</td>\n",
       "      <td>11611</td>\n",
       "      <td>4</td>\n",
       "      <td>53</td>\n",
       "      <td>1045195</td>\n",
       "      <td>18</td>\n",
       "      <td>23</td>\n",
       "      <td>...</td>\n",
       "      <td>17</td>\n",
       "      <td>19</td>\n",
       "      <td>4</td>\n",
       "      <td>5</td>\n",
       "      <td>5</td>\n",
       "      <td>7</td>\n",
       "      <td>19</td>\n",
       "      <td>7</td>\n",
       "      <td>23</td>\n",
       "      <td>22-24</td>\n",
       "    </tr>\n",
       "  </tbody>\n",
       "</table>\n",
       "<p>5 rows × 287 columns</p>\n",
       "</div>"
      ],
      "text/plain": [
       "   rt       serialno  division  sporder   puma  region  st   adjinc  pwgtp  \\\n",
       "10  P  2014000261441         9        3  11612       4  53  1045195     40   \n",
       "11  P  2014000261441         9        4  11612       4  53  1045195     39   \n",
       "12  P  2014000261441         9        5  11612       4  53  1045195     29   \n",
       "28  P  2014000326184         9        4  11613       4  53  1045195     34   \n",
       "30  P  2014000328496         9        1  11611       4  53  1045195     18   \n",
       "\n",
       "    agep      ...       pwgtp72  pwgtp73  pwgtp74  pwgtp75  pwgtp76  pwgtp77  \\\n",
       "10    23      ...            62       65       43       10       47       32   \n",
       "11    23      ...            61       66       43       10       47       33   \n",
       "12    18      ...            55       54       29       10       42       31   \n",
       "28    22      ...            25       35       10       35       40       41   \n",
       "30    23      ...            17       19        4        5        5        7   \n",
       "\n",
       "    pwgtp78  pwgtp79  pwgtp80  age_category  \n",
       "10       26       44       37         22-24  \n",
       "11       26       45       38         22-24  \n",
       "12       42       19       46         16-18  \n",
       "28       48       36       62         22-24  \n",
       "30       19        7       23         22-24  \n",
       "\n",
       "[5 rows x 287 columns]"
      ]
     },
     "execution_count": 253,
     "metadata": {},
     "output_type": "execute_result"
    }
   ],
   "source": [
    "dfq33 = dfq3[(dfq3[\"schl\"] == 16) | (dfq3[\"schl\"] == 17)]\n",
    "dfq33.head()"
   ]
  },
  {
   "cell_type": "code",
   "execution_count": 254,
   "metadata": {
    "ExecuteTime": {
     "end_time": "2020-03-06T10:41:46.098584Z",
     "start_time": "2020-03-06T10:41:46.086863Z"
    }
   },
   "outputs": [
    {
     "data": {
      "text/plain": [
       "age_category\n",
       "16-18    148\n",
       "19-21    355\n",
       "22-24    227\n",
       "Name: serialno, dtype: int64"
      ]
     },
     "execution_count": 254,
     "metadata": {},
     "output_type": "execute_result"
    }
   ],
   "source": [
    "tot_hs_ged = dfq33.groupby([\"age_category\"])[\"serialno\"].nunique()\n",
    "tot_hs_ged"
   ]
  },
  {
   "cell_type": "code",
   "execution_count": 255,
   "metadata": {
    "ExecuteTime": {
     "end_time": "2020-03-06T10:41:48.153382Z",
     "start_time": "2020-03-06T10:41:48.143507Z"
    }
   },
   "outputs": [
    {
     "name": "stdout",
     "output_type": "stream",
     "text": [
      "Total:  730\n"
     ]
    }
   ],
   "source": [
    "print('Total: ', tot_hs_ged.sum() )\n"
   ]
  },
  {
   "cell_type": "markdown",
   "metadata": {},
   "source": [
    "Some college, no degree"
   ]
  },
  {
   "cell_type": "code",
   "execution_count": 256,
   "metadata": {
    "ExecuteTime": {
     "end_time": "2020-03-06T10:41:52.098429Z",
     "start_time": "2020-03-06T10:41:52.065841Z"
    },
    "scrolled": true
   },
   "outputs": [
    {
     "data": {
      "text/html": [
       "<div>\n",
       "<style scoped>\n",
       "    .dataframe tbody tr th:only-of-type {\n",
       "        vertical-align: middle;\n",
       "    }\n",
       "\n",
       "    .dataframe tbody tr th {\n",
       "        vertical-align: top;\n",
       "    }\n",
       "\n",
       "    .dataframe thead th {\n",
       "        text-align: right;\n",
       "    }\n",
       "</style>\n",
       "<table border=\"1\" class=\"dataframe\">\n",
       "  <thead>\n",
       "    <tr style=\"text-align: right;\">\n",
       "      <th></th>\n",
       "      <th>rt</th>\n",
       "      <th>serialno</th>\n",
       "      <th>division</th>\n",
       "      <th>sporder</th>\n",
       "      <th>puma</th>\n",
       "      <th>region</th>\n",
       "      <th>st</th>\n",
       "      <th>adjinc</th>\n",
       "      <th>pwgtp</th>\n",
       "      <th>agep</th>\n",
       "      <th>...</th>\n",
       "      <th>pwgtp72</th>\n",
       "      <th>pwgtp73</th>\n",
       "      <th>pwgtp74</th>\n",
       "      <th>pwgtp75</th>\n",
       "      <th>pwgtp76</th>\n",
       "      <th>pwgtp77</th>\n",
       "      <th>pwgtp78</th>\n",
       "      <th>pwgtp79</th>\n",
       "      <th>pwgtp80</th>\n",
       "      <th>age_category</th>\n",
       "    </tr>\n",
       "  </thead>\n",
       "  <tbody>\n",
       "    <tr>\n",
       "      <th>2</th>\n",
       "      <td>P</td>\n",
       "      <td>2014000240322</td>\n",
       "      <td>9</td>\n",
       "      <td>2</td>\n",
       "      <td>11612</td>\n",
       "      <td>4</td>\n",
       "      <td>53</td>\n",
       "      <td>1045195</td>\n",
       "      <td>46</td>\n",
       "      <td>20</td>\n",
       "      <td>...</td>\n",
       "      <td>53</td>\n",
       "      <td>18</td>\n",
       "      <td>40</td>\n",
       "      <td>84</td>\n",
       "      <td>57</td>\n",
       "      <td>13</td>\n",
       "      <td>15</td>\n",
       "      <td>45</td>\n",
       "      <td>55</td>\n",
       "      <td>19-21</td>\n",
       "    </tr>\n",
       "    <tr>\n",
       "      <th>3</th>\n",
       "      <td>P</td>\n",
       "      <td>2014000240322</td>\n",
       "      <td>9</td>\n",
       "      <td>3</td>\n",
       "      <td>11612</td>\n",
       "      <td>4</td>\n",
       "      <td>53</td>\n",
       "      <td>1045195</td>\n",
       "      <td>33</td>\n",
       "      <td>19</td>\n",
       "      <td>...</td>\n",
       "      <td>26</td>\n",
       "      <td>10</td>\n",
       "      <td>36</td>\n",
       "      <td>50</td>\n",
       "      <td>25</td>\n",
       "      <td>14</td>\n",
       "      <td>11</td>\n",
       "      <td>36</td>\n",
       "      <td>47</td>\n",
       "      <td>19-21</td>\n",
       "    </tr>\n",
       "    <tr>\n",
       "      <th>4</th>\n",
       "      <td>P</td>\n",
       "      <td>2014000243521</td>\n",
       "      <td>9</td>\n",
       "      <td>1</td>\n",
       "      <td>11614</td>\n",
       "      <td>4</td>\n",
       "      <td>53</td>\n",
       "      <td>1045195</td>\n",
       "      <td>27</td>\n",
       "      <td>19</td>\n",
       "      <td>...</td>\n",
       "      <td>21</td>\n",
       "      <td>15</td>\n",
       "      <td>37</td>\n",
       "      <td>35</td>\n",
       "      <td>35</td>\n",
       "      <td>33</td>\n",
       "      <td>8</td>\n",
       "      <td>38</td>\n",
       "      <td>50</td>\n",
       "      <td>19-21</td>\n",
       "    </tr>\n",
       "    <tr>\n",
       "      <th>5</th>\n",
       "      <td>P</td>\n",
       "      <td>2014000243521</td>\n",
       "      <td>9</td>\n",
       "      <td>2</td>\n",
       "      <td>11614</td>\n",
       "      <td>4</td>\n",
       "      <td>53</td>\n",
       "      <td>1045195</td>\n",
       "      <td>31</td>\n",
       "      <td>19</td>\n",
       "      <td>...</td>\n",
       "      <td>26</td>\n",
       "      <td>18</td>\n",
       "      <td>39</td>\n",
       "      <td>39</td>\n",
       "      <td>41</td>\n",
       "      <td>40</td>\n",
       "      <td>10</td>\n",
       "      <td>47</td>\n",
       "      <td>57</td>\n",
       "      <td>19-21</td>\n",
       "    </tr>\n",
       "    <tr>\n",
       "      <th>6</th>\n",
       "      <td>P</td>\n",
       "      <td>2014000249451</td>\n",
       "      <td>9</td>\n",
       "      <td>2</td>\n",
       "      <td>11613</td>\n",
       "      <td>4</td>\n",
       "      <td>53</td>\n",
       "      <td>1045195</td>\n",
       "      <td>32</td>\n",
       "      <td>17</td>\n",
       "      <td>...</td>\n",
       "      <td>32</td>\n",
       "      <td>29</td>\n",
       "      <td>47</td>\n",
       "      <td>14</td>\n",
       "      <td>32</td>\n",
       "      <td>15</td>\n",
       "      <td>8</td>\n",
       "      <td>36</td>\n",
       "      <td>29</td>\n",
       "      <td>16-18</td>\n",
       "    </tr>\n",
       "  </tbody>\n",
       "</table>\n",
       "<p>5 rows × 287 columns</p>\n",
       "</div>"
      ],
      "text/plain": [
       "  rt       serialno  division  sporder   puma  region  st   adjinc  pwgtp  \\\n",
       "2  P  2014000240322         9        2  11612       4  53  1045195     46   \n",
       "3  P  2014000240322         9        3  11612       4  53  1045195     33   \n",
       "4  P  2014000243521         9        1  11614       4  53  1045195     27   \n",
       "5  P  2014000243521         9        2  11614       4  53  1045195     31   \n",
       "6  P  2014000249451         9        2  11613       4  53  1045195     32   \n",
       "\n",
       "   agep      ...       pwgtp72  pwgtp73  pwgtp74  pwgtp75  pwgtp76  pwgtp77  \\\n",
       "2    20      ...            53       18       40       84       57       13   \n",
       "3    19      ...            26       10       36       50       25       14   \n",
       "4    19      ...            21       15       37       35       35       33   \n",
       "5    19      ...            26       18       39       39       41       40   \n",
       "6    17      ...            32       29       47       14       32       15   \n",
       "\n",
       "   pwgtp78  pwgtp79  pwgtp80  age_category  \n",
       "2       15       45       55         19-21  \n",
       "3       11       36       47         19-21  \n",
       "4        8       38       50         19-21  \n",
       "5       10       47       57         19-21  \n",
       "6        8       36       29         16-18  \n",
       "\n",
       "[5 rows x 287 columns]"
      ]
     },
     "execution_count": 256,
     "metadata": {},
     "output_type": "execute_result"
    }
   ],
   "source": [
    "dfq34 = dfq3[(dfq3[\"schl\"] == 18) | (dfq3[\"schl\"] == 19)]\n",
    "dfq34.head()"
   ]
  },
  {
   "cell_type": "code",
   "execution_count": 257,
   "metadata": {
    "ExecuteTime": {
     "end_time": "2020-03-06T10:41:54.744860Z",
     "start_time": "2020-03-06T10:41:54.733547Z"
    },
    "scrolled": true
   },
   "outputs": [
    {
     "data": {
      "text/plain": [
       "age_category\n",
       "16-18    114\n",
       "19-21    477\n",
       "22-24    262\n",
       "Name: serialno, dtype: int64"
      ]
     },
     "execution_count": 257,
     "metadata": {},
     "output_type": "execute_result"
    }
   ],
   "source": [
    "some_college = dfq34.groupby([\"age_category\"])[\"serialno\"].nunique()\n",
    "some_college"
   ]
  },
  {
   "cell_type": "code",
   "execution_count": 258,
   "metadata": {
    "ExecuteTime": {
     "end_time": "2020-03-06T10:41:55.619430Z",
     "start_time": "2020-03-06T10:41:55.614425Z"
    }
   },
   "outputs": [
    {
     "name": "stdout",
     "output_type": "stream",
     "text": [
      "Total:  853\n"
     ]
    }
   ],
   "source": [
    "print('Total: ', some_college.sum() )"
   ]
  },
  {
   "cell_type": "markdown",
   "metadata": {},
   "source": [
    "Degree(Associate or higher)"
   ]
  },
  {
   "cell_type": "code",
   "execution_count": 259,
   "metadata": {
    "ExecuteTime": {
     "end_time": "2020-03-06T10:42:00.327953Z",
     "start_time": "2020-03-06T10:42:00.296865Z"
    },
    "scrolled": false
   },
   "outputs": [
    {
     "data": {
      "text/html": [
       "<div>\n",
       "<style scoped>\n",
       "    .dataframe tbody tr th:only-of-type {\n",
       "        vertical-align: middle;\n",
       "    }\n",
       "\n",
       "    .dataframe tbody tr th {\n",
       "        vertical-align: top;\n",
       "    }\n",
       "\n",
       "    .dataframe thead th {\n",
       "        text-align: right;\n",
       "    }\n",
       "</style>\n",
       "<table border=\"1\" class=\"dataframe\">\n",
       "  <thead>\n",
       "    <tr style=\"text-align: right;\">\n",
       "      <th></th>\n",
       "      <th>rt</th>\n",
       "      <th>serialno</th>\n",
       "      <th>division</th>\n",
       "      <th>sporder</th>\n",
       "      <th>puma</th>\n",
       "      <th>region</th>\n",
       "      <th>st</th>\n",
       "      <th>adjinc</th>\n",
       "      <th>pwgtp</th>\n",
       "      <th>agep</th>\n",
       "      <th>...</th>\n",
       "      <th>pwgtp72</th>\n",
       "      <th>pwgtp73</th>\n",
       "      <th>pwgtp74</th>\n",
       "      <th>pwgtp75</th>\n",
       "      <th>pwgtp76</th>\n",
       "      <th>pwgtp77</th>\n",
       "      <th>pwgtp78</th>\n",
       "      <th>pwgtp79</th>\n",
       "      <th>pwgtp80</th>\n",
       "      <th>age_category</th>\n",
       "    </tr>\n",
       "  </thead>\n",
       "  <tbody>\n",
       "    <tr>\n",
       "      <th>0</th>\n",
       "      <td>P</td>\n",
       "      <td>2014000230610</td>\n",
       "      <td>9</td>\n",
       "      <td>3</td>\n",
       "      <td>11610</td>\n",
       "      <td>4</td>\n",
       "      <td>53</td>\n",
       "      <td>1045195</td>\n",
       "      <td>14</td>\n",
       "      <td>23</td>\n",
       "      <td>...</td>\n",
       "      <td>18</td>\n",
       "      <td>14</td>\n",
       "      <td>4</td>\n",
       "      <td>15</td>\n",
       "      <td>26</td>\n",
       "      <td>27</td>\n",
       "      <td>27</td>\n",
       "      <td>17</td>\n",
       "      <td>5</td>\n",
       "      <td>22-24</td>\n",
       "    </tr>\n",
       "    <tr>\n",
       "      <th>7</th>\n",
       "      <td>P</td>\n",
       "      <td>2014000251651</td>\n",
       "      <td>9</td>\n",
       "      <td>1</td>\n",
       "      <td>11612</td>\n",
       "      <td>4</td>\n",
       "      <td>53</td>\n",
       "      <td>1045195</td>\n",
       "      <td>26</td>\n",
       "      <td>22</td>\n",
       "      <td>...</td>\n",
       "      <td>22</td>\n",
       "      <td>45</td>\n",
       "      <td>52</td>\n",
       "      <td>26</td>\n",
       "      <td>22</td>\n",
       "      <td>27</td>\n",
       "      <td>19</td>\n",
       "      <td>38</td>\n",
       "      <td>10</td>\n",
       "      <td>22-24</td>\n",
       "    </tr>\n",
       "    <tr>\n",
       "      <th>14</th>\n",
       "      <td>P</td>\n",
       "      <td>2014000264521</td>\n",
       "      <td>9</td>\n",
       "      <td>3</td>\n",
       "      <td>11612</td>\n",
       "      <td>4</td>\n",
       "      <td>53</td>\n",
       "      <td>1045195</td>\n",
       "      <td>45</td>\n",
       "      <td>21</td>\n",
       "      <td>...</td>\n",
       "      <td>51</td>\n",
       "      <td>24</td>\n",
       "      <td>57</td>\n",
       "      <td>37</td>\n",
       "      <td>16</td>\n",
       "      <td>14</td>\n",
       "      <td>47</td>\n",
       "      <td>48</td>\n",
       "      <td>53</td>\n",
       "      <td>19-21</td>\n",
       "    </tr>\n",
       "    <tr>\n",
       "      <th>19</th>\n",
       "      <td>P</td>\n",
       "      <td>2014000277522</td>\n",
       "      <td>9</td>\n",
       "      <td>3</td>\n",
       "      <td>11614</td>\n",
       "      <td>4</td>\n",
       "      <td>53</td>\n",
       "      <td>1045195</td>\n",
       "      <td>27</td>\n",
       "      <td>18</td>\n",
       "      <td>...</td>\n",
       "      <td>32</td>\n",
       "      <td>9</td>\n",
       "      <td>26</td>\n",
       "      <td>25</td>\n",
       "      <td>9</td>\n",
       "      <td>30</td>\n",
       "      <td>9</td>\n",
       "      <td>48</td>\n",
       "      <td>22</td>\n",
       "      <td>16-18</td>\n",
       "    </tr>\n",
       "    <tr>\n",
       "      <th>24</th>\n",
       "      <td>P</td>\n",
       "      <td>2014000315511</td>\n",
       "      <td>9</td>\n",
       "      <td>1</td>\n",
       "      <td>11604</td>\n",
       "      <td>4</td>\n",
       "      <td>53</td>\n",
       "      <td>1045195</td>\n",
       "      <td>14</td>\n",
       "      <td>23</td>\n",
       "      <td>...</td>\n",
       "      <td>27</td>\n",
       "      <td>12</td>\n",
       "      <td>4</td>\n",
       "      <td>20</td>\n",
       "      <td>4</td>\n",
       "      <td>12</td>\n",
       "      <td>12</td>\n",
       "      <td>16</td>\n",
       "      <td>14</td>\n",
       "      <td>22-24</td>\n",
       "    </tr>\n",
       "  </tbody>\n",
       "</table>\n",
       "<p>5 rows × 287 columns</p>\n",
       "</div>"
      ],
      "text/plain": [
       "   rt       serialno  division  sporder   puma  region  st   adjinc  pwgtp  \\\n",
       "0   P  2014000230610         9        3  11610       4  53  1045195     14   \n",
       "7   P  2014000251651         9        1  11612       4  53  1045195     26   \n",
       "14  P  2014000264521         9        3  11612       4  53  1045195     45   \n",
       "19  P  2014000277522         9        3  11614       4  53  1045195     27   \n",
       "24  P  2014000315511         9        1  11604       4  53  1045195     14   \n",
       "\n",
       "    agep      ...       pwgtp72  pwgtp73  pwgtp74  pwgtp75  pwgtp76  pwgtp77  \\\n",
       "0     23      ...            18       14        4       15       26       27   \n",
       "7     22      ...            22       45       52       26       22       27   \n",
       "14    21      ...            51       24       57       37       16       14   \n",
       "19    18      ...            32        9       26       25        9       30   \n",
       "24    23      ...            27       12        4       20        4       12   \n",
       "\n",
       "    pwgtp78  pwgtp79  pwgtp80  age_category  \n",
       "0        27       17        5         22-24  \n",
       "7        19       38       10         22-24  \n",
       "14       47       48       53         19-21  \n",
       "19        9       48       22         16-18  \n",
       "24       12       16       14         22-24  \n",
       "\n",
       "[5 rows x 287 columns]"
      ]
     },
     "execution_count": 259,
     "metadata": {},
     "output_type": "execute_result"
    }
   ],
   "source": [
    "dfq35 = dfq3[(dfq3[\"schl\"] == 20) | (dfq3[\"schl\"] == 21) | (dfq3[\"schl\"] == 22) | \n",
    "             (dfq3[\"schl\"] == 23) | (dfq3[\"schl\"] == 24)]\n",
    "dfq35.head()"
   ]
  },
  {
   "cell_type": "code",
   "execution_count": 260,
   "metadata": {
    "ExecuteTime": {
     "end_time": "2020-03-06T10:42:02.599627Z",
     "start_time": "2020-03-06T10:42:02.588293Z"
    }
   },
   "outputs": [
    {
     "data": {
      "text/plain": [
       "age_category\n",
       "16-18      9\n",
       "19-21    119\n",
       "22-24    279\n",
       "Name: serialno, dtype: int64"
      ]
     },
     "execution_count": 260,
     "metadata": {},
     "output_type": "execute_result"
    }
   ],
   "source": [
    "degree = dfq35.groupby([\"age_category\"])[\"serialno\"].nunique()\n",
    "degree"
   ]
  },
  {
   "cell_type": "code",
   "execution_count": 261,
   "metadata": {
    "ExecuteTime": {
     "end_time": "2020-03-06T10:42:03.287630Z",
     "start_time": "2020-03-06T10:42:03.283647Z"
    }
   },
   "outputs": [
    {
     "name": "stdout",
     "output_type": "stream",
     "text": [
      "Total:  407\n"
     ]
    }
   ],
   "source": [
    "print('Total: ', degree.sum() )"
   ]
  },
  {
   "cell_type": "markdown",
   "metadata": {},
   "source": [
    "FINAL TABLE"
   ]
  },
  {
   "cell_type": "code",
   "execution_count": 263,
   "metadata": {
    "ExecuteTime": {
     "end_time": "2020-03-06T10:45:10.009071Z",
     "start_time": "2020-03-06T10:45:09.994174Z"
    }
   },
   "outputs": [
    {
     "data": {
      "text/html": [
       "<div>\n",
       "<style scoped>\n",
       "    .dataframe tbody tr th:only-of-type {\n",
       "        vertical-align: middle;\n",
       "    }\n",
       "\n",
       "    .dataframe tbody tr th {\n",
       "        vertical-align: top;\n",
       "    }\n",
       "\n",
       "    .dataframe thead th {\n",
       "        text-align: right;\n",
       "    }\n",
       "</style>\n",
       "<table border=\"1\" class=\"dataframe\">\n",
       "  <thead>\n",
       "    <tr style=\"text-align: right;\">\n",
       "      <th></th>\n",
       "      <th>16-18</th>\n",
       "      <th>19-21</th>\n",
       "      <th>22-24</th>\n",
       "      <th>Total</th>\n",
       "    </tr>\n",
       "  </thead>\n",
       "  <tbody>\n",
       "    <tr>\n",
       "      <th>No Diploma</th>\n",
       "      <td>592</td>\n",
       "      <td>146</td>\n",
       "      <td>83</td>\n",
       "      <td>821</td>\n",
       "    </tr>\n",
       "    <tr>\n",
       "      <th>HS diploma or GED</th>\n",
       "      <td>148</td>\n",
       "      <td>335</td>\n",
       "      <td>227</td>\n",
       "      <td>730</td>\n",
       "    </tr>\n",
       "    <tr>\n",
       "      <th>Some College, no Degree</th>\n",
       "      <td>114</td>\n",
       "      <td>477</td>\n",
       "      <td>262</td>\n",
       "      <td>853</td>\n",
       "    </tr>\n",
       "    <tr>\n",
       "      <th>Degree( Associate or Higher)</th>\n",
       "      <td>9</td>\n",
       "      <td>119</td>\n",
       "      <td>279</td>\n",
       "      <td>407</td>\n",
       "    </tr>\n",
       "  </tbody>\n",
       "</table>\n",
       "</div>"
      ],
      "text/plain": [
       "                              16-18  19-21  22-24  Total\n",
       "No Diploma                      592    146     83    821\n",
       "HS diploma or GED               148    335    227    730\n",
       "Some College, no Degree         114    477    262    853\n",
       "Degree( Associate or Higher)      9    119    279    407"
      ]
     },
     "execution_count": 263,
     "metadata": {},
     "output_type": "execute_result"
    }
   ],
   "source": [
    "pd.DataFrame({'16-18':[592, 148, 114, 9],'19-21':[146,335, 477,119],'22-24':[83,227,262,279], 'Total':[821,730,853,407]}, index=['No Diploma','HS diploma or GED','Some College, no Degree','Degree( Associate or Higher)'])"
   ]
  }
 ],
 "metadata": {
  "kernelspec": {
   "display_name": "Python 3",
   "language": "python",
   "name": "python3"
  },
  "language_info": {
   "codemirror_mode": {
    "name": "ipython",
    "version": 3
   },
   "file_extension": ".py",
   "mimetype": "text/x-python",
   "name": "python",
   "nbconvert_exporter": "python",
   "pygments_lexer": "ipython3",
   "version": "3.6.6"
  }
 },
 "nbformat": 4,
 "nbformat_minor": 2
}
