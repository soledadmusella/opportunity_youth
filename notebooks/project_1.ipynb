{
 "cells": [
  {
   "cell_type": "code",
<<<<<<< HEAD
   "execution_count": 176,
=======
   "execution_count": 1,
>>>>>>> 3143cbd9643b27a7d075dc84398442410e03b578
   "metadata": {
    "ExecuteTime": {
     "end_time": "2020-03-05T11:06:23.458041Z",
     "start_time": "2020-03-05T11:06:23.453731Z"
    }
   },
   "outputs": [],
   "source": [
    "%matplotlib inline"
   ]
  },
  {
   "cell_type": "code",
<<<<<<< HEAD
   "execution_count": 177,
=======
   "execution_count": 2,
>>>>>>> 3143cbd9643b27a7d075dc84398442410e03b578
   "metadata": {
    "ExecuteTime": {
     "end_time": "2020-03-05T11:06:23.614957Z",
     "start_time": "2020-03-05T11:06:23.610556Z"
    }
   },
   "outputs": [],
   "source": [
    "import pandas as pd\n"
   ]
  },
  {
   "cell_type": "code",
<<<<<<< HEAD
   "execution_count": 178,
=======
   "execution_count": 3,
>>>>>>> 3143cbd9643b27a7d075dc84398442410e03b578
   "metadata": {
    "ExecuteTime": {
     "end_time": "2020-03-05T11:06:23.908109Z",
     "start_time": "2020-03-05T11:06:23.781058Z"
    }
   },
   "outputs": [
    {
     "name": "stdout",
     "output_type": "stream",
     "text": [
<<<<<<< HEAD
      "/Users/soledadmusella/Documents/mod_1_project/opportunity_youth/notebooks\r\n"
=======
      "/Users/aqureshi/Desktop/DS_021720/opportunity_youth/notebooks\r\n"
>>>>>>> 3143cbd9643b27a7d075dc84398442410e03b578
     ]
    }
   ],
   "source": [
    "!pwd"
   ]
  },
  {
   "cell_type": "code",
<<<<<<< HEAD
   "execution_count": 179,
=======
   "execution_count": 4,
>>>>>>> 3143cbd9643b27a7d075dc84398442410e03b578
   "metadata": {
    "ExecuteTime": {
     "end_time": "2020-03-05T11:06:24.189936Z",
     "start_time": "2020-03-05T11:06:23.937660Z"
    }
   },
   "outputs": [],
   "source": [
    "df = pd.read_csv(\"kingcounty.csv\")"
   ]
  },
  {
   "cell_type": "code",
<<<<<<< HEAD
   "execution_count": 180,
=======
   "execution_count": 5,
>>>>>>> 3143cbd9643b27a7d075dc84398442410e03b578
   "metadata": {
    "ExecuteTime": {
     "end_time": "2020-03-05T11:06:24.234804Z",
     "start_time": "2020-03-05T11:06:24.209530Z"
    }
   },
   "outputs": [
    {
     "data": {
      "text/plain": [
       "(8915, 43)"
      ]
     },
<<<<<<< HEAD
     "execution_count": 180,
=======
     "execution_count": 5,
>>>>>>> 3143cbd9643b27a7d075dc84398442410e03b578
     "metadata": {},
     "output_type": "execute_result"
    }
   ],
   "source": [
    "df.shape"
   ]
  },
  {
   "cell_type": "code",
<<<<<<< HEAD
   "execution_count": 181,
=======
   "execution_count": 6,
>>>>>>> 3143cbd9643b27a7d075dc84398442410e03b578
   "metadata": {
    "ExecuteTime": {
     "end_time": "2020-03-05T11:06:24.334255Z",
     "start_time": "2020-03-05T11:06:24.290302Z"
    }
   },
   "outputs": [
    {
     "data": {
      "text/html": [
       "<div>\n",
       "<style scoped>\n",
       "    .dataframe tbody tr th:only-of-type {\n",
       "        vertical-align: middle;\n",
       "    }\n",
       "\n",
       "    .dataframe tbody tr th {\n",
       "        vertical-align: top;\n",
       "    }\n",
       "\n",
       "    .dataframe thead th {\n",
       "        text-align: right;\n",
       "    }\n",
       "</style>\n",
       "<table border=\"1\" class=\"dataframe\">\n",
       "  <thead>\n",
       "    <tr style=\"text-align: right;\">\n",
       "      <th></th>\n",
       "      <th>tabblk2010</th>\n",
       "      <th>st</th>\n",
       "      <th>stusps</th>\n",
       "      <th>stname</th>\n",
       "      <th>cty</th>\n",
       "      <th>ctyname</th>\n",
       "      <th>trct</th>\n",
       "      <th>trctname</th>\n",
       "      <th>bgrp</th>\n",
       "      <th>bgrpname</th>\n",
       "      <th>...</th>\n",
       "      <th>stanrcname</th>\n",
       "      <th>necta</th>\n",
       "      <th>nectname</th>\n",
       "      <th>mil</th>\n",
       "      <th>milname</th>\n",
       "      <th>stwib</th>\n",
       "      <th>stwibname</th>\n",
       "      <th>blklatdd</th>\n",
       "      <th>blklondd</th>\n",
       "      <th>createdate</th>\n",
       "    </tr>\n",
       "  </thead>\n",
       "  <tbody>\n",
       "    <tr>\n",
       "      <th>0</th>\n",
       "      <td>530330311004021</td>\n",
       "      <td>53</td>\n",
       "      <td>WA</td>\n",
       "      <td>Washington                                    ...</td>\n",
       "      <td>53033</td>\n",
       "      <td>King County, WA                               ...</td>\n",
       "      <td>53033031100</td>\n",
       "      <td>311 (King, WA)                                ...</td>\n",
       "      <td>530330311004</td>\n",
       "      <td>4 (Tract 311, King, WA)                       ...</td>\n",
       "      <td>...</td>\n",
       "      <td>NaN</td>\n",
       "      <td>99999</td>\n",
       "      <td>NaN</td>\n",
       "      <td>NaN</td>\n",
       "      <td>NaN</td>\n",
       "      <td>53000005</td>\n",
       "      <td>05 Seattle/King County WIB                    ...</td>\n",
       "      <td>47.293068</td>\n",
       "      <td>-122.209781</td>\n",
       "      <td>2019-08-26</td>\n",
       "    </tr>\n",
       "    <tr>\n",
       "      <th>1</th>\n",
       "      <td>530330311004020</td>\n",
       "      <td>53</td>\n",
       "      <td>WA</td>\n",
       "      <td>Washington                                    ...</td>\n",
       "      <td>53033</td>\n",
       "      <td>King County, WA                               ...</td>\n",
       "      <td>53033031100</td>\n",
       "      <td>311 (King, WA)                                ...</td>\n",
       "      <td>530330311004</td>\n",
       "      <td>4 (Tract 311, King, WA)                       ...</td>\n",
       "      <td>...</td>\n",
       "      <td>NaN</td>\n",
       "      <td>99999</td>\n",
       "      <td>NaN</td>\n",
       "      <td>NaN</td>\n",
       "      <td>NaN</td>\n",
       "      <td>53000005</td>\n",
       "      <td>05 Seattle/King County WIB                    ...</td>\n",
       "      <td>47.292507</td>\n",
       "      <td>-122.210964</td>\n",
       "      <td>2019-08-26</td>\n",
       "    </tr>\n",
       "    <tr>\n",
       "      <th>2</th>\n",
       "      <td>530330306002025</td>\n",
       "      <td>53</td>\n",
       "      <td>WA</td>\n",
       "      <td>Washington                                    ...</td>\n",
       "      <td>53033</td>\n",
       "      <td>King County, WA                               ...</td>\n",
       "      <td>53033030600</td>\n",
       "      <td>306 (King, WA)                                ...</td>\n",
       "      <td>530330306002</td>\n",
       "      <td>2 (Tract 306, King, WA)                       ...</td>\n",
       "      <td>...</td>\n",
       "      <td>NaN</td>\n",
       "      <td>99999</td>\n",
       "      <td>NaN</td>\n",
       "      <td>NaN</td>\n",
       "      <td>NaN</td>\n",
       "      <td>53000005</td>\n",
       "      <td>05 Seattle/King County WIB                    ...</td>\n",
       "      <td>47.301755</td>\n",
       "      <td>-122.196667</td>\n",
       "      <td>2019-08-26</td>\n",
       "    </tr>\n",
       "    <tr>\n",
       "      <th>3</th>\n",
       "      <td>530330305012016</td>\n",
       "      <td>53</td>\n",
       "      <td>WA</td>\n",
       "      <td>Washington                                    ...</td>\n",
       "      <td>53033</td>\n",
       "      <td>King County, WA                               ...</td>\n",
       "      <td>53033030501</td>\n",
       "      <td>305.01 (King, WA)                             ...</td>\n",
       "      <td>530330305012</td>\n",
       "      <td>2 (Tract 305.01, King, WA)                    ...</td>\n",
       "      <td>...</td>\n",
       "      <td>NaN</td>\n",
       "      <td>99999</td>\n",
       "      <td>NaN</td>\n",
       "      <td>NaN</td>\n",
       "      <td>NaN</td>\n",
       "      <td>53000005</td>\n",
       "      <td>05 Seattle/King County WIB                    ...</td>\n",
       "      <td>47.311107</td>\n",
       "      <td>-122.227230</td>\n",
       "      <td>2019-08-26</td>\n",
       "    </tr>\n",
       "    <tr>\n",
       "      <th>4</th>\n",
       "      <td>530330305012019</td>\n",
       "      <td>53</td>\n",
       "      <td>WA</td>\n",
       "      <td>Washington                                    ...</td>\n",
       "      <td>53033</td>\n",
       "      <td>King County, WA                               ...</td>\n",
       "      <td>53033030501</td>\n",
       "      <td>305.01 (King, WA)                             ...</td>\n",
       "      <td>530330305012</td>\n",
       "      <td>2 (Tract 305.01, King, WA)                    ...</td>\n",
       "      <td>...</td>\n",
       "      <td>NaN</td>\n",
       "      <td>99999</td>\n",
       "      <td>NaN</td>\n",
       "      <td>NaN</td>\n",
       "      <td>NaN</td>\n",
       "      <td>53000005</td>\n",
       "      <td>05 Seattle/King County WIB                    ...</td>\n",
       "      <td>47.310999</td>\n",
       "      <td>-122.229889</td>\n",
       "      <td>2019-08-26</td>\n",
       "    </tr>\n",
       "  </tbody>\n",
       "</table>\n",
       "<p>5 rows × 43 columns</p>\n",
       "</div>"
      ],
      "text/plain": [
       "        tabblk2010  st stusps  \\\n",
       "0  530330311004021  53     WA   \n",
       "1  530330311004020  53     WA   \n",
       "2  530330306002025  53     WA   \n",
       "3  530330305012016  53     WA   \n",
       "4  530330305012019  53     WA   \n",
       "\n",
       "                                              stname    cty  \\\n",
       "0  Washington                                    ...  53033   \n",
       "1  Washington                                    ...  53033   \n",
       "2  Washington                                    ...  53033   \n",
       "3  Washington                                    ...  53033   \n",
       "4  Washington                                    ...  53033   \n",
       "\n",
       "                                             ctyname         trct  \\\n",
       "0  King County, WA                               ...  53033031100   \n",
       "1  King County, WA                               ...  53033031100   \n",
       "2  King County, WA                               ...  53033030600   \n",
       "3  King County, WA                               ...  53033030501   \n",
       "4  King County, WA                               ...  53033030501   \n",
       "\n",
       "                                            trctname          bgrp  \\\n",
       "0  311 (King, WA)                                ...  530330311004   \n",
       "1  311 (King, WA)                                ...  530330311004   \n",
       "2  306 (King, WA)                                ...  530330306002   \n",
       "3  305.01 (King, WA)                             ...  530330305012   \n",
       "4  305.01 (King, WA)                             ...  530330305012   \n",
       "\n",
       "                                            bgrpname     ...      stanrcname  \\\n",
       "0  4 (Tract 311, King, WA)                       ...     ...             NaN   \n",
       "1  4 (Tract 311, King, WA)                       ...     ...             NaN   \n",
       "2  2 (Tract 306, King, WA)                       ...     ...             NaN   \n",
       "3  2 (Tract 305.01, King, WA)                    ...     ...             NaN   \n",
       "4  2 (Tract 305.01, King, WA)                    ...     ...             NaN   \n",
       "\n",
       "   necta  nectname  mil  milname     stwib  \\\n",
       "0  99999       NaN  NaN      NaN  53000005   \n",
       "1  99999       NaN  NaN      NaN  53000005   \n",
       "2  99999       NaN  NaN      NaN  53000005   \n",
       "3  99999       NaN  NaN      NaN  53000005   \n",
       "4  99999       NaN  NaN      NaN  53000005   \n",
       "\n",
       "                                           stwibname   blklatdd    blklondd  \\\n",
       "0  05 Seattle/King County WIB                    ...  47.293068 -122.209781   \n",
       "1  05 Seattle/King County WIB                    ...  47.292507 -122.210964   \n",
       "2  05 Seattle/King County WIB                    ...  47.301755 -122.196667   \n",
       "3  05 Seattle/King County WIB                    ...  47.311107 -122.227230   \n",
       "4  05 Seattle/King County WIB                    ...  47.310999 -122.229889   \n",
       "\n",
       "   createdate  \n",
       "0  2019-08-26  \n",
       "1  2019-08-26  \n",
       "2  2019-08-26  \n",
       "3  2019-08-26  \n",
       "4  2019-08-26  \n",
       "\n",
       "[5 rows x 43 columns]"
      ]
     },
<<<<<<< HEAD
     "execution_count": 181,
=======
     "execution_count": 6,
>>>>>>> 3143cbd9643b27a7d075dc84398442410e03b578
     "metadata": {},
     "output_type": "execute_result"
    }
   ],
   "source": [
    "df.head()"
   ]
  },
  {
   "cell_type": "code",
<<<<<<< HEAD
   "execution_count": 182,
   "metadata": {
    "ExecuteTime": {
     "end_time": "2020-03-05T11:06:24.647401Z",
     "start_time": "2020-03-05T11:06:24.470775Z"
=======
   "execution_count": 7,
   "metadata": {
    "ExecuteTime": {
     "end_time": "2020-03-03T18:01:13.074873Z",
     "start_time": "2020-03-03T18:01:03.420748Z"
    },
    "scrolled": true
   },
   "outputs": [
    {
     "name": "stdout",
     "output_type": "stream",
     "text": [
      "Requirement already satisfied: geopandas in /usr/local/anaconda3/lib/python3.7/site-packages (0.6.1)\n",
      "Requirement already satisfied: shapely in /usr/local/anaconda3/lib/python3.7/site-packages (from geopandas) (1.6.4.post1)\n",
      "Requirement already satisfied: pyproj in /usr/local/anaconda3/lib/python3.7/site-packages (from geopandas) (1.9.6)\n",
      "Requirement already satisfied: fiona in /usr/local/anaconda3/lib/python3.7/site-packages (from geopandas) (1.8.4)\n",
      "Requirement already satisfied: pandas>=0.23.0 in /usr/local/anaconda3/lib/python3.7/site-packages (from geopandas) (0.25.1)\n",
      "Requirement already satisfied: attrs>=17 in /usr/local/anaconda3/lib/python3.7/site-packages (from fiona->geopandas) (19.2.0)\n",
      "Requirement already satisfied: click<8,>=4.0 in /usr/local/anaconda3/lib/python3.7/site-packages (from fiona->geopandas) (7.0)\n",
      "Requirement already satisfied: cligj>=0.5 in /usr/local/anaconda3/lib/python3.7/site-packages (from fiona->geopandas) (0.5.0)\n",
      "Requirement already satisfied: click-plugins>=1.0 in /usr/local/anaconda3/lib/python3.7/site-packages (from fiona->geopandas) (1.1.1)\n",
      "Requirement already satisfied: six>=1.7 in /usr/local/anaconda3/lib/python3.7/site-packages (from fiona->geopandas) (1.12.0)\n",
      "Requirement already satisfied: munch in /usr/local/anaconda3/lib/python3.7/site-packages (from fiona->geopandas) (2.5.0)\n",
      "Requirement already satisfied: pytz>=2017.2 in /usr/local/anaconda3/lib/python3.7/site-packages (from pandas>=0.23.0->geopandas) (2019.3)\n",
      "Requirement already satisfied: python-dateutil>=2.6.1 in /usr/local/anaconda3/lib/python3.7/site-packages (from pandas>=0.23.0->geopandas) (2.8.0)\n",
      "Requirement already satisfied: numpy>=1.13.3 in /usr/local/anaconda3/lib/python3.7/site-packages (from pandas>=0.23.0->geopandas) (1.17.2)\n"
     ]
>>>>>>> 3143cbd9643b27a7d075dc84398442410e03b578
    }
   },
   "outputs": [],
   "source": [
    "df2= pd.read_csv(\"QueryResults.csv\")"
   ]
  },
  {
   "cell_type": "code",
<<<<<<< HEAD
   "execution_count": 183,
=======
   "execution_count": 8,
>>>>>>> 3143cbd9643b27a7d075dc84398442410e03b578
   "metadata": {
    "ExecuteTime": {
     "end_time": "2020-03-05T11:06:24.661842Z",
     "start_time": "2020-03-05T11:06:24.650328Z"
    }
   },
<<<<<<< HEAD
   "outputs": [
    {
     "data": {
      "text/plain": [
       "(34145, 7)"
      ]
     },
     "execution_count": 183,
     "metadata": {},
     "output_type": "execute_result"
    }
   ],
   "source": [
    "df2.shape"
=======
   "outputs": [],
   "source": [
    "import geopandas"
   ]
  },
  {
   "cell_type": "code",
   "execution_count": 9,
   "metadata": {
    "ExecuteTime": {
     "end_time": "2020-03-03T18:11:56.289695Z",
     "start_time": "2020-03-03T18:11:56.197928Z"
    }
   },
   "outputs": [
    {
     "ename": "NameError",
     "evalue": "name 'geoplot' is not defined",
     "output_type": "error",
     "traceback": [
      "\u001b[0;31m---------------------------------------------------------------------------\u001b[0m",
      "\u001b[0;31mNameError\u001b[0m                                 Traceback (most recent call last)",
      "\u001b[0;32m<ipython-input-9-a9ebb7a71f13>\u001b[0m in \u001b[0;36m<module>\u001b[0;34m\u001b[0m\n\u001b[1;32m      3\u001b[0m )\n\u001b[1;32m      4\u001b[0m boroughs = geopandas.read_file(\n\u001b[0;32m----> 5\u001b[0;31m     \u001b[0mgeoplot\u001b[0m\u001b[0;34m.\u001b[0m\u001b[0mdatasets\u001b[0m\u001b[0;34m.\u001b[0m\u001b[0mget_path\u001b[0m\u001b[0;34m(\u001b[0m\u001b[0;34m'nyc_boroughs'\u001b[0m\u001b[0;34m)\u001b[0m\u001b[0;34m\u001b[0m\u001b[0;34m\u001b[0m\u001b[0m\n\u001b[0m\u001b[1;32m      6\u001b[0m )\n\u001b[1;32m      7\u001b[0m collisions = geopandas.read_file(\n",
      "\u001b[0;31mNameError\u001b[0m: name 'geoplot' is not defined"
     ]
    }
   ],
   "source": [
    "world = geopandas.read_file(\n",
    "    geopandas.datasets.get_path('naturalearth_lowres')\n",
    ")\n",
    "boroughs = geopandas.read_file(\n",
    "    geoplot.datasets.get_path('nyc_boroughs')\n",
    ")\n",
    "collisions = geopandas.read_file(\n",
    "    geoplot.datasets.get_path('nyc_injurious_collisions')\n",
    ")"
   ]
  },
  {
   "cell_type": "code",
   "execution_count": null,
   "metadata": {
    "ExecuteTime": {
     "end_time": "2020-03-03T18:11:56.397554Z",
     "start_time": "2020-03-03T18:11:56.393598Z"
    }
   },
   "outputs": [],
   "source": [
    "import folium "
>>>>>>> 3143cbd9643b27a7d075dc84398442410e03b578
   ]
  },
  {
   "cell_type": "code",
   "execution_count": 184,
   "metadata": {
    "ExecuteTime": {
     "end_time": "2020-03-05T11:06:24.885515Z",
     "start_time": "2020-03-05T11:06:24.863107Z"
    }
   },
   "outputs": [
    {
     "data": {
      "text/html": [
       "<div>\n",
       "<style scoped>\n",
       "    .dataframe tbody tr th:only-of-type {\n",
       "        vertical-align: middle;\n",
       "    }\n",
       "\n",
       "    .dataframe tbody tr th {\n",
       "        vertical-align: top;\n",
       "    }\n",
       "\n",
       "    .dataframe thead th {\n",
       "        text-align: right;\n",
       "    }\n",
       "</style>\n",
       "<table border=\"1\" class=\"dataframe\">\n",
       "  <thead>\n",
       "    <tr style=\"text-align: right;\">\n",
       "      <th></th>\n",
       "      <th>esr</th>\n",
       "      <th>agep</th>\n",
       "      <th>sch</th>\n",
       "      <th>schg</th>\n",
       "      <th>schl</th>\n",
       "      <th>puma_name</th>\n",
       "      <th>state_name</th>\n",
       "    </tr>\n",
       "  </thead>\n",
       "  <tbody>\n",
       "    <tr>\n",
       "      <th>0</th>\n",
       "      <td>6.0</td>\n",
       "      <td>43</td>\n",
       "      <td>1.0</td>\n",
       "      <td>NaN</td>\n",
       "      <td>19.0</td>\n",
       "      <td>King County (West Central)--Burien, SeaTac, Tu...</td>\n",
       "      <td>Washington                                    ...</td>\n",
       "    </tr>\n",
       "    <tr>\n",
       "      <th>1</th>\n",
       "      <td>6.0</td>\n",
       "      <td>65</td>\n",
       "      <td>1.0</td>\n",
       "      <td>NaN</td>\n",
       "      <td>16.0</td>\n",
       "      <td>King County (West Central)--Burien, SeaTac, Tu...</td>\n",
       "      <td>Washington                                    ...</td>\n",
       "    </tr>\n",
       "    <tr>\n",
       "      <th>2</th>\n",
       "      <td>6.0</td>\n",
       "      <td>73</td>\n",
       "      <td>1.0</td>\n",
       "      <td>NaN</td>\n",
       "      <td>20.0</td>\n",
       "      <td>King County (Central)--Renton City, Fairwood, ...</td>\n",
       "      <td>Washington                                    ...</td>\n",
       "    </tr>\n",
       "    <tr>\n",
       "      <th>3</th>\n",
       "      <td>6.0</td>\n",
       "      <td>71</td>\n",
       "      <td>1.0</td>\n",
       "      <td>NaN</td>\n",
       "      <td>20.0</td>\n",
       "      <td>King County (Central)--Renton City, Fairwood, ...</td>\n",
       "      <td>Washington                                    ...</td>\n",
       "    </tr>\n",
       "    <tr>\n",
       "      <th>4</th>\n",
       "      <td>1.0</td>\n",
       "      <td>30</td>\n",
       "      <td>1.0</td>\n",
       "      <td>NaN</td>\n",
       "      <td>22.0</td>\n",
       "      <td>King County (West Central)--Burien, SeaTac, Tu...</td>\n",
       "      <td>Washington                                    ...</td>\n",
       "    </tr>\n",
       "    <tr>\n",
       "      <th>5</th>\n",
       "      <td>1.0</td>\n",
       "      <td>24</td>\n",
       "      <td>1.0</td>\n",
       "      <td>NaN</td>\n",
       "      <td>21.0</td>\n",
       "      <td>King County (Central)--Renton City, Fairwood, ...</td>\n",
       "      <td>Washington                                    ...</td>\n",
       "    </tr>\n",
       "    <tr>\n",
       "      <th>6</th>\n",
       "      <td>1.0</td>\n",
       "      <td>24</td>\n",
       "      <td>1.0</td>\n",
       "      <td>NaN</td>\n",
       "      <td>21.0</td>\n",
       "      <td>King County (Central)--Renton City, Fairwood, ...</td>\n",
       "      <td>Washington                                    ...</td>\n",
       "    </tr>\n",
       "    <tr>\n",
       "      <th>7</th>\n",
       "      <td>1.0</td>\n",
       "      <td>47</td>\n",
       "      <td>1.0</td>\n",
       "      <td>NaN</td>\n",
       "      <td>16.0</td>\n",
       "      <td>King County (West Central)--Burien, SeaTac, Tu...</td>\n",
       "      <td>Washington                                    ...</td>\n",
       "    </tr>\n",
       "    <tr>\n",
       "      <th>8</th>\n",
       "      <td>1.0</td>\n",
       "      <td>43</td>\n",
       "      <td>1.0</td>\n",
       "      <td>NaN</td>\n",
       "      <td>16.0</td>\n",
       "      <td>King County (Southeast)--Maple Valley, Covingt...</td>\n",
       "      <td>Washington                                    ...</td>\n",
       "    </tr>\n",
       "    <tr>\n",
       "      <th>9</th>\n",
       "      <td>1.0</td>\n",
       "      <td>40</td>\n",
       "      <td>1.0</td>\n",
       "      <td>NaN</td>\n",
       "      <td>18.0</td>\n",
       "      <td>King County (Southeast)--Maple Valley, Covingt...</td>\n",
       "      <td>Washington                                    ...</td>\n",
       "    </tr>\n",
       "  </tbody>\n",
       "</table>\n",
       "</div>"
      ],
      "text/plain": [
       "   esr  agep  sch  schg  schl  \\\n",
       "0  6.0    43  1.0   NaN  19.0   \n",
       "1  6.0    65  1.0   NaN  16.0   \n",
       "2  6.0    73  1.0   NaN  20.0   \n",
       "3  6.0    71  1.0   NaN  20.0   \n",
       "4  1.0    30  1.0   NaN  22.0   \n",
       "5  1.0    24  1.0   NaN  21.0   \n",
       "6  1.0    24  1.0   NaN  21.0   \n",
       "7  1.0    47  1.0   NaN  16.0   \n",
       "8  1.0    43  1.0   NaN  16.0   \n",
       "9  1.0    40  1.0   NaN  18.0   \n",
       "\n",
       "                                           puma_name  \\\n",
       "0  King County (West Central)--Burien, SeaTac, Tu...   \n",
       "1  King County (West Central)--Burien, SeaTac, Tu...   \n",
       "2  King County (Central)--Renton City, Fairwood, ...   \n",
       "3  King County (Central)--Renton City, Fairwood, ...   \n",
       "4  King County (West Central)--Burien, SeaTac, Tu...   \n",
       "5  King County (Central)--Renton City, Fairwood, ...   \n",
       "6  King County (Central)--Renton City, Fairwood, ...   \n",
       "7  King County (West Central)--Burien, SeaTac, Tu...   \n",
       "8  King County (Southeast)--Maple Valley, Covingt...   \n",
       "9  King County (Southeast)--Maple Valley, Covingt...   \n",
       "\n",
       "                                          state_name  \n",
       "0  Washington                                    ...  \n",
       "1  Washington                                    ...  \n",
       "2  Washington                                    ...  \n",
       "3  Washington                                    ...  \n",
       "4  Washington                                    ...  \n",
       "5  Washington                                    ...  \n",
       "6  Washington                                    ...  \n",
       "7  Washington                                    ...  \n",
       "8  Washington                                    ...  \n",
       "9  Washington                                    ...  "
      ]
     },
     "execution_count": 184,
     "metadata": {},
     "output_type": "execute_result"
    }
   ],
   "source": [
    "df2.head(10)"
   ]
  },
  {
   "cell_type": "code",
   "execution_count": 185,
   "metadata": {
    "ExecuteTime": {
     "end_time": "2020-03-05T11:06:25.094978Z",
     "start_time": "2020-03-05T11:06:25.078790Z"
    }
   },
   "outputs": [],
   "source": [
    "df_age = df2[(df2[\"agep\"]>=16)&(df2[\"agep\"]<=24)]\n"
   ]
  },
  {
   "cell_type": "code",
<<<<<<< HEAD
   "execution_count": 186,
=======
   "execution_count": null,
>>>>>>> 3143cbd9643b27a7d075dc84398442410e03b578
   "metadata": {
    "ExecuteTime": {
     "end_time": "2020-03-05T11:06:25.312734Z",
     "start_time": "2020-03-05T11:06:25.293371Z"
    }
   },
<<<<<<< HEAD
   "outputs": [
    {
     "data": {
      "text/html": [
       "<div>\n",
       "<style scoped>\n",
       "    .dataframe tbody tr th:only-of-type {\n",
       "        vertical-align: middle;\n",
       "    }\n",
       "\n",
       "    .dataframe tbody tr th {\n",
       "        vertical-align: top;\n",
       "    }\n",
       "\n",
       "    .dataframe thead th {\n",
       "        text-align: right;\n",
       "    }\n",
       "</style>\n",
       "<table border=\"1\" class=\"dataframe\">\n",
       "  <thead>\n",
       "    <tr style=\"text-align: right;\">\n",
       "      <th></th>\n",
       "      <th>esr</th>\n",
       "      <th>agep</th>\n",
       "      <th>sch</th>\n",
       "      <th>schg</th>\n",
       "      <th>schl</th>\n",
       "      <th>puma_name</th>\n",
       "      <th>state_name</th>\n",
       "    </tr>\n",
       "  </thead>\n",
       "  <tbody>\n",
       "    <tr>\n",
       "      <th>5</th>\n",
       "      <td>1.0</td>\n",
       "      <td>24</td>\n",
       "      <td>1.0</td>\n",
       "      <td>NaN</td>\n",
       "      <td>21.0</td>\n",
       "      <td>King County (Central)--Renton City, Fairwood, ...</td>\n",
       "      <td>Washington                                    ...</td>\n",
       "    </tr>\n",
       "    <tr>\n",
       "      <th>6</th>\n",
       "      <td>1.0</td>\n",
       "      <td>24</td>\n",
       "      <td>1.0</td>\n",
       "      <td>NaN</td>\n",
       "      <td>21.0</td>\n",
       "      <td>King County (Central)--Renton City, Fairwood, ...</td>\n",
       "      <td>Washington                                    ...</td>\n",
       "    </tr>\n",
       "    <tr>\n",
       "      <th>18</th>\n",
       "      <td>6.0</td>\n",
       "      <td>19</td>\n",
       "      <td>2.0</td>\n",
       "      <td>15.0</td>\n",
       "      <td>18.0</td>\n",
       "      <td>King County (Far Southwest)--Federal Way, Des ...</td>\n",
       "      <td>Washington                                    ...</td>\n",
       "    </tr>\n",
       "    <tr>\n",
       "      <th>20</th>\n",
       "      <td>6.0</td>\n",
       "      <td>17</td>\n",
       "      <td>2.0</td>\n",
       "      <td>13.0</td>\n",
       "      <td>13.0</td>\n",
       "      <td>King County (Southwest Central)--Kent City    ...</td>\n",
       "      <td>Washington                                    ...</td>\n",
       "    </tr>\n",
       "    <tr>\n",
       "      <th>24</th>\n",
       "      <td>6.0</td>\n",
       "      <td>18</td>\n",
       "      <td>2.0</td>\n",
       "      <td>15.0</td>\n",
       "      <td>18.0</td>\n",
       "      <td>King County (Central)--Renton City, Fairwood, ...</td>\n",
       "      <td>Washington                                    ...</td>\n",
       "    </tr>\n",
       "  </tbody>\n",
       "</table>\n",
       "</div>"
      ],
      "text/plain": [
       "    esr  agep  sch  schg  schl  \\\n",
       "5   1.0    24  1.0   NaN  21.0   \n",
       "6   1.0    24  1.0   NaN  21.0   \n",
       "18  6.0    19  2.0  15.0  18.0   \n",
       "20  6.0    17  2.0  13.0  13.0   \n",
       "24  6.0    18  2.0  15.0  18.0   \n",
       "\n",
       "                                            puma_name  \\\n",
       "5   King County (Central)--Renton City, Fairwood, ...   \n",
       "6   King County (Central)--Renton City, Fairwood, ...   \n",
       "18  King County (Far Southwest)--Federal Way, Des ...   \n",
       "20  King County (Southwest Central)--Kent City    ...   \n",
       "24  King County (Central)--Renton City, Fairwood, ...   \n",
       "\n",
       "                                           state_name  \n",
       "5   Washington                                    ...  \n",
       "6   Washington                                    ...  \n",
       "18  Washington                                    ...  \n",
       "20  Washington                                    ...  \n",
       "24  Washington                                    ...  "
      ]
     },
     "execution_count": 186,
     "metadata": {},
     "output_type": "execute_result"
    }
   ],
=======
   "outputs": [],
>>>>>>> 3143cbd9643b27a7d075dc84398442410e03b578
   "source": [
    "df_age.head()"
   ]
  },
  {
   "cell_type": "code",
<<<<<<< HEAD
   "execution_count": 187,
=======
   "execution_count": null,
>>>>>>> 3143cbd9643b27a7d075dc84398442410e03b578
   "metadata": {
    "ExecuteTime": {
     "end_time": "2020-03-05T11:06:25.507619Z",
     "start_time": "2020-03-05T11:06:25.497546Z"
    }
   },
   "outputs": [],
   "source": [
    "df_age_unique = df_age[(df_age[\"esr\"]==3) | (df_age[\"esr\"]==6)]"
   ]
  },
  {
   "cell_type": "code",
<<<<<<< HEAD
   "execution_count": 188,
=======
   "execution_count": null,
>>>>>>> 3143cbd9643b27a7d075dc84398442410e03b578
   "metadata": {
    "ExecuteTime": {
     "end_time": "2020-03-05T11:06:25.717938Z",
     "start_time": "2020-03-05T11:06:25.700198Z"
    }
   },
<<<<<<< HEAD
   "outputs": [
    {
     "data": {
      "text/html": [
       "<div>\n",
       "<style scoped>\n",
       "    .dataframe tbody tr th:only-of-type {\n",
       "        vertical-align: middle;\n",
       "    }\n",
       "\n",
       "    .dataframe tbody tr th {\n",
       "        vertical-align: top;\n",
       "    }\n",
       "\n",
       "    .dataframe thead th {\n",
       "        text-align: right;\n",
       "    }\n",
       "</style>\n",
       "<table border=\"1\" class=\"dataframe\">\n",
       "  <thead>\n",
       "    <tr style=\"text-align: right;\">\n",
       "      <th></th>\n",
       "      <th>esr</th>\n",
       "      <th>agep</th>\n",
       "      <th>sch</th>\n",
       "      <th>schg</th>\n",
       "      <th>schl</th>\n",
       "      <th>puma_name</th>\n",
       "      <th>state_name</th>\n",
       "    </tr>\n",
       "  </thead>\n",
       "  <tbody>\n",
       "    <tr>\n",
       "      <th>18</th>\n",
       "      <td>6.0</td>\n",
       "      <td>19</td>\n",
       "      <td>2.0</td>\n",
       "      <td>15.0</td>\n",
       "      <td>18.0</td>\n",
       "      <td>King County (Far Southwest)--Federal Way, Des ...</td>\n",
       "      <td>Washington                                    ...</td>\n",
       "    </tr>\n",
       "    <tr>\n",
       "      <th>20</th>\n",
       "      <td>6.0</td>\n",
       "      <td>17</td>\n",
       "      <td>2.0</td>\n",
       "      <td>13.0</td>\n",
       "      <td>13.0</td>\n",
       "      <td>King County (Southwest Central)--Kent City    ...</td>\n",
       "      <td>Washington                                    ...</td>\n",
       "    </tr>\n",
       "    <tr>\n",
       "      <th>24</th>\n",
       "      <td>6.0</td>\n",
       "      <td>18</td>\n",
       "      <td>2.0</td>\n",
       "      <td>15.0</td>\n",
       "      <td>18.0</td>\n",
       "      <td>King County (Central)--Renton City, Fairwood, ...</td>\n",
       "      <td>Washington                                    ...</td>\n",
       "    </tr>\n",
       "    <tr>\n",
       "      <th>25</th>\n",
       "      <td>6.0</td>\n",
       "      <td>16</td>\n",
       "      <td>2.0</td>\n",
       "      <td>12.0</td>\n",
       "      <td>13.0</td>\n",
       "      <td>King County (Central)--Renton City, Fairwood, ...</td>\n",
       "      <td>Washington                                    ...</td>\n",
       "    </tr>\n",
       "    <tr>\n",
       "      <th>33</th>\n",
       "      <td>6.0</td>\n",
       "      <td>17</td>\n",
       "      <td>2.0</td>\n",
       "      <td>11.0</td>\n",
       "      <td>12.0</td>\n",
       "      <td>King County (Southwest)--Auburn City &amp; Lakelan...</td>\n",
       "      <td>Washington                                    ...</td>\n",
       "    </tr>\n",
       "  </tbody>\n",
       "</table>\n",
       "</div>"
      ],
      "text/plain": [
       "    esr  agep  sch  schg  schl  \\\n",
       "18  6.0    19  2.0  15.0  18.0   \n",
       "20  6.0    17  2.0  13.0  13.0   \n",
       "24  6.0    18  2.0  15.0  18.0   \n",
       "25  6.0    16  2.0  12.0  13.0   \n",
       "33  6.0    17  2.0  11.0  12.0   \n",
       "\n",
       "                                            puma_name  \\\n",
       "18  King County (Far Southwest)--Federal Way, Des ...   \n",
       "20  King County (Southwest Central)--Kent City    ...   \n",
       "24  King County (Central)--Renton City, Fairwood, ...   \n",
       "25  King County (Central)--Renton City, Fairwood, ...   \n",
       "33  King County (Southwest)--Auburn City & Lakelan...   \n",
       "\n",
       "                                           state_name  \n",
       "18  Washington                                    ...  \n",
       "20  Washington                                    ...  \n",
       "24  Washington                                    ...  \n",
       "25  Washington                                    ...  \n",
       "33  Washington                                    ...  "
      ]
     },
     "execution_count": 188,
     "metadata": {},
     "output_type": "execute_result"
    }
   ],
=======
   "outputs": [],
   "source": [
    "df_age.head()"
   ]
  },
  {
   "cell_type": "code",
   "execution_count": null,
   "metadata": {
    "ExecuteTime": {
     "end_time": "2020-03-03T17:58:14.840955Z",
     "start_time": "2020-03-03T17:58:14.828300Z"
    }
   },
   "outputs": [],
   "source": [
    "df_age_unique = df_age[(df_age[\"esr\"]==3) | (df_age[\"esr\"]==6)]"
   ]
  },
  {
   "cell_type": "code",
   "execution_count": null,
   "metadata": {
    "ExecuteTime": {
     "end_time": "2020-03-03T17:58:14.865500Z",
     "start_time": "2020-03-03T17:58:14.843769Z"
    }
   },
   "outputs": [],
>>>>>>> 3143cbd9643b27a7d075dc84398442410e03b578
   "source": [
    "df_age_unique.head()"
   ]
  },
  {
   "cell_type": "code",
<<<<<<< HEAD
   "execution_count": 189,
=======
   "execution_count": null,
>>>>>>> 3143cbd9643b27a7d075dc84398442410e03b578
   "metadata": {
    "ExecuteTime": {
     "end_time": "2020-03-05T11:06:25.951010Z",
     "start_time": "2020-03-05T11:06:25.942105Z"
    }
   },
<<<<<<< HEAD
   "outputs": [
    {
     "data": {
      "text/plain": [
       "(1735, 7)"
      ]
     },
     "execution_count": 189,
     "metadata": {},
     "output_type": "execute_result"
    }
   ],
=======
   "outputs": [],
>>>>>>> 3143cbd9643b27a7d075dc84398442410e03b578
   "source": [
    "df_age_unique.shape"
   ]
  },
  {
   "cell_type": "code",
<<<<<<< HEAD
   "execution_count": 190,
=======
   "execution_count": null,
>>>>>>> 3143cbd9643b27a7d075dc84398442410e03b578
   "metadata": {
    "ExecuteTime": {
     "end_time": "2020-03-05T11:06:26.173598Z",
     "start_time": "2020-03-05T11:06:26.159947Z"
    }
   },
   "outputs": [],
   "source": [
    "df_was=pd.read_csv(\"qquery.csv\")"
   ]
  },
  {
   "cell_type": "code",
<<<<<<< HEAD
   "execution_count": 191,
=======
   "execution_count": null,
>>>>>>> 3143cbd9643b27a7d075dc84398442410e03b578
   "metadata": {
    "ExecuteTime": {
     "end_time": "2020-03-05T11:06:26.389588Z",
     "start_time": "2020-03-05T11:06:26.367712Z"
    }
   },
<<<<<<< HEAD
   "outputs": [
    {
     "data": {
      "text/html": [
       "<div>\n",
       "<style scoped>\n",
       "    .dataframe tbody tr th:only-of-type {\n",
       "        vertical-align: middle;\n",
       "    }\n",
       "\n",
       "    .dataframe tbody tr th {\n",
       "        vertical-align: top;\n",
       "    }\n",
       "\n",
       "    .dataframe thead th {\n",
       "        text-align: right;\n",
       "    }\n",
       "</style>\n",
       "<table border=\"1\" class=\"dataframe\">\n",
       "  <thead>\n",
       "    <tr style=\"text-align: right;\">\n",
       "      <th></th>\n",
       "      <th>state_fips</th>\n",
       "      <th>state_name</th>\n",
       "      <th>cpuma0010</th>\n",
       "      <th>puma</th>\n",
       "      <th>geoid</th>\n",
       "      <th>gisjoin</th>\n",
       "      <th>puma_name</th>\n",
       "    </tr>\n",
       "  </thead>\n",
       "  <tbody>\n",
       "    <tr>\n",
       "      <th>0</th>\n",
       "      <td>1</td>\n",
       "      <td>Alabama                                       ...</td>\n",
       "      <td>14</td>\n",
       "      <td>1900</td>\n",
       "      <td>101900</td>\n",
       "      <td>G01001900</td>\n",
       "      <td>Lee County--Auburn City                       ...</td>\n",
       "    </tr>\n",
       "    <tr>\n",
       "      <th>1</th>\n",
       "      <td>1</td>\n",
       "      <td>Alabama                                       ...</td>\n",
       "      <td>16</td>\n",
       "      <td>2300</td>\n",
       "      <td>102300</td>\n",
       "      <td>G01002300</td>\n",
       "      <td>Coffee, Covington, Butler &amp; Crenshaw Counties ...</td>\n",
       "    </tr>\n",
       "    <tr>\n",
       "      <th>2</th>\n",
       "      <td>6</td>\n",
       "      <td>California                                    ...</td>\n",
       "      <td>108</td>\n",
       "      <td>6103</td>\n",
       "      <td>606103</td>\n",
       "      <td>G06006103</td>\n",
       "      <td>Placer County (East/High Country Region)--Aubu...</td>\n",
       "    </tr>\n",
       "    <tr>\n",
       "      <th>3</th>\n",
       "      <td>10</td>\n",
       "      <td>Delaware                                      ...</td>\n",
       "      <td>198</td>\n",
       "      <td>200</td>\n",
       "      <td>1000200</td>\n",
       "      <td>G10000200</td>\n",
       "      <td>Kent County--Dover City                       ...</td>\n",
       "    </tr>\n",
       "    <tr>\n",
       "      <th>4</th>\n",
       "      <td>17</td>\n",
       "      <td>Illinois                                      ...</td>\n",
       "      <td>337</td>\n",
       "      <td>3531</td>\n",
       "      <td>1703531</td>\n",
       "      <td>G17003531</td>\n",
       "      <td>Chicago City (South)--Auburn Gresham, Roseland...</td>\n",
       "    </tr>\n",
       "  </tbody>\n",
       "</table>\n",
       "</div>"
      ],
      "text/plain": [
       "   state_fips                                         state_name  cpuma0010  \\\n",
       "0           1  Alabama                                       ...         14   \n",
       "1           1  Alabama                                       ...         16   \n",
       "2           6  California                                    ...        108   \n",
       "3          10  Delaware                                      ...        198   \n",
       "4          17  Illinois                                      ...        337   \n",
       "\n",
       "   puma    geoid    gisjoin                                          puma_name  \n",
       "0  1900   101900  G01001900  Lee County--Auburn City                       ...  \n",
       "1  2300   102300  G01002300  Coffee, Covington, Butler & Crenshaw Counties ...  \n",
       "2  6103   606103  G06006103  Placer County (East/High Country Region)--Aubu...  \n",
       "3   200  1000200  G10000200  Kent County--Dover City                       ...  \n",
       "4  3531  1703531  G17003531  Chicago City (South)--Auburn Gresham, Roseland...  "
      ]
     },
     "execution_count": 191,
     "metadata": {},
     "output_type": "execute_result"
    }
   ],
=======
   "outputs": [],
>>>>>>> 3143cbd9643b27a7d075dc84398442410e03b578
   "source": [
    "df_was.head()"
   ]
  },
  {
   "cell_type": "code",
<<<<<<< HEAD
   "execution_count": 192,
=======
   "execution_count": 10,
>>>>>>> 3143cbd9643b27a7d075dc84398442410e03b578
   "metadata": {
    "ExecuteTime": {
     "end_time": "2020-03-05T11:06:26.604982Z",
     "start_time": "2020-03-05T11:06:26.593344Z"
    }
   },
   "outputs": [
    {
<<<<<<< HEAD
     "data": {
      "text/plain": [
       "array([11610, 11613, 11614, 11615, 11611, 11612])"
      ]
     },
     "execution_count": 192,
     "metadata": {},
     "output_type": "execute_result"
=======
     "ename": "NameError",
     "evalue": "name 'df_was' is not defined",
     "output_type": "error",
     "traceback": [
      "\u001b[0;31m---------------------------------------------------------------------------\u001b[0m",
      "\u001b[0;31mNameError\u001b[0m                                 Traceback (most recent call last)",
      "\u001b[0;32m<ipython-input-10-286b1d4d235c>\u001b[0m in \u001b[0;36m<module>\u001b[0;34m\u001b[0m\n\u001b[0;32m----> 1\u001b[0;31m \u001b[0mdf_was\u001b[0m\u001b[0;34m[\u001b[0m\u001b[0mdf_was\u001b[0m\u001b[0;34m[\u001b[0m\u001b[0;34m\"state_fips\"\u001b[0m\u001b[0;34m]\u001b[0m\u001b[0;34m==\u001b[0m\u001b[0;36m53\u001b[0m\u001b[0;34m]\u001b[0m\u001b[0;34m[\u001b[0m\u001b[0;34m\"puma\"\u001b[0m\u001b[0;34m]\u001b[0m\u001b[0;34m.\u001b[0m\u001b[0munique\u001b[0m\u001b[0;34m(\u001b[0m\u001b[0;34m)\u001b[0m\u001b[0;34m\u001b[0m\u001b[0;34m\u001b[0m\u001b[0m\n\u001b[0m",
      "\u001b[0;31mNameError\u001b[0m: name 'df_was' is not defined"
     ]
>>>>>>> 3143cbd9643b27a7d075dc84398442410e03b578
    }
   ],
   "source": [
    "df_was[df_was[\"state_fips\"]==53][\"puma\"].unique()\n"
   ]
  },
  {
   "cell_type": "code",
<<<<<<< HEAD
   "execution_count": 193,
=======
   "execution_count": 11,
>>>>>>> 3143cbd9643b27a7d075dc84398442410e03b578
   "metadata": {
    "ExecuteTime": {
     "end_time": "2020-03-05T11:06:28.212272Z",
     "start_time": "2020-03-05T11:06:26.810586Z"
    }
   },
   "outputs": [],
   "source": [
    "df_was2=pd.read_csv(\"ws_rm.csv\")"
   ]
  },
  {
   "cell_type": "code",
<<<<<<< HEAD
   "execution_count": 194,
   "metadata": {
    "ExecuteTime": {
     "end_time": "2020-03-05T11:06:28.238649Z",
     "start_time": "2020-03-05T11:06:28.214378Z"
    }
   },
=======
   "execution_count": 12,
   "metadata": {},
>>>>>>> 3143cbd9643b27a7d075dc84398442410e03b578
   "outputs": [
    {
     "data": {
      "text/html": [
       "<div>\n",
       "<style scoped>\n",
       "    .dataframe tbody tr th:only-of-type {\n",
       "        vertical-align: middle;\n",
       "    }\n",
       "\n",
       "    .dataframe tbody tr th {\n",
       "        vertical-align: top;\n",
       "    }\n",
       "\n",
       "    .dataframe thead th {\n",
       "        text-align: right;\n",
       "    }\n",
       "</style>\n",
       "<table border=\"1\" class=\"dataframe\">\n",
       "  <thead>\n",
       "    <tr style=\"text-align: right;\">\n",
       "      <th></th>\n",
       "      <th>rt</th>\n",
       "      <th>serialno</th>\n",
       "      <th>division</th>\n",
       "      <th>sporder</th>\n",
       "      <th>puma</th>\n",
       "      <th>region</th>\n",
       "      <th>st</th>\n",
       "      <th>adjinc</th>\n",
       "      <th>pwgtp</th>\n",
       "      <th>agep</th>\n",
       "      <th>...</th>\n",
       "      <th>pwgtp71</th>\n",
       "      <th>pwgtp72</th>\n",
       "      <th>pwgtp73</th>\n",
       "      <th>pwgtp74</th>\n",
       "      <th>pwgtp75</th>\n",
       "      <th>pwgtp76</th>\n",
       "      <th>pwgtp77</th>\n",
       "      <th>pwgtp78</th>\n",
       "      <th>pwgtp79</th>\n",
       "      <th>pwgtp80</th>\n",
       "    </tr>\n",
       "  </thead>\n",
       "  <tbody>\n",
       "    <tr>\n",
       "      <th>0</th>\n",
       "      <td>P</td>\n",
       "      <td>2013000000082</td>\n",
       "      <td>9</td>\n",
       "      <td>1</td>\n",
       "      <td>11615</td>\n",
       "      <td>4</td>\n",
       "      <td>53</td>\n",
       "      <td>1061971</td>\n",
       "      <td>90</td>\n",
       "      <td>40</td>\n",
       "      <td>...</td>\n",
       "      <td>119</td>\n",
       "      <td>152</td>\n",
       "      <td>33</td>\n",
       "      <td>30</td>\n",
       "      <td>100</td>\n",
       "      <td>77</td>\n",
       "      <td>115</td>\n",
       "      <td>85</td>\n",
       "      <td>114</td>\n",
       "      <td>29</td>\n",
       "    </tr>\n",
       "    <tr>\n",
       "      <th>1</th>\n",
       "      <td>P</td>\n",
       "      <td>2013000000082</td>\n",
       "      <td>9</td>\n",
       "      <td>2</td>\n",
       "      <td>11615</td>\n",
       "      <td>4</td>\n",
       "      <td>53</td>\n",
       "      <td>1061971</td>\n",
       "      <td>78</td>\n",
       "      <td>11</td>\n",
       "      <td>...</td>\n",
       "      <td>124</td>\n",
       "      <td>148</td>\n",
       "      <td>21</td>\n",
       "      <td>30</td>\n",
       "      <td>93</td>\n",
       "      <td>75</td>\n",
       "      <td>91</td>\n",
       "      <td>79</td>\n",
       "      <td>116</td>\n",
       "      <td>31</td>\n",
       "    </tr>\n",
       "    <tr>\n",
       "      <th>2</th>\n",
       "      <td>P</td>\n",
       "      <td>2013000000082</td>\n",
       "      <td>9</td>\n",
       "      <td>3</td>\n",
       "      <td>11615</td>\n",
       "      <td>4</td>\n",
       "      <td>53</td>\n",
       "      <td>1061971</td>\n",
       "      <td>60</td>\n",
       "      <td>9</td>\n",
       "      <td>...</td>\n",
       "      <td>112</td>\n",
       "      <td>102</td>\n",
       "      <td>20</td>\n",
       "      <td>23</td>\n",
       "      <td>58</td>\n",
       "      <td>50</td>\n",
       "      <td>80</td>\n",
       "      <td>58</td>\n",
       "      <td>102</td>\n",
       "      <td>17</td>\n",
       "    </tr>\n",
       "    <tr>\n",
       "      <th>3</th>\n",
       "      <td>P</td>\n",
       "      <td>2013000000082</td>\n",
       "      <td>9</td>\n",
       "      <td>4</td>\n",
       "      <td>11615</td>\n",
       "      <td>4</td>\n",
       "      <td>53</td>\n",
       "      <td>1061971</td>\n",
       "      <td>109</td>\n",
       "      <td>48</td>\n",
       "      <td>...</td>\n",
       "      <td>127</td>\n",
       "      <td>177</td>\n",
       "      <td>46</td>\n",
       "      <td>37</td>\n",
       "      <td>110</td>\n",
       "      <td>123</td>\n",
       "      <td>135</td>\n",
       "      <td>95</td>\n",
       "      <td>132</td>\n",
       "      <td>41</td>\n",
       "    </tr>\n",
       "    <tr>\n",
       "      <th>4</th>\n",
       "      <td>P</td>\n",
       "      <td>2013000000082</td>\n",
       "      <td>9</td>\n",
       "      <td>5</td>\n",
       "      <td>11615</td>\n",
       "      <td>4</td>\n",
       "      <td>53</td>\n",
       "      <td>1061971</td>\n",
       "      <td>108</td>\n",
       "      <td>48</td>\n",
       "      <td>...</td>\n",
       "      <td>127</td>\n",
       "      <td>176</td>\n",
       "      <td>47</td>\n",
       "      <td>37</td>\n",
       "      <td>110</td>\n",
       "      <td>123</td>\n",
       "      <td>135</td>\n",
       "      <td>96</td>\n",
       "      <td>133</td>\n",
       "      <td>41</td>\n",
       "    </tr>\n",
       "  </tbody>\n",
       "</table>\n",
       "<p>5 rows × 286 columns</p>\n",
       "</div>"
      ],
      "text/plain": [
       "  rt       serialno  division  sporder   puma  region  st   adjinc  pwgtp  \\\n",
       "0  P  2013000000082         9        1  11615       4  53  1061971     90   \n",
       "1  P  2013000000082         9        2  11615       4  53  1061971     78   \n",
       "2  P  2013000000082         9        3  11615       4  53  1061971     60   \n",
       "3  P  2013000000082         9        4  11615       4  53  1061971    109   \n",
       "4  P  2013000000082         9        5  11615       4  53  1061971    108   \n",
       "\n",
       "   agep   ...     pwgtp71  pwgtp72  pwgtp73  pwgtp74  pwgtp75  pwgtp76  \\\n",
       "0    40   ...         119      152       33       30      100       77   \n",
       "1    11   ...         124      148       21       30       93       75   \n",
       "2     9   ...         112      102       20       23       58       50   \n",
       "3    48   ...         127      177       46       37      110      123   \n",
       "4    48   ...         127      176       47       37      110      123   \n",
       "\n",
       "   pwgtp77  pwgtp78  pwgtp79  pwgtp80  \n",
       "0      115       85      114       29  \n",
       "1       91       79      116       31  \n",
       "2       80       58      102       17  \n",
       "3      135       95      132       41  \n",
       "4      135       96      133       41  \n",
       "\n",
       "[5 rows x 286 columns]"
      ]
     },
<<<<<<< HEAD
     "execution_count": 194,
=======
     "execution_count": 12,
>>>>>>> 3143cbd9643b27a7d075dc84398442410e03b578
     "metadata": {},
     "output_type": "execute_result"
    }
   ],
   "source": [
    "df_was2.head()"
   ]
  },
  {
   "cell_type": "code",
<<<<<<< HEAD
   "execution_count": 195,
   "metadata": {
    "ExecuteTime": {
     "end_time": "2020-03-05T11:06:28.251369Z",
     "start_time": "2020-03-05T11:06:28.244045Z"
    }
   },
=======
   "execution_count": 13,
   "metadata": {},
>>>>>>> 3143cbd9643b27a7d075dc84398442410e03b578
   "outputs": [
    {
     "data": {
      "text/plain": [
       "(34145, 286)"
      ]
     },
<<<<<<< HEAD
     "execution_count": 195,
=======
     "execution_count": 13,
>>>>>>> 3143cbd9643b27a7d075dc84398442410e03b578
     "metadata": {},
     "output_type": "execute_result"
    }
   ],
   "source": [
    "df_was2.shape"
   ]
  },
  {
   "cell_type": "code",
<<<<<<< HEAD
   "execution_count": 196,
   "metadata": {
    "ExecuteTime": {
     "end_time": "2020-03-05T11:06:28.279557Z",
     "start_time": "2020-03-05T11:06:28.255249Z"
    }
   },
=======
   "execution_count": 14,
   "metadata": {},
   "outputs": [],
   "source": [
    "df_age = df_was2[(df_was2[\"agep\"]>=16)&(df_was2[\"agep\"]<=24)]"
   ]
  },
  {
   "cell_type": "code",
   "execution_count": 15,
   "metadata": {},
>>>>>>> 3143cbd9643b27a7d075dc84398442410e03b578
   "outputs": [],
   "source": [
    "df_age = df_was2[(df_was2[\"agep\"] >= 16) & (df_was2[\"agep\"] <= 24)]"
   ]
  },
  {
   "cell_type": "code",
<<<<<<< HEAD
   "execution_count": 197,
   "metadata": {
    "ExecuteTime": {
     "end_time": "2020-03-05T11:06:28.444559Z",
     "start_time": "2020-03-05T11:06:28.404008Z"
    }
   },
=======
   "execution_count": 16,
   "metadata": {},
   "outputs": [
    {
     "data": {
      "text/plain": [
       "(1735, 286)"
      ]
     },
     "execution_count": 16,
     "metadata": {},
     "output_type": "execute_result"
    }
   ],
   "source": [
    "df_work.shape"
   ]
  },
  {
   "cell_type": "code",
   "execution_count": 17,
   "metadata": {},
>>>>>>> 3143cbd9643b27a7d075dc84398442410e03b578
   "outputs": [
    {
     "data": {
      "text/html": [
       "<div>\n",
       "<style scoped>\n",
       "    .dataframe tbody tr th:only-of-type {\n",
       "        vertical-align: middle;\n",
       "    }\n",
       "\n",
       "    .dataframe tbody tr th {\n",
       "        vertical-align: top;\n",
       "    }\n",
       "\n",
       "    .dataframe thead th {\n",
       "        text-align: right;\n",
       "    }\n",
       "</style>\n",
       "<table border=\"1\" class=\"dataframe\">\n",
       "  <thead>\n",
       "    <tr style=\"text-align: right;\">\n",
       "      <th></th>\n",
       "      <th>rt</th>\n",
       "      <th>serialno</th>\n",
       "      <th>division</th>\n",
       "      <th>sporder</th>\n",
       "      <th>puma</th>\n",
       "      <th>region</th>\n",
       "      <th>st</th>\n",
       "      <th>adjinc</th>\n",
       "      <th>pwgtp</th>\n",
       "      <th>agep</th>\n",
       "      <th>...</th>\n",
       "      <th>pwgtp71</th>\n",
       "      <th>pwgtp72</th>\n",
       "      <th>pwgtp73</th>\n",
       "      <th>pwgtp74</th>\n",
       "      <th>pwgtp75</th>\n",
       "      <th>pwgtp76</th>\n",
       "      <th>pwgtp77</th>\n",
       "      <th>pwgtp78</th>\n",
       "      <th>pwgtp79</th>\n",
       "      <th>pwgtp80</th>\n",
       "    </tr>\n",
       "  </thead>\n",
       "  <tbody>\n",
       "    <tr>\n",
       "      <th>23</th>\n",
       "      <td>P</td>\n",
       "      <td>2013000007063</td>\n",
       "      <td>9</td>\n",
       "      <td>2</td>\n",
       "      <td>11612</td>\n",
       "      <td>4</td>\n",
       "      <td>53</td>\n",
       "      <td>1061971</td>\n",
       "      <td>30</td>\n",
       "      <td>19</td>\n",
       "      <td>...</td>\n",
       "      <td>13</td>\n",
       "      <td>44</td>\n",
       "      <td>23</td>\n",
       "      <td>39</td>\n",
       "      <td>26</td>\n",
       "      <td>40</td>\n",
       "      <td>41</td>\n",
       "      <td>10</td>\n",
       "      <td>32</td>\n",
       "      <td>13</td>\n",
       "    </tr>\n",
       "    <tr>\n",
       "      <th>25</th>\n",
       "      <td>P</td>\n",
       "      <td>2013000008046</td>\n",
       "      <td>9</td>\n",
       "      <td>2</td>\n",
       "      <td>11613</td>\n",
       "      <td>4</td>\n",
       "      <td>53</td>\n",
       "      <td>1061971</td>\n",
       "      <td>36</td>\n",
       "      <td>17</td>\n",
       "      <td>...</td>\n",
       "      <td>35</td>\n",
       "      <td>39</td>\n",
       "      <td>9</td>\n",
       "      <td>32</td>\n",
       "      <td>43</td>\n",
       "      <td>55</td>\n",
       "      <td>8</td>\n",
       "      <td>54</td>\n",
       "      <td>53</td>\n",
       "      <td>38</td>\n",
       "    </tr>\n",
       "    <tr>\n",
       "      <th>29</th>\n",
       "      <td>P</td>\n",
       "      <td>2013000010953</td>\n",
       "      <td>9</td>\n",
       "      <td>3</td>\n",
       "      <td>11610</td>\n",
       "      <td>4</td>\n",
       "      <td>53</td>\n",
       "      <td>1061971</td>\n",
       "      <td>15</td>\n",
       "      <td>18</td>\n",
       "      <td>...</td>\n",
       "      <td>25</td>\n",
       "      <td>17</td>\n",
       "      <td>21</td>\n",
       "      <td>28</td>\n",
       "      <td>25</td>\n",
       "      <td>14</td>\n",
       "      <td>29</td>\n",
       "      <td>21</td>\n",
       "      <td>9</td>\n",
       "      <td>6</td>\n",
       "    </tr>\n",
       "    <tr>\n",
       "      <th>30</th>\n",
       "      <td>P</td>\n",
       "      <td>2013000010953</td>\n",
       "      <td>9</td>\n",
       "      <td>4</td>\n",
       "      <td>11610</td>\n",
       "      <td>4</td>\n",
       "      <td>53</td>\n",
       "      <td>1061971</td>\n",
       "      <td>9</td>\n",
       "      <td>16</td>\n",
       "      <td>...</td>\n",
       "      <td>9</td>\n",
       "      <td>11</td>\n",
       "      <td>10</td>\n",
       "      <td>13</td>\n",
       "      <td>13</td>\n",
       "      <td>10</td>\n",
       "      <td>11</td>\n",
       "      <td>16</td>\n",
       "      <td>8</td>\n",
       "      <td>2</td>\n",
       "    </tr>\n",
       "    <tr>\n",
       "      <th>38</th>\n",
       "      <td>P</td>\n",
       "      <td>2013000011255</td>\n",
       "      <td>9</td>\n",
       "      <td>2</td>\n",
       "      <td>11614</td>\n",
       "      <td>4</td>\n",
       "      <td>53</td>\n",
       "      <td>1061971</td>\n",
       "      <td>13</td>\n",
       "      <td>17</td>\n",
       "      <td>...</td>\n",
       "      <td>24</td>\n",
       "      <td>13</td>\n",
       "      <td>4</td>\n",
       "      <td>3</td>\n",
       "      <td>4</td>\n",
       "      <td>13</td>\n",
       "      <td>24</td>\n",
       "      <td>4</td>\n",
       "      <td>15</td>\n",
       "      <td>13</td>\n",
       "    </tr>\n",
       "  </tbody>\n",
       "</table>\n",
       "<p>5 rows × 286 columns</p>\n",
       "</div>"
      ],
      "text/plain": [
       "   rt       serialno  division  sporder   puma  region  st   adjinc  pwgtp  \\\n",
       "23  P  2013000007063         9        2  11612       4  53  1061971     30   \n",
       "25  P  2013000008046         9        2  11613       4  53  1061971     36   \n",
       "29  P  2013000010953         9        3  11610       4  53  1061971     15   \n",
       "30  P  2013000010953         9        4  11610       4  53  1061971      9   \n",
       "38  P  2013000011255         9        2  11614       4  53  1061971     13   \n",
       "\n",
       "    agep   ...     pwgtp71  pwgtp72  pwgtp73  pwgtp74  pwgtp75  pwgtp76  \\\n",
       "23    19   ...          13       44       23       39       26       40   \n",
       "25    17   ...          35       39        9       32       43       55   \n",
       "29    18   ...          25       17       21       28       25       14   \n",
       "30    16   ...           9       11       10       13       13       10   \n",
       "38    17   ...          24       13        4        3        4       13   \n",
       "\n",
       "    pwgtp77  pwgtp78  pwgtp79  pwgtp80  \n",
       "23       41       10       32       13  \n",
       "25        8       54       53       38  \n",
       "29       29       21        9        6  \n",
       "30       11       16        8        2  \n",
       "38       24        4       15       13  \n",
       "\n",
       "[5 rows x 286 columns]"
      ]
     },
     "execution_count": 197,
     "metadata": {},
     "output_type": "execute_result"
    }
   ],
   "source": [
    "df_work = df_age[(df_age[\"esr\"] == 3) | (df_age[\"esr\"] == 6)]\n",
    "df_work.head()"
   ]
  },
  {
   "cell_type": "code",
   "execution_count": 198,
   "metadata": {
    "ExecuteTime": {
     "end_time": "2020-03-05T11:06:28.609275Z",
     "start_time": "2020-03-05T11:06:28.596552Z"
    }
   },
   "outputs": [
    {
     "data": {
      "text/plain": [
       "1433"
      ]
     },
     "execution_count": 198,
     "metadata": {},
     "output_type": "execute_result"
    }
   ],
   "source": [
    "df_work[\"serialno\"].nunique() # need to figured out if serialno is the identifier of the OYs "
   ]
  },
  {
   "cell_type": "code",
   "execution_count": 199,
   "metadata": {
    "ExecuteTime": {
     "end_time": "2020-03-05T11:06:29.106698Z",
     "start_time": "2020-03-05T11:06:29.096730Z"
    }
   },
   "outputs": [
    {
     "data": {
      "text/plain": [
       "1735"
      ]
     },
     "execution_count": 199,
     "metadata": {},
     "output_type": "execute_result"
    }
   ],
   "source": [
    "df_work.shape[0] # add text explaining what is this result"
   ]
  },
  {
   "cell_type": "markdown",
   "metadata": {},
   "source": [
    "2.2) Breakdown by PUMA"
   ]
  },
  {
   "cell_type": "code",
   "execution_count": 293,
   "metadata": {
    "ExecuteTime": {
     "end_time": "2020-03-05T13:11:38.058923Z",
     "start_time": "2020-03-05T13:11:38.046550Z"
    }
   },
   "outputs": [
    {
     "data": {
      "text/html": [
       "<div>\n",
       "<style scoped>\n",
       "    .dataframe tbody tr th:only-of-type {\n",
       "        vertical-align: middle;\n",
       "    }\n",
       "\n",
       "    .dataframe tbody tr th {\n",
       "        vertical-align: top;\n",
       "    }\n",
       "\n",
       "    .dataframe thead th {\n",
       "        text-align: right;\n",
       "    }\n",
       "</style>\n",
       "<table border=\"1\" class=\"dataframe\">\n",
       "  <thead>\n",
       "    <tr style=\"text-align: right;\">\n",
       "      <th></th>\n",
       "      <th>puma</th>\n",
       "      <th>serialno</th>\n",
       "    </tr>\n",
       "  </thead>\n",
       "  <tbody>\n",
       "    <tr>\n",
       "      <th>0</th>\n",
       "      <td>11610</td>\n",
       "      <td>206</td>\n",
       "    </tr>\n",
       "    <tr>\n",
       "      <th>1</th>\n",
       "      <td>11611</td>\n",
       "      <td>226</td>\n",
       "    </tr>\n",
       "    <tr>\n",
       "      <th>2</th>\n",
       "      <td>11612</td>\n",
       "      <td>210</td>\n",
       "    </tr>\n",
       "    <tr>\n",
       "      <th>3</th>\n",
       "      <td>11613</td>\n",
       "      <td>264</td>\n",
       "    </tr>\n",
       "    <tr>\n",
       "      <th>4</th>\n",
       "      <td>11614</td>\n",
       "      <td>262</td>\n",
       "    </tr>\n",
       "    <tr>\n",
       "      <th>5</th>\n",
       "      <td>11615</td>\n",
       "      <td>265</td>\n",
       "    </tr>\n",
       "  </tbody>\n",
       "</table>\n",
       "</div>"
      ],
      "text/plain": [
       "    puma  serialno\n",
       "0  11610       206\n",
       "1  11611       226\n",
       "2  11612       210\n",
       "3  11613       264\n",
       "4  11614       262\n",
       "5  11615       265"
      ]
     },
<<<<<<< HEAD
     "execution_count": 293,
=======
     "execution_count": 17,
>>>>>>> 3143cbd9643b27a7d075dc84398442410e03b578
     "metadata": {},
     "output_type": "execute_result"
    }
   ],
   "source": [
    "df_work.groupby([\"puma\"])['serialno'].nunique().reset_index()"
   ]
  },
  {
   "cell_type": "markdown",
   "metadata": {
    "ExecuteTime": {
     "end_time": "2020-03-05T09:50:52.207021Z",
     "start_time": "2020-03-05T09:50:52.182662Z"
    }
   },
   "source": [
    "3)“Opportunity Youth Status by Age” table "
   ]
  },
  {
   "cell_type": "markdown",
   "metadata": {
    "ExecuteTime": {
     "end_time": "2020-03-05T13:10:29.674994Z",
     "start_time": "2020-03-05T13:10:29.668409Z"
    }
   },
   "source": [
    "- First table : Total Population"
   ]
  },
  {
   "cell_type": "markdown",
   "metadata": {},
   "source": [
    "- opportunity youth count by range of age"
   ]
  },
  {
   "cell_type": "code",
   "execution_count": 290,
   "metadata": {
    "ExecuteTime": {
     "end_time": "2020-03-05T13:01:46.337435Z",
     "start_time": "2020-03-05T13:01:46.326057Z"
    }
   },
   "outputs": [],
   "source": [
    "df_1618 = df_work[(df_work[\"agep\"]>=16)&(df_work[\"agep\"]<=18)]"
   ]
  },
  {
   "cell_type": "code",
   "execution_count": 202,
   "metadata": {
    "ExecuteTime": {
     "end_time": "2020-03-05T11:06:30.122566Z",
     "start_time": "2020-03-05T11:06:30.109970Z"
    }
   },
   "outputs": [
    {
     "data": {
      "text/plain": [
       "1020"
      ]
     },
     "execution_count": 202,
     "metadata": {},
     "output_type": "execute_result"
    }
   ],
   "source": [
    "df_1618[\"agep\"].count()"
   ]
  },
  {
   "cell_type": "code",
   "execution_count": 203,
   "metadata": {
    "ExecuteTime": {
     "end_time": "2020-03-05T11:06:30.310162Z",
     "start_time": "2020-03-05T11:06:30.303478Z"
    }
   },
   "outputs": [],
   "source": [
    "df_1921 = df_work[(df_work[\"agep\"]>=19)&(df_work[\"agep\"]<=21)]"
   ]
  },
  {
   "cell_type": "code",
   "execution_count": 204,
   "metadata": {
    "ExecuteTime": {
     "end_time": "2020-03-05T11:06:30.505947Z",
     "start_time": "2020-03-05T11:06:30.497141Z"
    }
   },
   "outputs": [
    {
     "data": {
      "text/plain": [
       "416"
      ]
     },
     "execution_count": 204,
     "metadata": {},
     "output_type": "execute_result"
    }
   ],
   "source": [
    "df_1921[\"agep\"].count()"
   ]
  },
  {
   "cell_type": "code",
   "execution_count": 205,
   "metadata": {
    "ExecuteTime": {
     "end_time": "2020-03-05T11:06:30.705743Z",
     "start_time": "2020-03-05T11:06:30.696489Z"
    }
   },
   "outputs": [],
   "source": [
    "df_2224 = df_work[(df_work[\"agep\"]>=22)&(df_work[\"agep\"]<=24)]"
   ]
  },
  {
   "cell_type": "code",
   "execution_count": 206,
   "metadata": {
    "ExecuteTime": {
     "end_time": "2020-03-05T11:06:30.884825Z",
     "start_time": "2020-03-05T11:06:30.877868Z"
    }
   },
   "outputs": [
    {
     "data": {
      "text/plain": [
       "299"
      ]
     },
     "execution_count": 206,
     "metadata": {},
     "output_type": "execute_result"
    }
   ],
   "source": [
    "df_2224[\"agep\"].count()"
   ]
  },
  {
   "cell_type": "markdown",
   "metadata": {
    "ExecuteTime": {
     "end_time": "2020-03-05T11:51:56.827903Z",
     "start_time": "2020-03-05T11:51:56.817995Z"
    }
   },
   "source": [
    "- number of working without diploma for each range of age"
   ]
  },
  {
   "cell_type": "code",
   "execution_count": 280,
   "metadata": {
    "ExecuteTime": {
     "end_time": "2020-03-05T12:07:59.515055Z",
     "start_time": "2020-03-05T12:07:59.505386Z"
    }
   },
   "outputs": [],
   "source": [
    "df_3 = df2.loc[((df2['schl'] <=15)&((df2['esr']) <=2) | (df2['esr']==4) | (df2['esr']==5))]"
   ]
  },
  {
   "cell_type": "code",
   "execution_count": 281,
   "metadata": {
    "ExecuteTime": {
     "end_time": "2020-03-05T12:07:59.771604Z",
     "start_time": "2020-03-05T12:07:59.756521Z"
    }
   },
   "outputs": [
    {
     "data": {
      "text/plain": [
       "187"
      ]
     },
     "execution_count": 281,
     "metadata": {},
     "output_type": "execute_result"
    }
   ],
   "source": [
    "len(df_3[(df_3[\"agep\"]>=16)&(df_3[\"agep\"]<=18)])"
   ]
  },
  {
   "cell_type": "code",
   "execution_count": 282,
   "metadata": {
    "ExecuteTime": {
     "end_time": "2020-03-05T12:08:00.062245Z",
     "start_time": "2020-03-05T12:08:00.052268Z"
    }
   },
   "outputs": [
    {
     "data": {
      "text/plain": [
       "61"
      ]
     },
     "execution_count": 282,
     "metadata": {},
     "output_type": "execute_result"
    }
   ],
   "source": [
    "len(df_3[(df_3[\"agep\"]>=19)&(df_3[\"agep\"]<=21)])"
   ]
  },
  {
   "cell_type": "code",
   "execution_count": 283,
   "metadata": {
    "ExecuteTime": {
     "end_time": "2020-03-05T12:08:00.309050Z",
     "start_time": "2020-03-05T12:08:00.298154Z"
    }
   },
   "outputs": [
    {
     "data": {
      "text/plain": [
       "67"
      ]
     },
     "execution_count": 283,
     "metadata": {},
     "output_type": "execute_result"
    }
   ],
   "source": [
    "len(df_3[(df_3[\"agep\"]>=22)&(df_3[\"agep\"]<=24)])"
   ]
  },
  {
   "cell_type": "markdown",
   "metadata": {
    "ExecuteTime": {
     "end_time": "2020-03-05T12:46:33.215828Z",
     "start_time": "2020-03-05T12:46:33.209570Z"
    }
   },
   "source": [
    "- not an opportunity youth"
   ]
  },
  {
   "cell_type": "code",
   "execution_count": 286,
   "metadata": {
    "ExecuteTime": {
     "end_time": "2020-03-05T12:49:23.684904Z",
     "start_time": "2020-03-05T12:49:23.675950Z"
    }
   },
   "outputs": [],
   "source": [
    "df_4 = df2.loc[((df2['esr']!= 3) & (df2['esr'] !=6))]"
   ]
  },
  {
   "cell_type": "code",
   "execution_count": 287,
   "metadata": {
    "ExecuteTime": {
     "end_time": "2020-03-05T12:50:19.504984Z",
     "start_time": "2020-03-05T12:50:19.495711Z"
    }
   },
   "outputs": [
    {
     "data": {
      "text/plain": [
       "293"
      ]
     },
     "execution_count": 287,
     "metadata": {},
     "output_type": "execute_result"
    }
   ],
   "source": [
    "len(df_4[(df_4[\"agep\"]>=16)&(df_4[\"agep\"]<=18)])"
   ]
  },
  {
   "cell_type": "code",
   "execution_count": 288,
   "metadata": {
    "ExecuteTime": {
     "end_time": "2020-03-05T12:50:37.998180Z",
     "start_time": "2020-03-05T12:50:37.987914Z"
    }
   },
   "outputs": [
    {
     "data": {
      "text/plain": [
       "607"
      ]
     },
     "execution_count": 288,
     "metadata": {},
     "output_type": "execute_result"
    }
   ],
   "source": [
    "len(df_4[(df_4[\"agep\"]>=19)&(df_4[\"agep\"]<=21)])"
   ]
  },
  {
   "cell_type": "code",
   "execution_count": 289,
   "metadata": {
    "ExecuteTime": {
     "end_time": "2020-03-05T12:50:55.766770Z",
     "start_time": "2020-03-05T12:50:55.757022Z"
    }
   },
   "outputs": [
    {
     "data": {
      "text/plain": [
       "847"
      ]
     },
     "execution_count": 289,
     "metadata": {},
     "output_type": "execute_result"
    }
   ],
   "source": [
    "len(df_4[(df_4[\"agep\"]>=22)&(df_4[\"agep\"]<=24)])"
   ]
  },
  {
   "cell_type": "markdown",
   "metadata": {
    "ExecuteTime": {
     "end_time": "2020-03-05T13:15:49.605430Z",
     "start_time": "2020-03-05T13:15:49.599062Z"
    }
   },
   "source": [
    "- Second Table: Opportunity Youth"
   ]
  },
  {
   "cell_type": "markdown",
   "metadata": {
    "ExecuteTime": {
     "end_time": "2020-03-05T13:18:19.011080Z",
     "start_time": "2020-03-05T13:18:19.003404Z"
    }
   },
   "source": [
    "- no diploma"
   ]
  },
  {
   "cell_type": "code",
   "execution_count": null,
   "metadata": {},
   "outputs": [],
   "source": []
  }
 ],
 "metadata": {
  "kernelspec": {
   "display_name": "Python 3",
   "language": "python",
   "name": "python3"
  },
  "language_info": {
   "codemirror_mode": {
    "name": "ipython",
    "version": 3
   },
   "file_extension": ".py",
   "mimetype": "text/x-python",
   "name": "python",
   "nbconvert_exporter": "python",
   "pygments_lexer": "ipython3",
   "version": "3.7.4"
  }
 },
 "nbformat": 4,
 "nbformat_minor": 2
}
